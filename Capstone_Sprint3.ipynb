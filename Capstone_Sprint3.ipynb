version https://git-lfs.github.com/spec/v1
oid sha256:102091e0a4fbd9effa7b2a56751340e902128d07b46be16516884fab1b40a98f
size 59921009
