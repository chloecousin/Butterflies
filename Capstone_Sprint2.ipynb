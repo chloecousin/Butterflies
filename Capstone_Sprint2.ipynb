version https://git-lfs.github.com/spec/v1
oid sha256:149b79a943929a9982765e742d89be607b8edd30356156f9c5e6bc9268b02b2e
size 58150705
