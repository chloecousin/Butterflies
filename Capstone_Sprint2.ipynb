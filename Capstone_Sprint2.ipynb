version https://git-lfs.github.com/spec/v1
oid sha256:36d14e5ec1224b39528ba7abaf7386a5909f1c67307167371a452c8a57bb6ec1
size 58150106
