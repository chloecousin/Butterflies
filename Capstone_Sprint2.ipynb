{
 "cells": [
  {
   "cell_type": "markdown",
   "id": "1aff8c05-d5f7-4b05-b76c-4a7bf36c3110",
   "metadata": {},
   "source": [
    "# The Butterfly Effect"
   ]
  },
  {
   "cell_type": "markdown",
   "id": "357063b7-4a07-4a84-a1e7-f0b501a5544f",
   "metadata": {},
   "source": [
    "Chloe Cousin - Online Jan 24 Data Science cohort\n",
    "\n",
    "- __Sprint__: 2 - more advanced preprocessing, EDA and baseline model creation\n",
    "- __Date__: April 2, 2024"
   ]
  },
  {
   "cell_type": "markdown",
   "id": "ebb7f38a-0aab-4047-a51f-9f424e622c31",
   "metadata": {},
   "source": [
    "# Introduction"
   ]
  },
  {
   "cell_type": "markdown",
   "id": "dc800aab-3188-483f-b796-1d982eed797c",
   "metadata": {},
   "source": [
    "## Imports"
   ]
  },
  {
   "cell_type": "code",
   "execution_count": 94,
   "id": "6fd7ebcc-554c-476a-9f71-83c1d3f3efcc",
   "metadata": {},
   "outputs": [],
   "source": [
    "# Base packages\n",
    "import pandas as pd\n",
    "import numpy as np\n",
    "\n",
    "# Data viz\n",
    "import matplotlib.pyplot as plt\n",
    "import seaborn as sns\n",
    "import plotly.express as px\n",
    "import plotly.graph_objects as go\n",
    "from plotly.subplots import make_subplots\n",
    "\n",
    "# Stats\n",
    "from scipy import stats\n",
    "\n",
    "# Time Series\n",
    "from statsmodels.api import tsa\n",
    "from statsmodels.graphics.tsaplots import month_plot\n",
    "from statsmodels.graphics.tsaplots import plot_acf, plot_pacf\n",
    "from statsmodels.tsa.statespace.sarimax import SARIMAX"
   ]
  },
  {
   "cell_type": "markdown",
   "id": "b9793ae5-d32e-4159-abb3-a98793777993",
   "metadata": {},
   "source": [
    "## Datasets"
   ]
  },
  {
   "cell_type": "markdown",
   "id": "c5f2ec0b-ca77-4ad9-8977-efbe03785793",
   "metadata": {},
   "source": [
    "### D1 - Butterfly sightings / Traits / Vulnerable Species\n",
    "\n",
    "This dataset has been preprocessed in Sprint 1 (see 'Capstone - Sprint 1' Jupyter notebook), we are importing the cleaned file here.\n",
    "\n",
    "NOTE : EXPLIQUER CE QUI A ETE FAIT"
   ]
  },
  {
   "cell_type": "code",
   "execution_count": 13,
   "id": "ec508745-b55a-4bf3-91d5-ff804e2b769d",
   "metadata": {},
   "outputs": [],
   "source": [
    "df = pd.read_csv('data/df_NBN_UKBMS4.csv')"
   ]
  },
  {
   "cell_type": "code",
   "execution_count": 3,
   "id": "80cc0551-28f4-4cfe-8560-4279d9ac3cac",
   "metadata": {},
   "outputs": [],
   "source": [
    "pd.set_option('display.max_columns', None)"
   ]
  },
  {
   "cell_type": "code",
   "execution_count": 14,
   "id": "fa145dee-717c-419a-84fd-e6c477fe2e97",
   "metadata": {},
   "outputs": [
    {
     "data": {
      "text/html": [
       "<div>\n",
       "<style scoped>\n",
       "    .dataframe tbody tr th:only-of-type {\n",
       "        vertical-align: middle;\n",
       "    }\n",
       "\n",
       "    .dataframe tbody tr th {\n",
       "        vertical-align: top;\n",
       "    }\n",
       "\n",
       "    .dataframe thead th {\n",
       "        text-align: right;\n",
       "    }\n",
       "</style>\n",
       "<table border=\"1\" class=\"dataframe\">\n",
       "  <thead>\n",
       "    <tr style=\"text-align: right;\">\n",
       "      <th></th>\n",
       "      <th>Unnamed: 0</th>\n",
       "      <th>Occurrence_ID</th>\n",
       "      <th>Scientific_name</th>\n",
       "      <th>Common_name</th>\n",
       "      <th>Start_date</th>\n",
       "      <th>Start_date_day</th>\n",
       "      <th>Start_date_month</th>\n",
       "      <th>Start_date_year</th>\n",
       "      <th>OSGR</th>\n",
       "      <th>Latitude_WGS84</th>\n",
       "      <th>Longitude_WGS84</th>\n",
       "      <th>Family</th>\n",
       "      <th>Genus</th>\n",
       "      <th>OSGR_100km</th>\n",
       "      <th>OSGR_10km</th>\n",
       "      <th>OSGR_2km</th>\n",
       "      <th>OSGR_1km</th>\n",
       "      <th>State/Province</th>\n",
       "      <th>WS_L_Fem</th>\n",
       "      <th>WS_U_Fem</th>\n",
       "      <th>WS_L_Mal</th>\n",
       "      <th>WS_U_Mal</th>\n",
       "      <th>Jan</th>\n",
       "      <th>Feb</th>\n",
       "      <th>Mar</th>\n",
       "      <th>Apr</th>\n",
       "      <th>May</th>\n",
       "      <th>Jun</th>\n",
       "      <th>Jul</th>\n",
       "      <th>Aug</th>\n",
       "      <th>Sep</th>\n",
       "      <th>Oct</th>\n",
       "      <th>Nov</th>\n",
       "      <th>Dec</th>\n",
       "      <th>FlightDuration</th>\n",
       "      <th>Voltinism</th>\n",
       "      <th>CanopyAffinity</th>\n",
       "      <th>EdgeAffinity</th>\n",
       "      <th>MoistureAffinity</th>\n",
       "      <th>DisturbanceAffinity</th>\n",
       "      <th>NumberOfHostplantFamilies</th>\n",
       "      <th>Red_List_category</th>\n",
       "      <th>2010_Red_List_category</th>\n",
       "      <th>Year_Month</th>\n",
       "    </tr>\n",
       "  </thead>\n",
       "  <tbody>\n",
       "    <tr>\n",
       "      <th>0</th>\n",
       "      <td>0</td>\n",
       "      <td>5616398</td>\n",
       "      <td>Gonepteryx rhamni</td>\n",
       "      <td>Brimstone</td>\n",
       "      <td>2009-03-16</td>\n",
       "      <td>16</td>\n",
       "      <td>3</td>\n",
       "      <td>2009</td>\n",
       "      <td>TL2550</td>\n",
       "      <td>52.138550</td>\n",
       "      <td>-0.167627</td>\n",
       "      <td>Pieridae</td>\n",
       "      <td>Gonepteryx</td>\n",
       "      <td>TL</td>\n",
       "      <td>TL25</td>\n",
       "      <td>TL25K</td>\n",
       "      <td>TL2550</td>\n",
       "      <td>England</td>\n",
       "      <td>5.2</td>\n",
       "      <td>6.40</td>\n",
       "      <td>5.2</td>\n",
       "      <td>6.40</td>\n",
       "      <td>1.0</td>\n",
       "      <td>1.0</td>\n",
       "      <td>1.0</td>\n",
       "      <td>1.0</td>\n",
       "      <td>1.0</td>\n",
       "      <td>1.0</td>\n",
       "      <td>1.0</td>\n",
       "      <td>1.0</td>\n",
       "      <td>1.0</td>\n",
       "      <td>1.0</td>\n",
       "      <td>1.0</td>\n",
       "      <td>0.0</td>\n",
       "      <td>11.0</td>\n",
       "      <td>B</td>\n",
       "      <td>Mixed canopy (open affinity)</td>\n",
       "      <td>Edge-associated (strong)</td>\n",
       "      <td>Moisture association varies</td>\n",
       "      <td>Disturbance-associated (strong)</td>\n",
       "      <td>2.0</td>\n",
       "      <td>Least Concern</td>\n",
       "      <td>Least Concern</td>\n",
       "      <td>2009-03-01</td>\n",
       "    </tr>\n",
       "    <tr>\n",
       "      <th>1</th>\n",
       "      <td>1</td>\n",
       "      <td>7628186</td>\n",
       "      <td>Gonepteryx rhamni</td>\n",
       "      <td>Brimstone</td>\n",
       "      <td>2009-03-18</td>\n",
       "      <td>18</td>\n",
       "      <td>3</td>\n",
       "      <td>2009</td>\n",
       "      <td>SU8533</td>\n",
       "      <td>51.094445</td>\n",
       "      <td>-0.780437</td>\n",
       "      <td>Pieridae</td>\n",
       "      <td>Gonepteryx</td>\n",
       "      <td>SU</td>\n",
       "      <td>SU83</td>\n",
       "      <td>SU83L</td>\n",
       "      <td>SU8533</td>\n",
       "      <td>England</td>\n",
       "      <td>5.2</td>\n",
       "      <td>6.40</td>\n",
       "      <td>5.2</td>\n",
       "      <td>6.40</td>\n",
       "      <td>1.0</td>\n",
       "      <td>1.0</td>\n",
       "      <td>1.0</td>\n",
       "      <td>1.0</td>\n",
       "      <td>1.0</td>\n",
       "      <td>1.0</td>\n",
       "      <td>1.0</td>\n",
       "      <td>1.0</td>\n",
       "      <td>1.0</td>\n",
       "      <td>1.0</td>\n",
       "      <td>1.0</td>\n",
       "      <td>0.0</td>\n",
       "      <td>11.0</td>\n",
       "      <td>B</td>\n",
       "      <td>Mixed canopy (open affinity)</td>\n",
       "      <td>Edge-associated (strong)</td>\n",
       "      <td>Moisture association varies</td>\n",
       "      <td>Disturbance-associated (strong)</td>\n",
       "      <td>2.0</td>\n",
       "      <td>Least Concern</td>\n",
       "      <td>Least Concern</td>\n",
       "      <td>2009-03-01</td>\n",
       "    </tr>\n",
       "    <tr>\n",
       "      <th>2</th>\n",
       "      <td>2</td>\n",
       "      <td>5815274</td>\n",
       "      <td>Polygonia c-album</td>\n",
       "      <td>Comma</td>\n",
       "      <td>2009-03-22</td>\n",
       "      <td>22</td>\n",
       "      <td>3</td>\n",
       "      <td>2009</td>\n",
       "      <td>TQ1684</td>\n",
       "      <td>51.547376</td>\n",
       "      <td>-0.321280</td>\n",
       "      <td>Nymphalidae</td>\n",
       "      <td>Polygonia</td>\n",
       "      <td>TQ</td>\n",
       "      <td>TQ18</td>\n",
       "      <td>TQ18S</td>\n",
       "      <td>TQ1684</td>\n",
       "      <td>England</td>\n",
       "      <td>4.0</td>\n",
       "      <td>5.20</td>\n",
       "      <td>4.1</td>\n",
       "      <td>4.90</td>\n",
       "      <td>1.0</td>\n",
       "      <td>1.0</td>\n",
       "      <td>1.0</td>\n",
       "      <td>1.0</td>\n",
       "      <td>1.0</td>\n",
       "      <td>1.0</td>\n",
       "      <td>1.0</td>\n",
       "      <td>1.0</td>\n",
       "      <td>1.0</td>\n",
       "      <td>1.0</td>\n",
       "      <td>1.0</td>\n",
       "      <td>1.0</td>\n",
       "      <td>12.0</td>\n",
       "      <td>M</td>\n",
       "      <td>Canopy generalist</td>\n",
       "      <td>Edge association varies</td>\n",
       "      <td>Mesic-associated (strong)</td>\n",
       "      <td>Disturbance-avoidant (strong)</td>\n",
       "      <td>10.0</td>\n",
       "      <td>Least Concern</td>\n",
       "      <td>Least Concern</td>\n",
       "      <td>2009-03-01</td>\n",
       "    </tr>\n",
       "    <tr>\n",
       "      <th>3</th>\n",
       "      <td>3</td>\n",
       "      <td>5616417</td>\n",
       "      <td>Pieris brassicae</td>\n",
       "      <td>Large White</td>\n",
       "      <td>2009-03-07</td>\n",
       "      <td>7</td>\n",
       "      <td>3</td>\n",
       "      <td>2009</td>\n",
       "      <td>ST7913</td>\n",
       "      <td>50.920590</td>\n",
       "      <td>-2.293015</td>\n",
       "      <td>Pieridae</td>\n",
       "      <td>Pieris</td>\n",
       "      <td>ST</td>\n",
       "      <td>ST71</td>\n",
       "      <td>ST71W</td>\n",
       "      <td>ST7913</td>\n",
       "      <td>England</td>\n",
       "      <td>5.1</td>\n",
       "      <td>5.85</td>\n",
       "      <td>4.9</td>\n",
       "      <td>5.65</td>\n",
       "      <td>1.0</td>\n",
       "      <td>1.0</td>\n",
       "      <td>1.0</td>\n",
       "      <td>1.0</td>\n",
       "      <td>1.0</td>\n",
       "      <td>1.0</td>\n",
       "      <td>1.0</td>\n",
       "      <td>1.0</td>\n",
       "      <td>1.0</td>\n",
       "      <td>1.0</td>\n",
       "      <td>1.0</td>\n",
       "      <td>1.0</td>\n",
       "      <td>12.0</td>\n",
       "      <td>M</td>\n",
       "      <td>Mixed canopy (open affinity)</td>\n",
       "      <td>Seen near and away from edges</td>\n",
       "      <td>Xeric-associated (weak)</td>\n",
       "      <td>Disturbance-associated (strong)</td>\n",
       "      <td>6.0</td>\n",
       "      <td>Least Concern</td>\n",
       "      <td>Least Concern</td>\n",
       "      <td>2009-03-01</td>\n",
       "    </tr>\n",
       "    <tr>\n",
       "      <th>4</th>\n",
       "      <td>4</td>\n",
       "      <td>5616482</td>\n",
       "      <td>Polygonia c-album</td>\n",
       "      <td>Comma</td>\n",
       "      <td>2009-03-19</td>\n",
       "      <td>19</td>\n",
       "      <td>3</td>\n",
       "      <td>2009</td>\n",
       "      <td>SU6469</td>\n",
       "      <td>51.420852</td>\n",
       "      <td>-1.073789</td>\n",
       "      <td>Nymphalidae</td>\n",
       "      <td>Polygonia</td>\n",
       "      <td>SU</td>\n",
       "      <td>SU66</td>\n",
       "      <td>SU66P</td>\n",
       "      <td>SU6469</td>\n",
       "      <td>England</td>\n",
       "      <td>4.0</td>\n",
       "      <td>5.20</td>\n",
       "      <td>4.1</td>\n",
       "      <td>4.90</td>\n",
       "      <td>1.0</td>\n",
       "      <td>1.0</td>\n",
       "      <td>1.0</td>\n",
       "      <td>1.0</td>\n",
       "      <td>1.0</td>\n",
       "      <td>1.0</td>\n",
       "      <td>1.0</td>\n",
       "      <td>1.0</td>\n",
       "      <td>1.0</td>\n",
       "      <td>1.0</td>\n",
       "      <td>1.0</td>\n",
       "      <td>1.0</td>\n",
       "      <td>12.0</td>\n",
       "      <td>M</td>\n",
       "      <td>Canopy generalist</td>\n",
       "      <td>Edge association varies</td>\n",
       "      <td>Mesic-associated (strong)</td>\n",
       "      <td>Disturbance-avoidant (strong)</td>\n",
       "      <td>10.0</td>\n",
       "      <td>Least Concern</td>\n",
       "      <td>Least Concern</td>\n",
       "      <td>2009-03-01</td>\n",
       "    </tr>\n",
       "  </tbody>\n",
       "</table>\n",
       "</div>"
      ],
      "text/plain": [
       "   Unnamed: 0  Occurrence_ID    Scientific_name  Common_name  Start_date  \\\n",
       "0           0        5616398  Gonepteryx rhamni    Brimstone  2009-03-16   \n",
       "1           1        7628186  Gonepteryx rhamni    Brimstone  2009-03-18   \n",
       "2           2        5815274  Polygonia c-album        Comma  2009-03-22   \n",
       "3           3        5616417   Pieris brassicae  Large White  2009-03-07   \n",
       "4           4        5616482  Polygonia c-album        Comma  2009-03-19   \n",
       "\n",
       "   Start_date_day  Start_date_month  Start_date_year    OSGR  Latitude_WGS84  \\\n",
       "0              16                 3             2009  TL2550       52.138550   \n",
       "1              18                 3             2009  SU8533       51.094445   \n",
       "2              22                 3             2009  TQ1684       51.547376   \n",
       "3               7                 3             2009  ST7913       50.920590   \n",
       "4              19                 3             2009  SU6469       51.420852   \n",
       "\n",
       "   Longitude_WGS84       Family       Genus OSGR_100km OSGR_10km OSGR_2km  \\\n",
       "0        -0.167627     Pieridae  Gonepteryx         TL      TL25    TL25K   \n",
       "1        -0.780437     Pieridae  Gonepteryx         SU      SU83    SU83L   \n",
       "2        -0.321280  Nymphalidae   Polygonia         TQ      TQ18    TQ18S   \n",
       "3        -2.293015     Pieridae      Pieris         ST      ST71    ST71W   \n",
       "4        -1.073789  Nymphalidae   Polygonia         SU      SU66    SU66P   \n",
       "\n",
       "  OSGR_1km State/Province  WS_L_Fem  WS_U_Fem  WS_L_Mal  WS_U_Mal  Jan  Feb  \\\n",
       "0   TL2550        England       5.2      6.40       5.2      6.40  1.0  1.0   \n",
       "1   SU8533        England       5.2      6.40       5.2      6.40  1.0  1.0   \n",
       "2   TQ1684        England       4.0      5.20       4.1      4.90  1.0  1.0   \n",
       "3   ST7913        England       5.1      5.85       4.9      5.65  1.0  1.0   \n",
       "4   SU6469        England       4.0      5.20       4.1      4.90  1.0  1.0   \n",
       "\n",
       "   Mar  Apr  May  Jun  Jul  Aug  Sep  Oct  Nov  Dec  FlightDuration Voltinism  \\\n",
       "0  1.0  1.0  1.0  1.0  1.0  1.0  1.0  1.0  1.0  0.0            11.0         B   \n",
       "1  1.0  1.0  1.0  1.0  1.0  1.0  1.0  1.0  1.0  0.0            11.0         B   \n",
       "2  1.0  1.0  1.0  1.0  1.0  1.0  1.0  1.0  1.0  1.0            12.0         M   \n",
       "3  1.0  1.0  1.0  1.0  1.0  1.0  1.0  1.0  1.0  1.0            12.0         M   \n",
       "4  1.0  1.0  1.0  1.0  1.0  1.0  1.0  1.0  1.0  1.0            12.0         M   \n",
       "\n",
       "                 CanopyAffinity                   EdgeAffinity  \\\n",
       "0  Mixed canopy (open affinity)       Edge-associated (strong)   \n",
       "1  Mixed canopy (open affinity)       Edge-associated (strong)   \n",
       "2             Canopy generalist        Edge association varies   \n",
       "3  Mixed canopy (open affinity)  Seen near and away from edges   \n",
       "4             Canopy generalist        Edge association varies   \n",
       "\n",
       "              MoistureAffinity              DisturbanceAffinity  \\\n",
       "0  Moisture association varies  Disturbance-associated (strong)   \n",
       "1  Moisture association varies  Disturbance-associated (strong)   \n",
       "2    Mesic-associated (strong)    Disturbance-avoidant (strong)   \n",
       "3      Xeric-associated (weak)  Disturbance-associated (strong)   \n",
       "4    Mesic-associated (strong)    Disturbance-avoidant (strong)   \n",
       "\n",
       "   NumberOfHostplantFamilies Red_List_category 2010_Red_List_category  \\\n",
       "0                        2.0     Least Concern          Least Concern   \n",
       "1                        2.0     Least Concern          Least Concern   \n",
       "2                       10.0     Least Concern          Least Concern   \n",
       "3                        6.0     Least Concern          Least Concern   \n",
       "4                       10.0     Least Concern          Least Concern   \n",
       "\n",
       "   Year_Month  \n",
       "0  2009-03-01  \n",
       "1  2009-03-01  \n",
       "2  2009-03-01  \n",
       "3  2009-03-01  \n",
       "4  2009-03-01  "
      ]
     },
     "execution_count": 14,
     "metadata": {},
     "output_type": "execute_result"
    }
   ],
   "source": [
    "df.head()"
   ]
  },
  {
   "cell_type": "code",
   "execution_count": 15,
   "id": "f82a02bc-5f73-4f7b-81b3-ebfb99a745f6",
   "metadata": {},
   "outputs": [],
   "source": [
    "df = df.drop(columns='Unnamed: 0')"
   ]
  },
  {
   "cell_type": "code",
   "execution_count": 19,
   "id": "432c22e2-f911-47d0-be9b-f03aea0587de",
   "metadata": {},
   "outputs": [],
   "source": [
    "df['Year_Month'] = pd.to_datetime(df['Year_Month'])\n",
    "df['Start_date'] = pd.to_datetime(df['Start_date'])"
   ]
  },
  {
   "cell_type": "code",
   "execution_count": 20,
   "id": "403cc96d-0fdf-4a55-8760-21f5c9775345",
   "metadata": {},
   "outputs": [
    {
     "data": {
      "text/plain": [
       "(6392186, 43)"
      ]
     },
     "execution_count": 20,
     "metadata": {},
     "output_type": "execute_result"
    }
   ],
   "source": [
    "df.shape"
   ]
  },
  {
   "cell_type": "code",
   "execution_count": 21,
   "id": "570ed15a-ebc2-45dd-ac98-ae15a7f671da",
   "metadata": {},
   "outputs": [
    {
     "name": "stdout",
     "output_type": "stream",
     "text": [
      "<class 'pandas.core.frame.DataFrame'>\n",
      "RangeIndex: 6392186 entries, 0 to 6392185\n",
      "Data columns (total 43 columns):\n",
      " #   Column                     Dtype         \n",
      "---  ------                     -----         \n",
      " 0   Occurrence_ID              int64         \n",
      " 1   Scientific_name            object        \n",
      " 2   Common_name                object        \n",
      " 3   Start_date                 datetime64[ns]\n",
      " 4   Start_date_day             int64         \n",
      " 5   Start_date_month           int64         \n",
      " 6   Start_date_year            int64         \n",
      " 7   OSGR                       object        \n",
      " 8   Latitude_WGS84             float64       \n",
      " 9   Longitude_WGS84            float64       \n",
      " 10  Family                     object        \n",
      " 11  Genus                      object        \n",
      " 12  OSGR_100km                 object        \n",
      " 13  OSGR_10km                  object        \n",
      " 14  OSGR_2km                   object        \n",
      " 15  OSGR_1km                   object        \n",
      " 16  State/Province             object        \n",
      " 17  WS_L_Fem                   float64       \n",
      " 18  WS_U_Fem                   float64       \n",
      " 19  WS_L_Mal                   float64       \n",
      " 20  WS_U_Mal                   float64       \n",
      " 21  Jan                        float64       \n",
      " 22  Feb                        float64       \n",
      " 23  Mar                        float64       \n",
      " 24  Apr                        float64       \n",
      " 25  May                        float64       \n",
      " 26  Jun                        float64       \n",
      " 27  Jul                        float64       \n",
      " 28  Aug                        float64       \n",
      " 29  Sep                        float64       \n",
      " 30  Oct                        float64       \n",
      " 31  Nov                        float64       \n",
      " 32  Dec                        float64       \n",
      " 33  FlightDuration             float64       \n",
      " 34  Voltinism                  object        \n",
      " 35  CanopyAffinity             object        \n",
      " 36  EdgeAffinity               object        \n",
      " 37  MoistureAffinity           object        \n",
      " 38  DisturbanceAffinity        object        \n",
      " 39  NumberOfHostplantFamilies  float64       \n",
      " 40  Red_List_category          object        \n",
      " 41  2010_Red_List_category     object        \n",
      " 42  Year_Month                 datetime64[ns]\n",
      "dtypes: datetime64[ns](2), float64(20), int64(4), object(17)\n",
      "memory usage: 2.0+ GB\n"
     ]
    }
   ],
   "source": [
    "df.info()"
   ]
  },
  {
   "cell_type": "markdown",
   "id": "67ff5975-cf17-4fba-942c-17466a5237df",
   "metadata": {
    "jp-MarkdownHeadingCollapsed": true
   },
   "source": [
    "### D2 - UK Weather"
   ]
  },
  {
   "cell_type": "code",
   "execution_count": null,
   "id": "e636f4d4-64f5-47eb-9031-d53292bd6340",
   "metadata": {},
   "outputs": [],
   "source": [
    "df_london_weather = pd.read_fwf('data/heathrowdata.txt')"
   ]
  },
  {
   "cell_type": "code",
   "execution_count": null,
   "id": "8108f35a-8c4b-4b41-874c-547995c01d16",
   "metadata": {},
   "outputs": [],
   "source": [
    "df_london_weather.head()"
   ]
  },
  {
   "cell_type": "code",
   "execution_count": null,
   "id": "a95136b6-3d8f-4abc-923a-357b6d1b3b85",
   "metadata": {},
   "outputs": [],
   "source": [
    "df_london_weather.shape"
   ]
  },
  {
   "cell_type": "code",
   "execution_count": null,
   "id": "5de6a6a0-3e79-49c7-a54b-a4bb63b1bc06",
   "metadata": {},
   "outputs": [],
   "source": []
  },
  {
   "cell_type": "markdown",
   "id": "e1659aec-ec3d-47fd-ad5f-834fd7d70d05",
   "metadata": {},
   "source": [
    "# EDA and Data Preprocessing\n",
    "\n",
    "Steps:\n",
    "\n",
    "- Indexing sightings per year and month:\n",
    "    - Get the number of surveys per year "
   ]
  },
  {
   "cell_type": "markdown",
   "id": "96f2688a-2df1-40df-b137-6337a286414e",
   "metadata": {},
   "source": [
    "## Get London sightings"
   ]
  },
  {
   "cell_type": "markdown",
   "id": "0b8abbb0-5d50-47a8-a5ab-b8a10b11d471",
   "metadata": {},
   "source": [
    "London coordinates: 51.5069929036787, -0.12895107981895967\n",
    "\n",
    "- North limit (Enfield borough): 51.65195042315941, -0.08106613267368643\n",
    "- West limit (Hillington borough): 51.537921096083025, -0.45221704012735686 \n",
    "- South limit (Croydon borough): 51.3769109423846, -0.09758628303502302\n",
    "- East Limit (Upminster): 51.55626396921364, 0.24955389351473162"
   ]
  },
  {
   "cell_type": "code",
   "execution_count": 23,
   "id": "3c336f32-7d0b-45e3-9c2d-e1e9597786d5",
   "metadata": {},
   "outputs": [
    {
     "data": {
      "text/html": [
       "<div>\n",
       "<style scoped>\n",
       "    .dataframe tbody tr th:only-of-type {\n",
       "        vertical-align: middle;\n",
       "    }\n",
       "\n",
       "    .dataframe tbody tr th {\n",
       "        vertical-align: top;\n",
       "    }\n",
       "\n",
       "    .dataframe thead th {\n",
       "        text-align: right;\n",
       "    }\n",
       "</style>\n",
       "<table border=\"1\" class=\"dataframe\">\n",
       "  <thead>\n",
       "    <tr style=\"text-align: right;\">\n",
       "      <th></th>\n",
       "      <th>Latitude</th>\n",
       "      <th>Longitude</th>\n",
       "    </tr>\n",
       "  </thead>\n",
       "  <tbody>\n",
       "    <tr>\n",
       "      <th>North limit (Enfield borough)</th>\n",
       "      <td>51.651950</td>\n",
       "      <td>-0.081066</td>\n",
       "    </tr>\n",
       "    <tr>\n",
       "      <th>West limit (Hillington borough)</th>\n",
       "      <td>51.537921</td>\n",
       "      <td>-0.452217</td>\n",
       "    </tr>\n",
       "    <tr>\n",
       "      <th>South limit (Croydon borough)</th>\n",
       "      <td>51.376911</td>\n",
       "      <td>-0.097586</td>\n",
       "    </tr>\n",
       "    <tr>\n",
       "      <th>East Limit (Upminster)</th>\n",
       "      <td>51.556264</td>\n",
       "      <td>0.249554</td>\n",
       "    </tr>\n",
       "  </tbody>\n",
       "</table>\n",
       "</div>"
      ],
      "text/plain": [
       "                                  Latitude  Longitude\n",
       "North limit (Enfield borough)    51.651950  -0.081066\n",
       "West limit (Hillington borough)  51.537921  -0.452217\n",
       "South limit (Croydon borough)    51.376911  -0.097586\n",
       "East Limit (Upminster)           51.556264   0.249554"
      ]
     },
     "execution_count": 23,
     "metadata": {},
     "output_type": "execute_result"
    }
   ],
   "source": [
    "London_coord = {'North limit (Enfield borough)': [51.65195042315941, -0.08106613267368643],\n",
    "                'West limit (Hillington borough)': [51.537921096083025, -0.45221704012735686],\n",
    "                'South limit (Croydon borough)': [51.3769109423846, -0.09758628303502302], \n",
    "                'East Limit (Upminster)': [51.55626396921364, 0.24955389351473162]}\n",
    "London_coord_df = pd.DataFrame(London_coord, index=['Latitude', 'Longitude']).T\n",
    "London_coord_df"
   ]
  },
  {
   "cell_type": "code",
   "execution_count": 24,
   "id": "12c4ace2-27bc-4c78-9d8a-c47cd043fffe",
   "metadata": {},
   "outputs": [
    {
     "name": "stdout",
     "output_type": "stream",
     "text": [
      "Min Lat value: 51.3769109423846\n",
      "Max Lat value: 51.65195042315941\n",
      "Min Lon value: -0.45221704012735686\n",
      "Max Lon value: 0.24955389351473162\n"
     ]
    }
   ],
   "source": [
    "print(f\"Min Lat value: {London_coord_df['Latitude'].min()}\")\n",
    "print(f\"Max Lat value: {London_coord_df['Latitude'].max()}\")\n",
    "print(f\"Min Lon value: {London_coord_df['Longitude'].min()}\")\n",
    "print(f\"Max Lon value: {London_coord_df['Longitude'].max()}\")"
   ]
  },
  {
   "cell_type": "code",
   "execution_count": 25,
   "id": "b05d50c3-d163-4305-a709-7634b03785fd",
   "metadata": {},
   "outputs": [],
   "source": [
    "GLondon_df = df[(df['Latitude_WGS84'] >= London_coord_df['Latitude'].min()) & \\\n",
    "                (df['Latitude_WGS84'] <= London_coord_df['Latitude'].max()) & \\\n",
    "                (df['Longitude_WGS84'] >= London_coord_df['Longitude'].min()) & \\\n",
    "                (df['Longitude_WGS84'] <= London_coord_df['Longitude'].max())]"
   ]
  },
  {
   "cell_type": "code",
   "execution_count": 26,
   "id": "c9cfc018-2d1e-4990-bd85-ee23a083b0a2",
   "metadata": {},
   "outputs": [
    {
     "data": {
      "text/html": [
       "<div>\n",
       "<style scoped>\n",
       "    .dataframe tbody tr th:only-of-type {\n",
       "        vertical-align: middle;\n",
       "    }\n",
       "\n",
       "    .dataframe tbody tr th {\n",
       "        vertical-align: top;\n",
       "    }\n",
       "\n",
       "    .dataframe thead th {\n",
       "        text-align: right;\n",
       "    }\n",
       "</style>\n",
       "<table border=\"1\" class=\"dataframe\">\n",
       "  <thead>\n",
       "    <tr style=\"text-align: right;\">\n",
       "      <th></th>\n",
       "      <th>Occurrence_ID</th>\n",
       "      <th>Start_date</th>\n",
       "      <th>Start_date_day</th>\n",
       "      <th>Start_date_month</th>\n",
       "      <th>Start_date_year</th>\n",
       "      <th>Latitude_WGS84</th>\n",
       "      <th>Longitude_WGS84</th>\n",
       "      <th>WS_L_Fem</th>\n",
       "      <th>WS_U_Fem</th>\n",
       "      <th>WS_L_Mal</th>\n",
       "      <th>WS_U_Mal</th>\n",
       "      <th>Jan</th>\n",
       "      <th>Feb</th>\n",
       "      <th>Mar</th>\n",
       "      <th>Apr</th>\n",
       "      <th>May</th>\n",
       "      <th>Jun</th>\n",
       "      <th>Jul</th>\n",
       "      <th>Aug</th>\n",
       "      <th>Sep</th>\n",
       "      <th>Oct</th>\n",
       "      <th>Nov</th>\n",
       "      <th>Dec</th>\n",
       "      <th>FlightDuration</th>\n",
       "      <th>NumberOfHostplantFamilies</th>\n",
       "      <th>Year_Month</th>\n",
       "    </tr>\n",
       "  </thead>\n",
       "  <tbody>\n",
       "    <tr>\n",
       "      <th>count</th>\n",
       "      <td>1.628870e+05</td>\n",
       "      <td>162887</td>\n",
       "      <td>162887.000000</td>\n",
       "      <td>162887.000000</td>\n",
       "      <td>162887.000000</td>\n",
       "      <td>162887.000000</td>\n",
       "      <td>162887.000000</td>\n",
       "      <td>162887.000000</td>\n",
       "      <td>162887.000000</td>\n",
       "      <td>162887.000000</td>\n",
       "      <td>162887.000000</td>\n",
       "      <td>162887.000000</td>\n",
       "      <td>162887.000000</td>\n",
       "      <td>162887.000000</td>\n",
       "      <td>162887.000000</td>\n",
       "      <td>162887.000000</td>\n",
       "      <td>162887.000000</td>\n",
       "      <td>162887.000000</td>\n",
       "      <td>162887.000000</td>\n",
       "      <td>162887.000000</td>\n",
       "      <td>162887.000000</td>\n",
       "      <td>162887.000000</td>\n",
       "      <td>162887.000000</td>\n",
       "      <td>162887.000000</td>\n",
       "      <td>162887.000000</td>\n",
       "      <td>162887</td>\n",
       "    </tr>\n",
       "    <tr>\n",
       "      <th>mean</th>\n",
       "      <td>4.165022e+06</td>\n",
       "      <td>2012-10-02 12:11:04.362410752</td>\n",
       "      <td>15.594510</td>\n",
       "      <td>6.709259</td>\n",
       "      <td>2012.240627</td>\n",
       "      <td>51.501557</td>\n",
       "      <td>-0.180515</td>\n",
       "      <td>3.110379</td>\n",
       "      <td>4.483747</td>\n",
       "      <td>3.599826</td>\n",
       "      <td>4.326599</td>\n",
       "      <td>0.416368</td>\n",
       "      <td>0.498229</td>\n",
       "      <td>0.843603</td>\n",
       "      <td>0.714409</td>\n",
       "      <td>0.964970</td>\n",
       "      <td>0.915021</td>\n",
       "      <td>0.989809</td>\n",
       "      <td>0.915021</td>\n",
       "      <td>0.965160</td>\n",
       "      <td>0.824154</td>\n",
       "      <td>0.408461</td>\n",
       "      <td>0.299214</td>\n",
       "      <td>8.754419</td>\n",
       "      <td>4.187885</td>\n",
       "      <td>2012-09-17 21:54:58.672085504</td>\n",
       "    </tr>\n",
       "    <tr>\n",
       "      <th>min</th>\n",
       "      <td>6.000000e+00</td>\n",
       "      <td>2001-03-25 00:00:00</td>\n",
       "      <td>1.000000</td>\n",
       "      <td>3.000000</td>\n",
       "      <td>2001.000000</td>\n",
       "      <td>51.379167</td>\n",
       "      <td>-0.440290</td>\n",
       "      <td>0.000000</td>\n",
       "      <td>0.000000</td>\n",
       "      <td>0.000000</td>\n",
       "      <td>0.000000</td>\n",
       "      <td>0.000000</td>\n",
       "      <td>0.000000</td>\n",
       "      <td>0.000000</td>\n",
       "      <td>0.000000</td>\n",
       "      <td>0.000000</td>\n",
       "      <td>0.000000</td>\n",
       "      <td>0.000000</td>\n",
       "      <td>0.000000</td>\n",
       "      <td>0.000000</td>\n",
       "      <td>0.000000</td>\n",
       "      <td>0.000000</td>\n",
       "      <td>0.000000</td>\n",
       "      <td>0.000000</td>\n",
       "      <td>0.000000</td>\n",
       "      <td>2001-03-01 00:00:00</td>\n",
       "    </tr>\n",
       "    <tr>\n",
       "      <th>25%</th>\n",
       "      <td>1.829190e+06</td>\n",
       "      <td>2008-07-21 00:00:00</td>\n",
       "      <td>8.000000</td>\n",
       "      <td>6.000000</td>\n",
       "      <td>2008.000000</td>\n",
       "      <td>51.438260</td>\n",
       "      <td>-0.281758</td>\n",
       "      <td>2.350000</td>\n",
       "      <td>3.800000</td>\n",
       "      <td>3.400000</td>\n",
       "      <td>3.800000</td>\n",
       "      <td>0.000000</td>\n",
       "      <td>0.000000</td>\n",
       "      <td>1.000000</td>\n",
       "      <td>0.000000</td>\n",
       "      <td>1.000000</td>\n",
       "      <td>1.000000</td>\n",
       "      <td>1.000000</td>\n",
       "      <td>1.000000</td>\n",
       "      <td>1.000000</td>\n",
       "      <td>1.000000</td>\n",
       "      <td>0.000000</td>\n",
       "      <td>0.000000</td>\n",
       "      <td>7.000000</td>\n",
       "      <td>1.000000</td>\n",
       "      <td>2008-07-01 00:00:00</td>\n",
       "    </tr>\n",
       "    <tr>\n",
       "      <th>50%</th>\n",
       "      <td>4.888200e+06</td>\n",
       "      <td>2013-07-18 00:00:00</td>\n",
       "      <td>16.000000</td>\n",
       "      <td>7.000000</td>\n",
       "      <td>2013.000000</td>\n",
       "      <td>51.497967</td>\n",
       "      <td>-0.182863</td>\n",
       "      <td>3.700000</td>\n",
       "      <td>4.500000</td>\n",
       "      <td>3.600000</td>\n",
       "      <td>4.400000</td>\n",
       "      <td>0.000000</td>\n",
       "      <td>0.000000</td>\n",
       "      <td>1.000000</td>\n",
       "      <td>1.000000</td>\n",
       "      <td>1.000000</td>\n",
       "      <td>1.000000</td>\n",
       "      <td>1.000000</td>\n",
       "      <td>1.000000</td>\n",
       "      <td>1.000000</td>\n",
       "      <td>1.000000</td>\n",
       "      <td>0.000000</td>\n",
       "      <td>0.000000</td>\n",
       "      <td>9.000000</td>\n",
       "      <td>2.000000</td>\n",
       "      <td>2013-07-01 00:00:00</td>\n",
       "    </tr>\n",
       "    <tr>\n",
       "      <th>75%</th>\n",
       "      <td>6.374192e+06</td>\n",
       "      <td>2017-08-26 00:00:00</td>\n",
       "      <td>23.000000</td>\n",
       "      <td>8.000000</td>\n",
       "      <td>2017.000000</td>\n",
       "      <td>51.562974</td>\n",
       "      <td>-0.034953</td>\n",
       "      <td>3.900000</td>\n",
       "      <td>4.700000</td>\n",
       "      <td>3.900000</td>\n",
       "      <td>4.700000</td>\n",
       "      <td>1.000000</td>\n",
       "      <td>1.000000</td>\n",
       "      <td>1.000000</td>\n",
       "      <td>1.000000</td>\n",
       "      <td>1.000000</td>\n",
       "      <td>1.000000</td>\n",
       "      <td>1.000000</td>\n",
       "      <td>1.000000</td>\n",
       "      <td>1.000000</td>\n",
       "      <td>1.000000</td>\n",
       "      <td>1.000000</td>\n",
       "      <td>1.000000</td>\n",
       "      <td>12.000000</td>\n",
       "      <td>6.000000</td>\n",
       "      <td>2017-08-01 00:00:00</td>\n",
       "    </tr>\n",
       "    <tr>\n",
       "      <th>max</th>\n",
       "      <td>8.168492e+06</td>\n",
       "      <td>2020-10-19 00:00:00</td>\n",
       "      <td>31.000000</td>\n",
       "      <td>10.000000</td>\n",
       "      <td>2020.000000</td>\n",
       "      <td>51.649494</td>\n",
       "      <td>0.124656</td>\n",
       "      <td>5.900000</td>\n",
       "      <td>7.600000</td>\n",
       "      <td>5.500000</td>\n",
       "      <td>6.700000</td>\n",
       "      <td>1.000000</td>\n",
       "      <td>1.000000</td>\n",
       "      <td>1.000000</td>\n",
       "      <td>1.000000</td>\n",
       "      <td>1.000000</td>\n",
       "      <td>1.000000</td>\n",
       "      <td>1.000000</td>\n",
       "      <td>1.000000</td>\n",
       "      <td>1.000000</td>\n",
       "      <td>1.000000</td>\n",
       "      <td>1.000000</td>\n",
       "      <td>1.000000</td>\n",
       "      <td>12.000000</td>\n",
       "      <td>24.000000</td>\n",
       "      <td>2020-10-01 00:00:00</td>\n",
       "    </tr>\n",
       "    <tr>\n",
       "      <th>std</th>\n",
       "      <td>2.476279e+06</td>\n",
       "      <td>NaN</td>\n",
       "      <td>8.773763</td>\n",
       "      <td>1.394315</td>\n",
       "      <td>5.550457</td>\n",
       "      <td>0.073003</td>\n",
       "      <td>0.149540</td>\n",
       "      <td>1.613779</td>\n",
       "      <td>1.038287</td>\n",
       "      <td>0.875043</td>\n",
       "      <td>1.012160</td>\n",
       "      <td>0.492958</td>\n",
       "      <td>0.499998</td>\n",
       "      <td>0.363232</td>\n",
       "      <td>0.451697</td>\n",
       "      <td>0.183857</td>\n",
       "      <td>0.278852</td>\n",
       "      <td>0.100436</td>\n",
       "      <td>0.278852</td>\n",
       "      <td>0.183375</td>\n",
       "      <td>0.380690</td>\n",
       "      <td>0.491551</td>\n",
       "      <td>0.457915</td>\n",
       "      <td>2.890142</td>\n",
       "      <td>4.537040</td>\n",
       "      <td>NaN</td>\n",
       "    </tr>\n",
       "  </tbody>\n",
       "</table>\n",
       "</div>"
      ],
      "text/plain": [
       "       Occurrence_ID                     Start_date  Start_date_day  \\\n",
       "count   1.628870e+05                         162887   162887.000000   \n",
       "mean    4.165022e+06  2012-10-02 12:11:04.362410752       15.594510   \n",
       "min     6.000000e+00            2001-03-25 00:00:00        1.000000   \n",
       "25%     1.829190e+06            2008-07-21 00:00:00        8.000000   \n",
       "50%     4.888200e+06            2013-07-18 00:00:00       16.000000   \n",
       "75%     6.374192e+06            2017-08-26 00:00:00       23.000000   \n",
       "max     8.168492e+06            2020-10-19 00:00:00       31.000000   \n",
       "std     2.476279e+06                            NaN        8.773763   \n",
       "\n",
       "       Start_date_month  Start_date_year  Latitude_WGS84  Longitude_WGS84  \\\n",
       "count     162887.000000    162887.000000   162887.000000    162887.000000   \n",
       "mean           6.709259      2012.240627       51.501557        -0.180515   \n",
       "min            3.000000      2001.000000       51.379167        -0.440290   \n",
       "25%            6.000000      2008.000000       51.438260        -0.281758   \n",
       "50%            7.000000      2013.000000       51.497967        -0.182863   \n",
       "75%            8.000000      2017.000000       51.562974        -0.034953   \n",
       "max           10.000000      2020.000000       51.649494         0.124656   \n",
       "std            1.394315         5.550457        0.073003         0.149540   \n",
       "\n",
       "            WS_L_Fem       WS_U_Fem       WS_L_Mal       WS_U_Mal  \\\n",
       "count  162887.000000  162887.000000  162887.000000  162887.000000   \n",
       "mean        3.110379       4.483747       3.599826       4.326599   \n",
       "min         0.000000       0.000000       0.000000       0.000000   \n",
       "25%         2.350000       3.800000       3.400000       3.800000   \n",
       "50%         3.700000       4.500000       3.600000       4.400000   \n",
       "75%         3.900000       4.700000       3.900000       4.700000   \n",
       "max         5.900000       7.600000       5.500000       6.700000   \n",
       "std         1.613779       1.038287       0.875043       1.012160   \n",
       "\n",
       "                 Jan            Feb            Mar            Apr  \\\n",
       "count  162887.000000  162887.000000  162887.000000  162887.000000   \n",
       "mean        0.416368       0.498229       0.843603       0.714409   \n",
       "min         0.000000       0.000000       0.000000       0.000000   \n",
       "25%         0.000000       0.000000       1.000000       0.000000   \n",
       "50%         0.000000       0.000000       1.000000       1.000000   \n",
       "75%         1.000000       1.000000       1.000000       1.000000   \n",
       "max         1.000000       1.000000       1.000000       1.000000   \n",
       "std         0.492958       0.499998       0.363232       0.451697   \n",
       "\n",
       "                 May            Jun            Jul            Aug  \\\n",
       "count  162887.000000  162887.000000  162887.000000  162887.000000   \n",
       "mean        0.964970       0.915021       0.989809       0.915021   \n",
       "min         0.000000       0.000000       0.000000       0.000000   \n",
       "25%         1.000000       1.000000       1.000000       1.000000   \n",
       "50%         1.000000       1.000000       1.000000       1.000000   \n",
       "75%         1.000000       1.000000       1.000000       1.000000   \n",
       "max         1.000000       1.000000       1.000000       1.000000   \n",
       "std         0.183857       0.278852       0.100436       0.278852   \n",
       "\n",
       "                 Sep            Oct            Nov            Dec  \\\n",
       "count  162887.000000  162887.000000  162887.000000  162887.000000   \n",
       "mean        0.965160       0.824154       0.408461       0.299214   \n",
       "min         0.000000       0.000000       0.000000       0.000000   \n",
       "25%         1.000000       1.000000       0.000000       0.000000   \n",
       "50%         1.000000       1.000000       0.000000       0.000000   \n",
       "75%         1.000000       1.000000       1.000000       1.000000   \n",
       "max         1.000000       1.000000       1.000000       1.000000   \n",
       "std         0.183375       0.380690       0.491551       0.457915   \n",
       "\n",
       "       FlightDuration  NumberOfHostplantFamilies  \\\n",
       "count   162887.000000              162887.000000   \n",
       "mean         8.754419                   4.187885   \n",
       "min          0.000000                   0.000000   \n",
       "25%          7.000000                   1.000000   \n",
       "50%          9.000000                   2.000000   \n",
       "75%         12.000000                   6.000000   \n",
       "max         12.000000                  24.000000   \n",
       "std          2.890142                   4.537040   \n",
       "\n",
       "                          Year_Month  \n",
       "count                         162887  \n",
       "mean   2012-09-17 21:54:58.672085504  \n",
       "min              2001-03-01 00:00:00  \n",
       "25%              2008-07-01 00:00:00  \n",
       "50%              2013-07-01 00:00:00  \n",
       "75%              2017-08-01 00:00:00  \n",
       "max              2020-10-01 00:00:00  \n",
       "std                              NaN  "
      ]
     },
     "execution_count": 26,
     "metadata": {},
     "output_type": "execute_result"
    }
   ],
   "source": [
    "GLondon_df.describe()"
   ]
  },
  {
   "cell_type": "code",
   "execution_count": 27,
   "id": "2a9d571b-2e9a-4b1a-af57-964653163e35",
   "metadata": {},
   "outputs": [
    {
     "data": {
      "text/plain": [
       "(162887, 43)"
      ]
     },
     "execution_count": 27,
     "metadata": {},
     "output_type": "execute_result"
    }
   ],
   "source": [
    "GLondon_df.shape"
   ]
  },
  {
   "cell_type": "markdown",
   "id": "d7262636-0724-4a48-9c94-81b62325b0aa",
   "metadata": {},
   "source": [
    "## Indexing sightings per Year/Month"
   ]
  },
  {
   "cell_type": "code",
   "execution_count": 28,
   "id": "83c8be55-d588-4137-8919-4688af3da398",
   "metadata": {},
   "outputs": [
    {
     "data": {
      "text/html": [
       "<div>\n",
       "<style scoped>\n",
       "    .dataframe tbody tr th:only-of-type {\n",
       "        vertical-align: middle;\n",
       "    }\n",
       "\n",
       "    .dataframe tbody tr th {\n",
       "        vertical-align: top;\n",
       "    }\n",
       "\n",
       "    .dataframe thead th {\n",
       "        text-align: right;\n",
       "    }\n",
       "</style>\n",
       "<table border=\"1\" class=\"dataframe\">\n",
       "  <thead>\n",
       "    <tr style=\"text-align: right;\">\n",
       "      <th></th>\n",
       "      <th>Occurrence_ID</th>\n",
       "      <th>Scientific_name</th>\n",
       "      <th>Common_name</th>\n",
       "      <th>Start_date</th>\n",
       "      <th>Start_date_day</th>\n",
       "      <th>Start_date_month</th>\n",
       "      <th>Start_date_year</th>\n",
       "      <th>OSGR</th>\n",
       "      <th>Latitude_WGS84</th>\n",
       "      <th>Longitude_WGS84</th>\n",
       "      <th>Family</th>\n",
       "      <th>Genus</th>\n",
       "      <th>OSGR_100km</th>\n",
       "      <th>OSGR_10km</th>\n",
       "      <th>OSGR_2km</th>\n",
       "      <th>OSGR_1km</th>\n",
       "      <th>State/Province</th>\n",
       "      <th>WS_L_Fem</th>\n",
       "      <th>WS_U_Fem</th>\n",
       "      <th>WS_L_Mal</th>\n",
       "      <th>WS_U_Mal</th>\n",
       "      <th>Jan</th>\n",
       "      <th>Feb</th>\n",
       "      <th>Mar</th>\n",
       "      <th>Apr</th>\n",
       "      <th>May</th>\n",
       "      <th>Jun</th>\n",
       "      <th>Jul</th>\n",
       "      <th>Aug</th>\n",
       "      <th>Sep</th>\n",
       "      <th>Oct</th>\n",
       "      <th>Nov</th>\n",
       "      <th>Dec</th>\n",
       "      <th>FlightDuration</th>\n",
       "      <th>Voltinism</th>\n",
       "      <th>CanopyAffinity</th>\n",
       "      <th>EdgeAffinity</th>\n",
       "      <th>MoistureAffinity</th>\n",
       "      <th>DisturbanceAffinity</th>\n",
       "      <th>NumberOfHostplantFamilies</th>\n",
       "      <th>Red_List_category</th>\n",
       "      <th>2010_Red_List_category</th>\n",
       "      <th>Year_Month</th>\n",
       "    </tr>\n",
       "  </thead>\n",
       "  <tbody>\n",
       "    <tr>\n",
       "      <th>2</th>\n",
       "      <td>5815274</td>\n",
       "      <td>Polygonia c-album</td>\n",
       "      <td>Comma</td>\n",
       "      <td>2009-03-22</td>\n",
       "      <td>22</td>\n",
       "      <td>3</td>\n",
       "      <td>2009</td>\n",
       "      <td>TQ1684</td>\n",
       "      <td>51.547376</td>\n",
       "      <td>-0.321280</td>\n",
       "      <td>Nymphalidae</td>\n",
       "      <td>Polygonia</td>\n",
       "      <td>TQ</td>\n",
       "      <td>TQ18</td>\n",
       "      <td>TQ18S</td>\n",
       "      <td>TQ1684</td>\n",
       "      <td>England</td>\n",
       "      <td>4.0</td>\n",
       "      <td>5.2</td>\n",
       "      <td>4.1</td>\n",
       "      <td>4.9</td>\n",
       "      <td>1.0</td>\n",
       "      <td>1.0</td>\n",
       "      <td>1.0</td>\n",
       "      <td>1.0</td>\n",
       "      <td>1.0</td>\n",
       "      <td>1.0</td>\n",
       "      <td>1.0</td>\n",
       "      <td>1.0</td>\n",
       "      <td>1.0</td>\n",
       "      <td>1.0</td>\n",
       "      <td>1.0</td>\n",
       "      <td>1.0</td>\n",
       "      <td>12.0</td>\n",
       "      <td>M</td>\n",
       "      <td>Canopy generalist</td>\n",
       "      <td>Edge association varies</td>\n",
       "      <td>Mesic-associated (strong)</td>\n",
       "      <td>Disturbance-avoidant (strong)</td>\n",
       "      <td>10.0</td>\n",
       "      <td>Least Concern</td>\n",
       "      <td>Least Concern</td>\n",
       "      <td>2009-03-01</td>\n",
       "    </tr>\n",
       "    <tr>\n",
       "      <th>22</th>\n",
       "      <td>7657450</td>\n",
       "      <td>Polygonia c-album</td>\n",
       "      <td>Comma</td>\n",
       "      <td>2009-03-22</td>\n",
       "      <td>22</td>\n",
       "      <td>3</td>\n",
       "      <td>2009</td>\n",
       "      <td>TQ1684</td>\n",
       "      <td>51.547376</td>\n",
       "      <td>-0.321280</td>\n",
       "      <td>Nymphalidae</td>\n",
       "      <td>Polygonia</td>\n",
       "      <td>TQ</td>\n",
       "      <td>TQ18</td>\n",
       "      <td>TQ18S</td>\n",
       "      <td>TQ1684</td>\n",
       "      <td>England</td>\n",
       "      <td>4.0</td>\n",
       "      <td>5.2</td>\n",
       "      <td>4.1</td>\n",
       "      <td>4.9</td>\n",
       "      <td>1.0</td>\n",
       "      <td>1.0</td>\n",
       "      <td>1.0</td>\n",
       "      <td>1.0</td>\n",
       "      <td>1.0</td>\n",
       "      <td>1.0</td>\n",
       "      <td>1.0</td>\n",
       "      <td>1.0</td>\n",
       "      <td>1.0</td>\n",
       "      <td>1.0</td>\n",
       "      <td>1.0</td>\n",
       "      <td>1.0</td>\n",
       "      <td>12.0</td>\n",
       "      <td>M</td>\n",
       "      <td>Canopy generalist</td>\n",
       "      <td>Edge association varies</td>\n",
       "      <td>Mesic-associated (strong)</td>\n",
       "      <td>Disturbance-avoidant (strong)</td>\n",
       "      <td>10.0</td>\n",
       "      <td>Least Concern</td>\n",
       "      <td>Least Concern</td>\n",
       "      <td>2009-03-01</td>\n",
       "    </tr>\n",
       "    <tr>\n",
       "      <th>45</th>\n",
       "      <td>5815276</td>\n",
       "      <td>Polygonia c-album</td>\n",
       "      <td>Comma</td>\n",
       "      <td>2009-03-21</td>\n",
       "      <td>21</td>\n",
       "      <td>3</td>\n",
       "      <td>2009</td>\n",
       "      <td>TQ1583</td>\n",
       "      <td>51.538594</td>\n",
       "      <td>-0.336023</td>\n",
       "      <td>Nymphalidae</td>\n",
       "      <td>Polygonia</td>\n",
       "      <td>TQ</td>\n",
       "      <td>TQ18</td>\n",
       "      <td>TQ18L</td>\n",
       "      <td>TQ1583</td>\n",
       "      <td>England</td>\n",
       "      <td>4.0</td>\n",
       "      <td>5.2</td>\n",
       "      <td>4.1</td>\n",
       "      <td>4.9</td>\n",
       "      <td>1.0</td>\n",
       "      <td>1.0</td>\n",
       "      <td>1.0</td>\n",
       "      <td>1.0</td>\n",
       "      <td>1.0</td>\n",
       "      <td>1.0</td>\n",
       "      <td>1.0</td>\n",
       "      <td>1.0</td>\n",
       "      <td>1.0</td>\n",
       "      <td>1.0</td>\n",
       "      <td>1.0</td>\n",
       "      <td>1.0</td>\n",
       "      <td>12.0</td>\n",
       "      <td>M</td>\n",
       "      <td>Canopy generalist</td>\n",
       "      <td>Edge association varies</td>\n",
       "      <td>Mesic-associated (strong)</td>\n",
       "      <td>Disturbance-avoidant (strong)</td>\n",
       "      <td>10.0</td>\n",
       "      <td>Least Concern</td>\n",
       "      <td>Least Concern</td>\n",
       "      <td>2009-03-01</td>\n",
       "    </tr>\n",
       "    <tr>\n",
       "      <th>50</th>\n",
       "      <td>5815272</td>\n",
       "      <td>Polygonia c-album</td>\n",
       "      <td>Comma</td>\n",
       "      <td>2009-03-22</td>\n",
       "      <td>22</td>\n",
       "      <td>3</td>\n",
       "      <td>2009</td>\n",
       "      <td>TQ1684</td>\n",
       "      <td>51.547376</td>\n",
       "      <td>-0.321280</td>\n",
       "      <td>Nymphalidae</td>\n",
       "      <td>Polygonia</td>\n",
       "      <td>TQ</td>\n",
       "      <td>TQ18</td>\n",
       "      <td>TQ18S</td>\n",
       "      <td>TQ1684</td>\n",
       "      <td>England</td>\n",
       "      <td>4.0</td>\n",
       "      <td>5.2</td>\n",
       "      <td>4.1</td>\n",
       "      <td>4.9</td>\n",
       "      <td>1.0</td>\n",
       "      <td>1.0</td>\n",
       "      <td>1.0</td>\n",
       "      <td>1.0</td>\n",
       "      <td>1.0</td>\n",
       "      <td>1.0</td>\n",
       "      <td>1.0</td>\n",
       "      <td>1.0</td>\n",
       "      <td>1.0</td>\n",
       "      <td>1.0</td>\n",
       "      <td>1.0</td>\n",
       "      <td>1.0</td>\n",
       "      <td>12.0</td>\n",
       "      <td>M</td>\n",
       "      <td>Canopy generalist</td>\n",
       "      <td>Edge association varies</td>\n",
       "      <td>Mesic-associated (strong)</td>\n",
       "      <td>Disturbance-avoidant (strong)</td>\n",
       "      <td>10.0</td>\n",
       "      <td>Least Concern</td>\n",
       "      <td>Least Concern</td>\n",
       "      <td>2009-03-01</td>\n",
       "    </tr>\n",
       "    <tr>\n",
       "      <th>92</th>\n",
       "      <td>5815262</td>\n",
       "      <td>Pieris rapae</td>\n",
       "      <td>Small White</td>\n",
       "      <td>2009-03-15</td>\n",
       "      <td>15</td>\n",
       "      <td>3</td>\n",
       "      <td>2009</td>\n",
       "      <td>TQ1583</td>\n",
       "      <td>51.538594</td>\n",
       "      <td>-0.336023</td>\n",
       "      <td>Pieridae</td>\n",
       "      <td>Pieris</td>\n",
       "      <td>TQ</td>\n",
       "      <td>TQ18</td>\n",
       "      <td>TQ18L</td>\n",
       "      <td>TQ1583</td>\n",
       "      <td>England</td>\n",
       "      <td>3.9</td>\n",
       "      <td>4.7</td>\n",
       "      <td>3.9</td>\n",
       "      <td>4.7</td>\n",
       "      <td>1.0</td>\n",
       "      <td>1.0</td>\n",
       "      <td>1.0</td>\n",
       "      <td>1.0</td>\n",
       "      <td>1.0</td>\n",
       "      <td>1.0</td>\n",
       "      <td>1.0</td>\n",
       "      <td>1.0</td>\n",
       "      <td>1.0</td>\n",
       "      <td>1.0</td>\n",
       "      <td>1.0</td>\n",
       "      <td>1.0</td>\n",
       "      <td>12.0</td>\n",
       "      <td>M</td>\n",
       "      <td>Mixed canopy (open affinity)</td>\n",
       "      <td>Edge-associated (weak)</td>\n",
       "      <td>Both</td>\n",
       "      <td>Disturbance-associated (strong)</td>\n",
       "      <td>8.0</td>\n",
       "      <td>Least Concern</td>\n",
       "      <td>Least Concern</td>\n",
       "      <td>2009-03-01</td>\n",
       "    </tr>\n",
       "  </tbody>\n",
       "</table>\n",
       "</div>"
      ],
      "text/plain": [
       "    Occurrence_ID    Scientific_name  Common_name Start_date  Start_date_day  \\\n",
       "2         5815274  Polygonia c-album        Comma 2009-03-22              22   \n",
       "22        7657450  Polygonia c-album        Comma 2009-03-22              22   \n",
       "45        5815276  Polygonia c-album        Comma 2009-03-21              21   \n",
       "50        5815272  Polygonia c-album        Comma 2009-03-22              22   \n",
       "92        5815262       Pieris rapae  Small White 2009-03-15              15   \n",
       "\n",
       "    Start_date_month  Start_date_year    OSGR  Latitude_WGS84  \\\n",
       "2                  3             2009  TQ1684       51.547376   \n",
       "22                 3             2009  TQ1684       51.547376   \n",
       "45                 3             2009  TQ1583       51.538594   \n",
       "50                 3             2009  TQ1684       51.547376   \n",
       "92                 3             2009  TQ1583       51.538594   \n",
       "\n",
       "    Longitude_WGS84       Family      Genus OSGR_100km OSGR_10km OSGR_2km  \\\n",
       "2         -0.321280  Nymphalidae  Polygonia         TQ      TQ18    TQ18S   \n",
       "22        -0.321280  Nymphalidae  Polygonia         TQ      TQ18    TQ18S   \n",
       "45        -0.336023  Nymphalidae  Polygonia         TQ      TQ18    TQ18L   \n",
       "50        -0.321280  Nymphalidae  Polygonia         TQ      TQ18    TQ18S   \n",
       "92        -0.336023     Pieridae     Pieris         TQ      TQ18    TQ18L   \n",
       "\n",
       "   OSGR_1km State/Province  WS_L_Fem  WS_U_Fem  WS_L_Mal  WS_U_Mal  Jan  Feb  \\\n",
       "2    TQ1684        England       4.0       5.2       4.1       4.9  1.0  1.0   \n",
       "22   TQ1684        England       4.0       5.2       4.1       4.9  1.0  1.0   \n",
       "45   TQ1583        England       4.0       5.2       4.1       4.9  1.0  1.0   \n",
       "50   TQ1684        England       4.0       5.2       4.1       4.9  1.0  1.0   \n",
       "92   TQ1583        England       3.9       4.7       3.9       4.7  1.0  1.0   \n",
       "\n",
       "    Mar  Apr  May  Jun  Jul  Aug  Sep  Oct  Nov  Dec  FlightDuration  \\\n",
       "2   1.0  1.0  1.0  1.0  1.0  1.0  1.0  1.0  1.0  1.0            12.0   \n",
       "22  1.0  1.0  1.0  1.0  1.0  1.0  1.0  1.0  1.0  1.0            12.0   \n",
       "45  1.0  1.0  1.0  1.0  1.0  1.0  1.0  1.0  1.0  1.0            12.0   \n",
       "50  1.0  1.0  1.0  1.0  1.0  1.0  1.0  1.0  1.0  1.0            12.0   \n",
       "92  1.0  1.0  1.0  1.0  1.0  1.0  1.0  1.0  1.0  1.0            12.0   \n",
       "\n",
       "   Voltinism                CanopyAffinity             EdgeAffinity  \\\n",
       "2          M             Canopy generalist  Edge association varies   \n",
       "22         M             Canopy generalist  Edge association varies   \n",
       "45         M             Canopy generalist  Edge association varies   \n",
       "50         M             Canopy generalist  Edge association varies   \n",
       "92         M  Mixed canopy (open affinity)   Edge-associated (weak)   \n",
       "\n",
       "             MoistureAffinity              DisturbanceAffinity  \\\n",
       "2   Mesic-associated (strong)    Disturbance-avoidant (strong)   \n",
       "22  Mesic-associated (strong)    Disturbance-avoidant (strong)   \n",
       "45  Mesic-associated (strong)    Disturbance-avoidant (strong)   \n",
       "50  Mesic-associated (strong)    Disturbance-avoidant (strong)   \n",
       "92                       Both  Disturbance-associated (strong)   \n",
       "\n",
       "    NumberOfHostplantFamilies Red_List_category 2010_Red_List_category  \\\n",
       "2                        10.0     Least Concern          Least Concern   \n",
       "22                       10.0     Least Concern          Least Concern   \n",
       "45                       10.0     Least Concern          Least Concern   \n",
       "50                       10.0     Least Concern          Least Concern   \n",
       "92                        8.0     Least Concern          Least Concern   \n",
       "\n",
       "   Year_Month  \n",
       "2  2009-03-01  \n",
       "22 2009-03-01  \n",
       "45 2009-03-01  \n",
       "50 2009-03-01  \n",
       "92 2009-03-01  "
      ]
     },
     "execution_count": 28,
     "metadata": {},
     "output_type": "execute_result"
    }
   ],
   "source": [
    "GLondon_df.head()"
   ]
  },
  {
   "cell_type": "markdown",
   "id": "b68d3452-4632-4e55-a556-1071558a92fb",
   "metadata": {},
   "source": [
    "### Number of sightings per Year/Month"
   ]
  },
  {
   "cell_type": "code",
   "execution_count": 122,
   "id": "fae27518-0938-43c0-bd2f-f245b69fd6bb",
   "metadata": {},
   "outputs": [
    {
     "data": {
      "text/html": [
       "<div>\n",
       "<style scoped>\n",
       "    .dataframe tbody tr th:only-of-type {\n",
       "        vertical-align: middle;\n",
       "    }\n",
       "\n",
       "    .dataframe tbody tr th {\n",
       "        vertical-align: top;\n",
       "    }\n",
       "\n",
       "    .dataframe thead th {\n",
       "        text-align: right;\n",
       "    }\n",
       "</style>\n",
       "<table border=\"1\" class=\"dataframe\">\n",
       "  <thead>\n",
       "    <tr style=\"text-align: right;\">\n",
       "      <th></th>\n",
       "      <th>count</th>\n",
       "    </tr>\n",
       "    <tr>\n",
       "      <th>Year_Month</th>\n",
       "      <th></th>\n",
       "    </tr>\n",
       "  </thead>\n",
       "  <tbody>\n",
       "    <tr>\n",
       "      <th>2001-03-01</th>\n",
       "      <td>10</td>\n",
       "    </tr>\n",
       "    <tr>\n",
       "      <th>2001-04-01</th>\n",
       "      <td>197</td>\n",
       "    </tr>\n",
       "    <tr>\n",
       "      <th>2001-05-01</th>\n",
       "      <td>544</td>\n",
       "    </tr>\n",
       "  </tbody>\n",
       "</table>\n",
       "</div>"
      ],
      "text/plain": [
       "            count\n",
       "Year_Month       \n",
       "2001-03-01     10\n",
       "2001-04-01    197\n",
       "2001-05-01    544"
      ]
     },
     "execution_count": 122,
     "metadata": {},
     "output_type": "execute_result"
    }
   ],
   "source": [
    "# Counts of sightings per month in London sites selected\n",
    "Sightings_London = GLondon_df['Year_Month'].value_counts()\n",
    "Sightings_London = pd.DataFrame(Sightings_London).reset_index().sort_values('Year_Month').set_index('Year_Month')\n",
    "Sightings_London.head(3)"
   ]
  },
  {
   "cell_type": "code",
   "execution_count": 131,
   "id": "3159b97a-2c16-494a-963b-b93decda9a3f",
   "metadata": {},
   "outputs": [
    {
     "name": "stdout",
     "output_type": "stream",
     "text": [
      "We have a difference of 82 months over 20 years\n"
     ]
    },
    {
     "data": {
      "image/png": "[encoded data removed]",
      "text/plain": [
       "<Figure size 2500x300 with 1 Axes>"
      ]
     },
     "metadata": {},
     "output_type": "display_data"
    }
   ],
   "source": [
    "######### Making sure we have values for each month of each year #########\n",
    "\n",
    "# Getting every months of each year between first and last date in the dataset \n",
    "full_index = full_range = pd.date_range(start=Sightings_London.index.min(), \n",
    "                                        end=Sightings_London.index.max(), \n",
    "                                        freq='MS')\n",
    "diff_month = len(full_index.difference(Sightings_London.index))\n",
    "print(f'We have a difference of {diff_month} months over 20 years')\n",
    "\n",
    "# Reindexing sightings dataframe to full range of months\n",
    "Sightings_London_2 = Sightings_London.reindex(full_index)\n",
    "\n",
    "# See where the missing values are located\n",
    "plt.figure(figsize=(25, 3))\n",
    "ax = sns.heatmap(Sightings_London_2.isna().T, cbar=False)\n",
    "ax.set(xticklabels=[])\n",
    "plt.show()"
   ]
  },
  {
   "cell_type": "markdown",
   "id": "a25b6991-96df-45c3-8efc-903299317b6c",
   "metadata": {},
   "source": [
    "__COMMENT:__ It looks like the missing values are located in the winter time when there is no surveys organised. The best approach to filling the missing values will therefore be to replace with 0."
   ]
  },
  {
   "cell_type": "code",
   "execution_count": 134,
   "id": "4c97f7ac-f73c-4677-ac5c-5a761ac0462d",
   "metadata": {},
   "outputs": [
    {
     "data": {
      "image/png": "[encoded data removed]",
      "text/plain": [
       "<Figure size 2500x300 with 1 Axes>"
      ]
     },
     "metadata": {},
     "output_type": "display_data"
    }
   ],
   "source": [
    "# Filling missing values\n",
    "Sightings_London_2 = Sightings_London_2.fillna(0) #ffill means forward fill\n",
    "\n",
    "# Sanity Check\n",
    "plt.figure(figsize=(25, 3))\n",
    "ax = sns.heatmap(Sightings_London_2.isna().T, cbar=False)\n",
    "ax.set(xticklabels=[])\n",
    "plt.show()"
   ]
  },
  {
   "cell_type": "markdown",
   "id": "0a9d2aae-984c-4ccf-b7f0-4ac747814f7e",
   "metadata": {},
   "source": [
    "__COMMENT:__ All missing values have been filled, we can proceed."
   ]
  },
  {
   "cell_type": "code",
   "execution_count": 137,
   "id": "155e37bf-276e-493c-ab12-55b84363dc46",
   "metadata": {},
   "outputs": [
    {
     "data": {
      "application/vnd.plotly.v1+json": {
       "config": {
        "plotlyServerURL": "https://plot.ly"
       },
       "data": [
        {
         "line": {
          "color": "#233333"
         },
         "mode": "lines",
         "name": "Sightings",
         "type": "scatter",
         "x": [
          "2001-03-01T00:00:00",
          "2001-04-01T00:00:00",
          "2001-05-01T00:00:00",
          "2001-06-01T00:00:00",
          "2001-07-01T00:00:00",
          "2001-08-01T00:00:00",
          "2001-09-01T00:00:00",
          "2001-10-01T00:00:00",
          "2001-11-01T00:00:00",
          "2001-12-01T00:00:00",
          "2002-01-01T00:00:00",
          "2002-02-01T00:00:00",
          "2002-03-01T00:00:00",
          "2002-04-01T00:00:00",
          "2002-05-01T00:00:00",
          "2002-06-01T00:00:00",
          "2002-07-01T00:00:00",
          "2002-08-01T00:00:00",
          "2002-09-01T00:00:00",
          "2002-10-01T00:00:00",
          "2002-11-01T00:00:00",
          "2002-12-01T00:00:00",
          "2003-01-01T00:00:00",
          "2003-02-01T00:00:00",
          "2003-03-01T00:00:00",
          "2003-04-01T00:00:00",
          "2003-05-01T00:00:00",
          "2003-06-01T00:00:00",
          "2003-07-01T00:00:00",
          "2003-08-01T00:00:00",
          "2003-09-01T00:00:00",
          "2003-10-01T00:00:00",
          "2003-11-01T00:00:00",
          "2003-12-01T00:00:00",
          "2004-01-01T00:00:00",
          "2004-02-01T00:00:00",
          "2004-03-01T00:00:00",
          "2004-04-01T00:00:00",
          "2004-05-01T00:00:00",
          "2004-06-01T00:00:00",
          "2004-07-01T00:00:00",
          "2004-08-01T00:00:00",
          "2004-09-01T00:00:00",
          "2004-10-01T00:00:00",
          "2004-11-01T00:00:00",
          "2004-12-01T00:00:00",
          "2005-01-01T00:00:00",
          "2005-02-01T00:00:00",
          "2005-03-01T00:00:00",
          "2005-04-01T00:00:00",
          "2005-05-01T00:00:00",
          "2005-06-01T00:00:00",
          "2005-07-01T00:00:00",
          "2005-08-01T00:00:00",
          "2005-09-01T00:00:00",
          "2005-10-01T00:00:00",
          "2005-11-01T00:00:00",
          "2005-12-01T00:00:00",
          "2006-01-01T00:00:00",
          "2006-02-01T00:00:00",
          "2006-03-01T00:00:00",
          "2006-04-01T00:00:00",
          "2006-05-01T00:00:00",
          "2006-06-01T00:00:00",
          "2006-07-01T00:00:00",
          "2006-08-01T00:00:00",
          "2006-09-01T00:00:00",
          "2006-10-01T00:00:00",
          "2006-11-01T00:00:00",
          "2006-12-01T00:00:00",
          "2007-01-01T00:00:00",
          "2007-02-01T00:00:00",
          "2007-03-01T00:00:00",
          "2007-04-01T00:00:00",
          "2007-05-01T00:00:00",
          "2007-06-01T00:00:00",
          "2007-07-01T00:00:00",
          "2007-08-01T00:00:00",
          "2007-09-01T00:00:00",
          "2007-10-01T00:00:00",
          "2007-11-01T00:00:00",
          "2007-12-01T00:00:00",
          "2008-01-01T00:00:00",
          "2008-02-01T00:00:00",
          "2008-03-01T00:00:00",
          "2008-04-01T00:00:00",
          "2008-05-01T00:00:00",
          "2008-06-01T00:00:00",
          "2008-07-01T00:00:00",
          "2008-08-01T00:00:00",
          "2008-09-01T00:00:00",
          "2008-10-01T00:00:00",
          "2008-11-01T00:00:00",
          "2008-12-01T00:00:00",
          "2009-01-01T00:00:00",
          "2009-02-01T00:00:00",
          "2009-03-01T00:00:00",
          "2009-04-01T00:00:00",
          "2009-05-01T00:00:00",
          "2009-06-01T00:00:00",
          "2009-07-01T00:00:00",
          "2009-08-01T00:00:00",
          "2009-09-01T00:00:00",
          "2009-10-01T00:00:00",
          "2009-11-01T00:00:00",
          "2009-12-01T00:00:00",
          "2010-01-01T00:00:00",
          "2010-02-01T00:00:00",
          "2010-03-01T00:00:00",
          "2010-04-01T00:00:00",
          "2010-05-01T00:00:00",
          "2010-06-01T00:00:00",
          "2010-07-01T00:00:00",
          "2010-08-01T00:00:00",
          "2010-09-01T00:00:00",
          "2010-10-01T00:00:00",
          "2010-11-01T00:00:00",
          "2010-12-01T00:00:00",
          "2011-01-01T00:00:00",
          "2011-02-01T00:00:00",
          "2011-03-01T00:00:00",
          "2011-04-01T00:00:00",
          "2011-05-01T00:00:00",
          "2011-06-01T00:00:00",
          "2011-07-01T00:00:00",
          "2011-08-01T00:00:00",
          "2011-09-01T00:00:00",
          "2011-10-01T00:00:00",
          "2011-11-01T00:00:00",
          "2011-12-01T00:00:00",
          "2012-01-01T00:00:00",
          "2012-02-01T00:00:00",
          "2012-03-01T00:00:00",
          "2012-04-01T00:00:00",
          "2012-05-01T00:00:00",
          "2012-06-01T00:00:00",
          "2012-07-01T00:00:00",
          "2012-08-01T00:00:00",
          "2012-09-01T00:00:00",
          "2012-10-01T00:00:00",
          "2012-11-01T00:00:00",
          "2012-12-01T00:00:00",
          "2013-01-01T00:00:00",
          "2013-02-01T00:00:00",
          "2013-03-01T00:00:00",
          "2013-04-01T00:00:00",
          "2013-05-01T00:00:00",
          "2013-06-01T00:00:00",
          "2013-07-01T00:00:00",
          "2013-08-01T00:00:00",
          "2013-09-01T00:00:00",
          "2013-10-01T00:00:00",
          "2013-11-01T00:00:00",
          "2013-12-01T00:00:00",
          "2014-01-01T00:00:00",
          "2014-02-01T00:00:00",
          "2014-03-01T00:00:00",
          "2014-04-01T00:00:00",
          "2014-05-01T00:00:00",
          "2014-06-01T00:00:00",
          "2014-07-01T00:00:00",
          "2014-08-01T00:00:00",
          "2014-09-01T00:00:00",
          "2014-10-01T00:00:00",
          "2014-11-01T00:00:00",
          "2014-12-01T00:00:00",
          "2015-01-01T00:00:00",
          "2015-02-01T00:00:00",
          "2015-03-01T00:00:00",
          "2015-04-01T00:00:00",
          "2015-05-01T00:00:00",
          "2015-06-01T00:00:00",
          "2015-07-01T00:00:00",
          "2015-08-01T00:00:00",
          "2015-09-01T00:00:00",
          "2015-10-01T00:00:00",
          "2015-11-01T00:00:00",
          "2015-12-01T00:00:00",
          "2016-01-01T00:00:00",
          "2016-02-01T00:00:00",
          "2016-03-01T00:00:00",
          "2016-04-01T00:00:00",
          "2016-05-01T00:00:00",
          "2016-06-01T00:00:00",
          "2016-07-01T00:00:00",
          "2016-08-01T00:00:00",
          "2016-09-01T00:00:00",
          "2016-10-01T00:00:00",
          "2016-11-01T00:00:00",
          "2016-12-01T00:00:00",
          "2017-01-01T00:00:00",
          "2017-02-01T00:00:00",
          "2017-03-01T00:00:00",
          "2017-04-01T00:00:00",
          "2017-05-01T00:00:00",
          "2017-06-01T00:00:00",
          "2017-07-01T00:00:00",
          "2017-08-01T00:00:00",
          "2017-09-01T00:00:00",
          "2017-10-01T00:00:00",
          "2017-11-01T00:00:00",
          "2017-12-01T00:00:00",
          "2018-01-01T00:00:00",
          "2018-02-01T00:00:00",
          "2018-03-01T00:00:00",
          "2018-04-01T00:00:00",
          "2018-05-01T00:00:00",
          "2018-06-01T00:00:00",
          "2018-07-01T00:00:00",
          "2018-08-01T00:00:00",
          "2018-09-01T00:00:00",
          "2018-10-01T00:00:00",
          "2018-11-01T00:00:00",
          "2018-12-01T00:00:00",
          "2019-01-01T00:00:00",
          "2019-02-01T00:00:00",
          "2019-03-01T00:00:00",
          "2019-04-01T00:00:00",
          "2019-05-01T00:00:00",
          "2019-06-01T00:00:00",
          "2019-07-01T00:00:00",
          "2019-08-01T00:00:00",
          "2019-09-01T00:00:00",
          "2019-10-01T00:00:00",
          "2019-11-01T00:00:00",
          "2019-12-01T00:00:00",
          "2020-01-01T00:00:00",
          "2020-02-01T00:00:00",
          "2020-03-01T00:00:00",
          "2020-04-01T00:00:00",
          "2020-05-01T00:00:00",
          "2020-06-01T00:00:00",
          "2020-07-01T00:00:00",
          "2020-08-01T00:00:00",
          "2020-09-01T00:00:00",
          "2020-10-01T00:00:00"
         ],
         "y": [
          10,
          197,
          544,
          202,
          1306,
          721,
          298,
          0,
          0,
          0,
          0,
          0,
          17,
          577,
          654,
          483,
          1307,
          924,
          306,
          0,
          0,
          0,
          0,
          0,
          49,
          591,
          579,
          1264,
          2737,
          1853,
          850,
          5,
          0,
          0,
          0,
          0,
          6,
          296,
          476,
          566,
          1394,
          1039,
          384,
          3,
          0,
          0,
          0,
          0,
          0,
          664,
          709,
          763,
          1723,
          1297,
          403,
          16,
          0,
          0,
          0,
          0,
          5,
          353,
          883,
          930,
          2486,
          1267,
          552,
          1,
          0,
          0,
          0,
          0,
          15,
          934,
          553,
          937,
          2195,
          948,
          366,
          0,
          0,
          0,
          0,
          0,
          6,
          345,
          800,
          680,
          2327,
          1396,
          665,
          1,
          0,
          0,
          0,
          0,
          19,
          1236,
          1340,
          1322,
          3392,
          2177,
          788,
          20,
          0,
          0,
          0,
          0,
          2,
          934,
          931,
          1018,
          3135,
          1720,
          661,
          2,
          0,
          0,
          0,
          0,
          24,
          1374,
          1123,
          1518,
          2984,
          1507,
          880,
          12,
          0,
          0,
          0,
          0,
          40,
          363,
          675,
          515,
          1790,
          1610,
          773,
          11,
          0,
          0,
          0,
          0,
          0,
          510,
          1132,
          740,
          2949,
          2771,
          594,
          0,
          0,
          0,
          0,
          0,
          40,
          1138,
          769,
          1389,
          3018,
          1356,
          659,
          6,
          0,
          0,
          0,
          0,
          4,
          1154,
          1143,
          1089,
          2988,
          1789,
          549,
          6,
          0,
          0,
          0,
          0,
          7,
          412,
          1339,
          721,
          2794,
          1870,
          745,
          11,
          0,
          0,
          0,
          0,
          55,
          1155,
          1197,
          2237,
          4069,
          2367,
          812,
          51,
          0,
          0,
          0,
          0,
          7,
          898,
          2409,
          2782,
          6064,
          2852,
          1015,
          10,
          0,
          0,
          0,
          0,
          117,
          1418,
          1309,
          1957,
          5654,
          2966,
          1192,
          6,
          0,
          0,
          0,
          0,
          35,
          450,
          716,
          1634,
          3863,
          1425,
          699,
          20
         ]
        },
        {
         "line": {
          "color": "#EBACA0",
          "dash": "dash"
         },
         "mode": "lines",
         "name": "Mean",
         "type": "scatter",
         "x": [
          "2001-03-01T00:00:00",
          "2001-04-01T00:00:00",
          "2001-05-01T00:00:00",
          "2001-06-01T00:00:00",
          "2001-07-01T00:00:00",
          "2001-08-01T00:00:00",
          "2001-09-01T00:00:00",
          "2001-10-01T00:00:00",
          "2001-11-01T00:00:00",
          "2001-12-01T00:00:00",
          "2002-01-01T00:00:00",
          "2002-02-01T00:00:00",
          "2002-03-01T00:00:00",
          "2002-04-01T00:00:00",
          "2002-05-01T00:00:00",
          "2002-06-01T00:00:00",
          "2002-07-01T00:00:00",
          "2002-08-01T00:00:00",
          "2002-09-01T00:00:00",
          "2002-10-01T00:00:00",
          "2002-11-01T00:00:00",
          "2002-12-01T00:00:00",
          "2003-01-01T00:00:00",
          "2003-02-01T00:00:00",
          "2003-03-01T00:00:00",
          "2003-04-01T00:00:00",
          "2003-05-01T00:00:00",
          "2003-06-01T00:00:00",
          "2003-07-01T00:00:00",
          "2003-08-01T00:00:00",
          "2003-09-01T00:00:00",
          "2003-10-01T00:00:00",
          "2003-11-01T00:00:00",
          "2003-12-01T00:00:00",
          "2004-01-01T00:00:00",
          "2004-02-01T00:00:00",
          "2004-03-01T00:00:00",
          "2004-04-01T00:00:00",
          "2004-05-01T00:00:00",
          "2004-06-01T00:00:00",
          "2004-07-01T00:00:00",
          "2004-08-01T00:00:00",
          "2004-09-01T00:00:00",
          "2004-10-01T00:00:00",
          "2004-11-01T00:00:00",
          "2004-12-01T00:00:00",
          "2005-01-01T00:00:00",
          "2005-02-01T00:00:00",
          "2005-03-01T00:00:00",
          "2005-04-01T00:00:00",
          "2005-05-01T00:00:00",
          "2005-06-01T00:00:00",
          "2005-07-01T00:00:00",
          "2005-08-01T00:00:00",
          "2005-09-01T00:00:00",
          "2005-10-01T00:00:00",
          "2005-11-01T00:00:00",
          "2005-12-01T00:00:00",
          "2006-01-01T00:00:00",
          "2006-02-01T00:00:00",
          "2006-03-01T00:00:00",
          "2006-04-01T00:00:00",
          "2006-05-01T00:00:00",
          "2006-06-01T00:00:00",
          "2006-07-01T00:00:00",
          "2006-08-01T00:00:00",
          "2006-09-01T00:00:00",
          "2006-10-01T00:00:00",
          "2006-11-01T00:00:00",
          "2006-12-01T00:00:00",
          "2007-01-01T00:00:00",
          "2007-02-01T00:00:00",
          "2007-03-01T00:00:00",
          "2007-04-01T00:00:00",
          "2007-05-01T00:00:00",
          "2007-06-01T00:00:00",
          "2007-07-01T00:00:00",
          "2007-08-01T00:00:00",
          "2007-09-01T00:00:00",
          "2007-10-01T00:00:00",
          "2007-11-01T00:00:00",
          "2007-12-01T00:00:00",
          "2008-01-01T00:00:00",
          "2008-02-01T00:00:00",
          "2008-03-01T00:00:00",
          "2008-04-01T00:00:00",
          "2008-05-01T00:00:00",
          "2008-06-01T00:00:00",
          "2008-07-01T00:00:00",
          "2008-08-01T00:00:00",
          "2008-09-01T00:00:00",
          "2008-10-01T00:00:00",
          "2008-11-01T00:00:00",
          "2008-12-01T00:00:00",
          "2009-01-01T00:00:00",
          "2009-02-01T00:00:00",
          "2009-03-01T00:00:00",
          "2009-04-01T00:00:00",
          "2009-05-01T00:00:00",
          "2009-06-01T00:00:00",
          "2009-07-01T00:00:00",
          "2009-08-01T00:00:00",
          "2009-09-01T00:00:00",
          "2009-10-01T00:00:00",
          "2009-11-01T00:00:00",
          "2009-12-01T00:00:00",
          "2010-01-01T00:00:00",
          "2010-02-01T00:00:00",
          "2010-03-01T00:00:00",
          "2010-04-01T00:00:00",
          "2010-05-01T00:00:00",
          "2010-06-01T00:00:00",
          "2010-07-01T00:00:00",
          "2010-08-01T00:00:00",
          "2010-09-01T00:00:00",
          "2010-10-01T00:00:00",
          "2010-11-01T00:00:00",
          "2010-12-01T00:00:00",
          "2011-01-01T00:00:00",
          "2011-02-01T00:00:00",
          "2011-03-01T00:00:00",
          "2011-04-01T00:00:00",
          "2011-05-01T00:00:00",
          "2011-06-01T00:00:00",
          "2011-07-01T00:00:00",
          "2011-08-01T00:00:00",
          "2011-09-01T00:00:00",
          "2011-10-01T00:00:00",
          "2011-11-01T00:00:00",
          "2011-12-01T00:00:00",
          "2012-01-01T00:00:00",
          "2012-02-01T00:00:00",
          "2012-03-01T00:00:00",
          "2012-04-01T00:00:00",
          "2012-05-01T00:00:00",
          "2012-06-01T00:00:00",
          "2012-07-01T00:00:00",
          "2012-08-01T00:00:00",
          "2012-09-01T00:00:00",
          "2012-10-01T00:00:00",
          "2012-11-01T00:00:00",
          "2012-12-01T00:00:00",
          "2013-01-01T00:00:00",
          "2013-02-01T00:00:00",
          "2013-03-01T00:00:00",
          "2013-04-01T00:00:00",
          "2013-05-01T00:00:00",
          "2013-06-01T00:00:00",
          "2013-07-01T00:00:00",
          "2013-08-01T00:00:00",
          "2013-09-01T00:00:00",
          "2013-10-01T00:00:00",
          "2013-11-01T00:00:00",
          "2013-12-01T00:00:00",
          "2014-01-01T00:00:00",
          "2014-02-01T00:00:00",
          "2014-03-01T00:00:00",
          "2014-04-01T00:00:00",
          "2014-05-01T00:00:00",
          "2014-06-01T00:00:00",
          "2014-07-01T00:00:00",
          "2014-08-01T00:00:00",
          "2014-09-01T00:00:00",
          "2014-10-01T00:00:00",
          "2014-11-01T00:00:00",
          "2014-12-01T00:00:00",
          "2015-01-01T00:00:00",
          "2015-02-01T00:00:00",
          "2015-03-01T00:00:00",
          "2015-04-01T00:00:00",
          "2015-05-01T00:00:00",
          "2015-06-01T00:00:00",
          "2015-07-01T00:00:00",
          "2015-08-01T00:00:00",
          "2015-09-01T00:00:00",
          "2015-10-01T00:00:00",
          "2015-11-01T00:00:00",
          "2015-12-01T00:00:00",
          "2016-01-01T00:00:00",
          "2016-02-01T00:00:00",
          "2016-03-01T00:00:00",
          "2016-04-01T00:00:00",
          "2016-05-01T00:00:00",
          "2016-06-01T00:00:00",
          "2016-07-01T00:00:00",
          "2016-08-01T00:00:00",
          "2016-09-01T00:00:00",
          "2016-10-01T00:00:00",
          "2016-11-01T00:00:00",
          "2016-12-01T00:00:00",
          "2017-01-01T00:00:00",
          "2017-02-01T00:00:00",
          "2017-03-01T00:00:00",
          "2017-04-01T00:00:00",
          "2017-05-01T00:00:00",
          "2017-06-01T00:00:00",
          "2017-07-01T00:00:00",
          "2017-08-01T00:00:00",
          "2017-09-01T00:00:00",
          "2017-10-01T00:00:00",
          "2017-11-01T00:00:00",
          "2017-12-01T00:00:00",
          "2018-01-01T00:00:00",
          "2018-02-01T00:00:00",
          "2018-03-01T00:00:00",
          "2018-04-01T00:00:00",
          "2018-05-01T00:00:00",
          "2018-06-01T00:00:00",
          "2018-07-01T00:00:00",
          "2018-08-01T00:00:00",
          "2018-09-01T00:00:00",
          "2018-10-01T00:00:00",
          "2018-11-01T00:00:00",
          "2018-12-01T00:00:00",
          "2019-01-01T00:00:00",
          "2019-02-01T00:00:00",
          "2019-03-01T00:00:00",
          "2019-04-01T00:00:00",
          "2019-05-01T00:00:00",
          "2019-06-01T00:00:00",
          "2019-07-01T00:00:00",
          "2019-08-01T00:00:00",
          "2019-09-01T00:00:00",
          "2019-10-01T00:00:00",
          "2019-11-01T00:00:00",
          "2019-12-01T00:00:00",
          "2020-01-01T00:00:00",
          "2020-02-01T00:00:00",
          "2020-03-01T00:00:00",
          "2020-04-01T00:00:00",
          "2020-05-01T00:00:00",
          "2020-06-01T00:00:00",
          "2020-07-01T00:00:00",
          "2020-08-01T00:00:00",
          "2020-09-01T00:00:00",
          "2020-10-01T00:00:00"
         ],
         "y": [
          690.1991525423729,
          690.1991525423729,
          690.1991525423729,
          690.1991525423729,
          690.1991525423729,
          690.1991525423729,
          690.1991525423729,
          690.1991525423729,
          690.1991525423729,
          690.1991525423729,
          690.1991525423729,
          690.1991525423729,
          690.1991525423729,
          690.1991525423729,
          690.1991525423729,
          690.1991525423729,
          690.1991525423729,
          690.1991525423729,
          690.1991525423729,
          690.1991525423729,
          690.1991525423729,
          690.1991525423729,
          690.1991525423729,
          690.1991525423729,
          690.1991525423729,
          690.1991525423729,
          690.1991525423729,
          690.1991525423729,
          690.1991525423729,
          690.1991525423729,
          690.1991525423729,
          690.1991525423729,
          690.1991525423729,
          690.1991525423729,
          690.1991525423729,
          690.1991525423729,
          690.1991525423729,
          690.1991525423729,
          690.1991525423729,
          690.1991525423729,
          690.1991525423729,
          690.1991525423729,
          690.1991525423729,
          690.1991525423729,
          690.1991525423729,
          690.1991525423729,
          690.1991525423729,
          690.1991525423729,
          690.1991525423729,
          690.1991525423729,
          690.1991525423729,
          690.1991525423729,
          690.1991525423729,
          690.1991525423729,
          690.1991525423729,
          690.1991525423729,
          690.1991525423729,
          690.1991525423729,
          690.1991525423729,
          690.1991525423729,
          690.1991525423729,
          690.1991525423729,
          690.1991525423729,
          690.1991525423729,
          690.1991525423729,
          690.1991525423729,
          690.1991525423729,
          690.1991525423729,
          690.1991525423729,
          690.1991525423729,
          690.1991525423729,
          690.1991525423729,
          690.1991525423729,
          690.1991525423729,
          690.1991525423729,
          690.1991525423729,
          690.1991525423729,
          690.1991525423729,
          690.1991525423729,
          690.1991525423729,
          690.1991525423729,
          690.1991525423729,
          690.1991525423729,
          690.1991525423729,
          690.1991525423729,
          690.1991525423729,
          690.1991525423729,
          690.1991525423729,
          690.1991525423729,
          690.1991525423729,
          690.1991525423729,
          690.1991525423729,
          690.1991525423729,
          690.1991525423729,
          690.1991525423729,
          690.1991525423729,
          690.1991525423729,
          690.1991525423729,
          690.1991525423729,
          690.1991525423729,
          690.1991525423729,
          690.1991525423729,
          690.1991525423729,
          690.1991525423729,
          690.1991525423729,
          690.1991525423729,
          690.1991525423729,
          690.1991525423729,
          690.1991525423729,
          690.1991525423729,
          690.1991525423729,
          690.1991525423729,
          690.1991525423729,
          690.1991525423729,
          690.1991525423729,
          690.1991525423729,
          690.1991525423729,
          690.1991525423729,
          690.1991525423729,
          690.1991525423729,
          690.1991525423729,
          690.1991525423729,
          690.1991525423729,
          690.1991525423729,
          690.1991525423729,
          690.1991525423729,
          690.1991525423729,
          690.1991525423729,
          690.1991525423729,
          690.1991525423729,
          690.1991525423729,
          690.1991525423729,
          690.1991525423729,
          690.1991525423729,
          690.1991525423729,
          690.1991525423729,
          690.1991525423729,
          690.1991525423729,
          690.1991525423729,
          690.1991525423729,
          690.1991525423729,
          690.1991525423729,
          690.1991525423729,
          690.1991525423729,
          690.1991525423729,
          690.1991525423729,
          690.1991525423729,
          690.1991525423729,
          690.1991525423729,
          690.1991525423729,
          690.1991525423729,
          690.1991525423729,
          690.1991525423729,
          690.1991525423729,
          690.1991525423729,
          690.1991525423729,
          690.1991525423729,
          690.1991525423729,
          690.1991525423729,
          690.1991525423729,
          690.1991525423729,
          690.1991525423729,
          690.1991525423729,
          690.1991525423729,
          690.1991525423729,
          690.1991525423729,
          690.1991525423729,
          690.1991525423729,
          690.1991525423729,
          690.1991525423729,
          690.1991525423729,
          690.1991525423729,
          690.1991525423729,
          690.1991525423729,
          690.1991525423729,
          690.1991525423729,
          690.1991525423729,
          690.1991525423729,
          690.1991525423729,
          690.1991525423729,
          690.1991525423729,
          690.1991525423729,
          690.1991525423729,
          690.1991525423729,
          690.1991525423729,
          690.1991525423729,
          690.1991525423729,
          690.1991525423729,
          690.1991525423729,
          690.1991525423729,
          690.1991525423729,
          690.1991525423729,
          690.1991525423729,
          690.1991525423729,
          690.1991525423729,
          690.1991525423729,
          690.1991525423729,
          690.1991525423729,
          690.1991525423729,
          690.1991525423729,
          690.1991525423729,
          690.1991525423729,
          690.1991525423729,
          690.1991525423729,
          690.1991525423729,
          690.1991525423729,
          690.1991525423729,
          690.1991525423729,
          690.1991525423729,
          690.1991525423729,
          690.1991525423729,
          690.1991525423729,
          690.1991525423729,
          690.1991525423729,
          690.1991525423729,
          690.1991525423729,
          690.1991525423729,
          690.1991525423729,
          690.1991525423729,
          690.1991525423729,
          690.1991525423729,
          690.1991525423729,
          690.1991525423729,
          690.1991525423729,
          690.1991525423729,
          690.1991525423729,
          690.1991525423729,
          690.1991525423729,
          690.1991525423729,
          690.1991525423729,
          690.1991525423729,
          690.1991525423729,
          690.1991525423729,
          690.1991525423729,
          690.1991525423729,
          690.1991525423729
         ]
        }
       ],
       "layout": {
        "height": 550,
        "plot_bgcolor": "white",
        "showlegend": true,
        "template": {
         "data": {
          "bar": [
           {
            "error_x": {
             "color": "#2a3f5f"
            },
            "error_y": {
             "color": "#2a3f5f"
            },
            "marker": {
             "line": {
              "color": "#E5ECF6",
              "width": 0.5
             },
             "pattern": {
              "fillmode": "overlay",
              "size": 10,
              "solidity": 0.2
             }
            },
            "type": "bar"
           }
          ],
          "barpolar": [
           {
            "marker": {
             "line": {
              "color": "#E5ECF6",
              "width": 0.5
             },
             "pattern": {
              "fillmode": "overlay",
              "size": 10,
              "solidity": 0.2
             }
            },
            "type": "barpolar"
           }
          ],
          "carpet": [
           {
            "aaxis": {
             "endlinecolor": "#2a3f5f",
             "gridcolor": "white",
             "linecolor": "white",
             "minorgridcolor": "white",
             "startlinecolor": "#2a3f5f"
            },
            "baxis": {
             "endlinecolor": "#2a3f5f",
             "gridcolor": "white",
             "linecolor": "white",
             "minorgridcolor": "white",
             "startlinecolor": "#2a3f5f"
            },
            "type": "carpet"
           }
          ],
          "choropleth": [
           {
            "colorbar": {
             "outlinewidth": 0,
             "ticks": ""
            },
            "type": "choropleth"
           }
          ],
          "contour": [
           {
            "colorbar": {
             "outlinewidth": 0,
             "ticks": ""
            },
            "colorscale": [
             [
              0,
              "#0d0887"
             ],
             [
              0.1111111111111111,
              "#46039f"
             ],
             [
              0.2222222222222222,
              "#7201a8"
             ],
             [
              0.3333333333333333,
              "#9c179e"
             ],
             [
              0.4444444444444444,
              "#bd3786"
             ],
             [
              0.5555555555555556,
              "#d8576b"
             ],
             [
              0.6666666666666666,
              "#ed7953"
             ],
             [
              0.7777777777777778,
              "#fb9f3a"
             ],
             [
              0.8888888888888888,
              "#fdca26"
             ],
             [
              1,
              "#f0f921"
             ]
            ],
            "type": "contour"
           }
          ],
          "contourcarpet": [
           {
            "colorbar": {
             "outlinewidth": 0,
             "ticks": ""
            },
            "type": "contourcarpet"
           }
          ],
          "heatmap": [
           {
            "colorbar": {
             "outlinewidth": 0,
             "ticks": ""
            },
            "colorscale": [
             [
              0,
              "#0d0887"
             ],
             [
              0.1111111111111111,
              "#46039f"
             ],
             [
              0.2222222222222222,
              "#7201a8"
             ],
             [
              0.3333333333333333,
              "#9c179e"
             ],
             [
              0.4444444444444444,
              "#bd3786"
             ],
             [
              0.5555555555555556,
              "#d8576b"
             ],
             [
              0.6666666666666666,
              "#ed7953"
             ],
             [
              0.7777777777777778,
              "#fb9f3a"
             ],
             [
              0.8888888888888888,
              "#fdca26"
             ],
             [
              1,
              "#f0f921"
             ]
            ],
            "type": "heatmap"
           }
          ],
          "heatmapgl": [
           {
            "colorbar": {
             "outlinewidth": 0,
             "ticks": ""
            },
            "colorscale": [
             [
              0,
              "#0d0887"
             ],
             [
              0.1111111111111111,
              "#46039f"
             ],
             [
              0.2222222222222222,
              "#7201a8"
             ],
             [
              0.3333333333333333,
              "#9c179e"
             ],
             [
              0.4444444444444444,
              "#bd3786"
             ],
             [
              0.5555555555555556,
              "#d8576b"
             ],
             [
              0.6666666666666666,
              "#ed7953"
             ],
             [
              0.7777777777777778,
              "#fb9f3a"
             ],
             [
              0.8888888888888888,
              "#fdca26"
             ],
             [
              1,
              "#f0f921"
             ]
            ],
            "type": "heatmapgl"
           }
          ],
          "histogram": [
           {
            "marker": {
             "pattern": {
              "fillmode": "overlay",
              "size": 10,
              "solidity": 0.2
             }
            },
            "type": "histogram"
           }
          ],
          "histogram2d": [
           {
            "colorbar": {
             "outlinewidth": 0,
             "ticks": ""
            },
            "colorscale": [
             [
              0,
              "#0d0887"
             ],
             [
              0.1111111111111111,
              "#46039f"
             ],
             [
              0.2222222222222222,
              "#7201a8"
             ],
             [
              0.3333333333333333,
              "#9c179e"
             ],
             [
              0.4444444444444444,
              "#bd3786"
             ],
             [
              0.5555555555555556,
              "#d8576b"
             ],
             [
              0.6666666666666666,
              "#ed7953"
             ],
             [
              0.7777777777777778,
              "#fb9f3a"
             ],
             [
              0.8888888888888888,
              "#fdca26"
             ],
             [
              1,
              "#f0f921"
             ]
            ],
            "type": "histogram2d"
           }
          ],
          "histogram2dcontour": [
           {
            "colorbar": {
             "outlinewidth": 0,
             "ticks": ""
            },
            "colorscale": [
             [
              0,
              "#0d0887"
             ],
             [
              0.1111111111111111,
              "#46039f"
             ],
             [
              0.2222222222222222,
              "#7201a8"
             ],
             [
              0.3333333333333333,
              "#9c179e"
             ],
             [
              0.4444444444444444,
              "#bd3786"
             ],
             [
              0.5555555555555556,
              "#d8576b"
             ],
             [
              0.6666666666666666,
              "#ed7953"
             ],
             [
              0.7777777777777778,
              "#fb9f3a"
             ],
             [
              0.8888888888888888,
              "#fdca26"
             ],
             [
              1,
              "#f0f921"
             ]
            ],
            "type": "histogram2dcontour"
           }
          ],
          "mesh3d": [
           {
            "colorbar": {
             "outlinewidth": 0,
             "ticks": ""
            },
            "type": "mesh3d"
           }
          ],
          "parcoords": [
           {
            "line": {
             "colorbar": {
              "outlinewidth": 0,
              "ticks": ""
             }
            },
            "type": "parcoords"
           }
          ],
          "pie": [
           {
            "automargin": true,
            "type": "pie"
           }
          ],
          "scatter": [
           {
            "fillpattern": {
             "fillmode": "overlay",
             "size": 10,
             "solidity": 0.2
            },
            "type": "scatter"
           }
          ],
          "scatter3d": [
           {
            "line": {
             "colorbar": {
              "outlinewidth": 0,
              "ticks": ""
             }
            },
            "marker": {
             "colorbar": {
              "outlinewidth": 0,
              "ticks": ""
             }
            },
            "type": "scatter3d"
           }
          ],
          "scattercarpet": [
           {
            "marker": {
             "colorbar": {
              "outlinewidth": 0,
              "ticks": ""
             }
            },
            "type": "scattercarpet"
           }
          ],
          "scattergeo": [
           {
            "marker": {
             "colorbar": {
              "outlinewidth": 0,
              "ticks": ""
             }
            },
            "type": "scattergeo"
           }
          ],
          "scattergl": [
           {
            "marker": {
             "colorbar": {
              "outlinewidth": 0,
              "ticks": ""
             }
            },
            "type": "scattergl"
           }
          ],
          "scattermapbox": [
           {
            "marker": {
             "colorbar": {
              "outlinewidth": 0,
              "ticks": ""
             }
            },
            "type": "scattermapbox"
           }
          ],
          "scatterpolar": [
           {
            "marker": {
             "colorbar": {
              "outlinewidth": 0,
              "ticks": ""
             }
            },
            "type": "scatterpolar"
           }
          ],
          "scatterpolargl": [
           {
            "marker": {
             "colorbar": {
              "outlinewidth": 0,
              "ticks": ""
             }
            },
            "type": "scatterpolargl"
           }
          ],
          "scatterternary": [
           {
            "marker": {
             "colorbar": {
              "outlinewidth": 0,
              "ticks": ""
             }
            },
            "type": "scatterternary"
           }
          ],
          "surface": [
           {
            "colorbar": {
             "outlinewidth": 0,
             "ticks": ""
            },
            "colorscale": [
             [
              0,
              "#0d0887"
             ],
             [
              0.1111111111111111,
              "#46039f"
             ],
             [
              0.2222222222222222,
              "#7201a8"
             ],
             [
              0.3333333333333333,
              "#9c179e"
             ],
             [
              0.4444444444444444,
              "#bd3786"
             ],
             [
              0.5555555555555556,
              "#d8576b"
             ],
             [
              0.6666666666666666,
              "#ed7953"
             ],
             [
              0.7777777777777778,
              "#fb9f3a"
             ],
             [
              0.8888888888888888,
              "#fdca26"
             ],
             [
              1,
              "#f0f921"
             ]
            ],
            "type": "surface"
           }
          ],
          "table": [
           {
            "cells": {
             "fill": {
              "color": "#EBF0F8"
             },
             "line": {
              "color": "white"
             }
            },
            "header": {
             "fill": {
              "color": "#C8D4E3"
             },
             "line": {
              "color": "white"
             }
            },
            "type": "table"
           }
          ]
         },
         "layout": {
          "annotationdefaults": {
           "arrowcolor": "#2a3f5f",
           "arrowhead": 0,
           "arrowwidth": 1
          },
          "autotypenumbers": "strict",
          "coloraxis": {
           "colorbar": {
            "outlinewidth": 0,
            "ticks": ""
           }
          },
          "colorscale": {
           "diverging": [
            [
             0,
             "#8e0152"
            ],
            [
             0.1,
             "#c51b7d"
            ],
            [
             0.2,
             "#de77ae"
            ],
            [
             0.3,
             "#f1b6da"
            ],
            [
             0.4,
             "#fde0ef"
            ],
            [
             0.5,
             "#f7f7f7"
            ],
            [
             0.6,
             "#e6f5d0"
            ],
            [
             0.7,
             "#b8e186"
            ],
            [
             0.8,
             "#7fbc41"
            ],
            [
             0.9,
             "#4d9221"
            ],
            [
             1,
             "#276419"
            ]
           ],
           "sequential": [
            [
             0,
             "#0d0887"
            ],
            [
             0.1111111111111111,
             "#46039f"
            ],
            [
             0.2222222222222222,
             "#7201a8"
            ],
            [
             0.3333333333333333,
             "#9c179e"
            ],
            [
             0.4444444444444444,
             "#bd3786"
            ],
            [
             0.5555555555555556,
             "#d8576b"
            ],
            [
             0.6666666666666666,
             "#ed7953"
            ],
            [
             0.7777777777777778,
             "#fb9f3a"
            ],
            [
             0.8888888888888888,
             "#fdca26"
            ],
            [
             1,
             "#f0f921"
            ]
           ],
           "sequentialminus": [
            [
             0,
             "#0d0887"
            ],
            [
             0.1111111111111111,
             "#46039f"
            ],
            [
             0.2222222222222222,
             "#7201a8"
            ],
            [
             0.3333333333333333,
             "#9c179e"
            ],
            [
             0.4444444444444444,
             "#bd3786"
            ],
            [
             0.5555555555555556,
             "#d8576b"
            ],
            [
             0.6666666666666666,
             "#ed7953"
            ],
            [
             0.7777777777777778,
             "#fb9f3a"
            ],
            [
             0.8888888888888888,
             "#fdca26"
            ],
            [
             1,
             "#f0f921"
            ]
           ]
          },
          "colorway": [
           "#636efa",
           "#EF553B",
           "#00cc96",
           "#ab63fa",
           "#FFA15A",
           "#19d3f3",
           "#FF6692",
           "#B6E880",
           "#FF97FF",
           "#FECB52"
          ],
          "font": {
           "color": "#2a3f5f"
          },
          "geo": {
           "bgcolor": "white",
           "lakecolor": "white",
           "landcolor": "#E5ECF6",
           "showlakes": true,
           "showland": true,
           "subunitcolor": "white"
          },
          "hoverlabel": {
           "align": "left"
          },
          "hovermode": "closest",
          "mapbox": {
           "style": "light"
          },
          "paper_bgcolor": "white",
          "plot_bgcolor": "#E5ECF6",
          "polar": {
           "angularaxis": {
            "gridcolor": "white",
            "linecolor": "white",
            "ticks": ""
           },
           "bgcolor": "#E5ECF6",
           "radialaxis": {
            "gridcolor": "white",
            "linecolor": "white",
            "ticks": ""
           }
          },
          "scene": {
           "xaxis": {
            "backgroundcolor": "#E5ECF6",
            "gridcolor": "white",
            "gridwidth": 2,
            "linecolor": "white",
            "showbackground": true,
            "ticks": "",
            "zerolinecolor": "white"
           },
           "yaxis": {
            "backgroundcolor": "#E5ECF6",
            "gridcolor": "white",
            "gridwidth": 2,
            "linecolor": "white",
            "showbackground": true,
            "ticks": "",
            "zerolinecolor": "white"
           },
           "zaxis": {
            "backgroundcolor": "#E5ECF6",
            "gridcolor": "white",
            "gridwidth": 2,
            "linecolor": "white",
            "showbackground": true,
            "ticks": "",
            "zerolinecolor": "white"
           }
          },
          "shapedefaults": {
           "line": {
            "color": "#2a3f5f"
           }
          },
          "ternary": {
           "aaxis": {
            "gridcolor": "white",
            "linecolor": "white",
            "ticks": ""
           },
           "baxis": {
            "gridcolor": "white",
            "linecolor": "white",
            "ticks": ""
           },
           "bgcolor": "#E5ECF6",
           "caxis": {
            "gridcolor": "white",
            "linecolor": "white",
            "ticks": ""
           }
          },
          "title": {
           "x": 0.05
          },
          "xaxis": {
           "automargin": true,
           "gridcolor": "white",
           "linecolor": "white",
           "ticks": "",
           "title": {
            "standoff": 15
           },
           "zerolinecolor": "white",
           "zerolinewidth": 2
          },
          "yaxis": {
           "automargin": true,
           "gridcolor": "white",
           "linecolor": "white",
           "ticks": "",
           "title": {
            "standoff": 15
           },
           "zerolinecolor": "white",
           "zerolinewidth": 2
          }
         }
        },
        "title": {
         "text": "Butterflies Sightings in Greater London per Month"
        },
        "width": 1100,
        "xaxis": {
         "autorange": true,
         "range": [
          "2001-03-01",
          "2020-10-01"
         ],
         "rangeslider": {
          "autorange": true,
          "range": [
           "2001-03-01",
           "2020-10-01"
          ],
          "visible": true,
          "yaxis": {
           "_template": null,
           "rangemode": "match"
          }
         },
         "title": {
          "text": "Year"
         },
         "type": "date"
        },
        "yaxis": {
         "autorange": true,
         "range": [
          -336.88888888888886,
          6400.888888888889
         ],
         "title": {
          "text": "Sightings"
         },
         "type": "linear"
        }
       }
      },
      "image/png": "[encoded data removed]",
      "text/html": [
       "<div>                            <div id=\"ec8e036f-6a8f-43f1-ade5-3db28f643d3d\" class=\"plotly-graph-div\" style=\"height:550px; width:1100px;\"></div>            <script type=\"text/javascript\">                require([\"plotly\"], function(Plotly) {                    window.PLOTLYENV=window.PLOTLYENV || {};                                    if (document.getElementById(\"ec8e036f-6a8f-43f1-ade5-3db28f643d3d\")) {                    Plotly.newPlot(                        \"ec8e036f-6a8f-43f1-ade5-3db28f643d3d\",                        [{\"line\":{\"color\":\"#233333\"},\"mode\":\"lines\",\"name\":\"Sightings\",\"x\":[\"2001-03-01T00:00:00\",\"2001-04-01T00:00:00\",\"2001-05-01T00:00:00\",\"2001-06-01T00:00:00\",\"2001-07-01T00:00:00\",\"2001-08-01T00:00:00\",\"2001-09-01T00:00:00\",\"2001-10-01T00:00:00\",\"2001-11-01T00:00:00\",\"2001-12-01T00:00:00\",\"2002-01-01T00:00:00\",\"2002-02-01T00:00:00\",\"2002-03-01T00:00:00\",\"2002-04-01T00:00:00\",\"2002-05-01T00:00:00\",\"2002-06-01T00:00:00\",\"2002-07-01T00:00:00\",\"2002-08-01T00:00:00\",\"2002-09-01T00:00:00\",\"2002-10-01T00:00:00\",\"2002-11-01T00:00:00\",\"2002-12-01T00:00:00\",\"2003-01-01T00:00:00\",\"2003-02-01T00:00:00\",\"2003-03-01T00:00:00\",\"2003-04-01T00:00:00\",\"2003-05-01T00:00:00\",\"2003-06-01T00:00:00\",\"2003-07-01T00:00:00\",\"2003-08-01T00:00:00\",\"2003-09-01T00:00:00\",\"2003-10-01T00:00:00\",\"2003-11-01T00:00:00\",\"2003-12-01T00:00:00\",\"2004-01-01T00:00:00\",\"2004-02-01T00:00:00\",\"2004-03-01T00:00:00\",\"2004-04-01T00:00:00\",\"2004-05-01T00:00:00\",\"2004-06-01T00:00:00\",\"2004-07-01T00:00:00\",\"2004-08-01T00:00:00\",\"2004-09-01T00:00:00\",\"2004-10-01T00:00:00\",\"2004-11-01T00:00:00\",\"2004-12-01T00:00:00\",\"2005-01-01T00:00:00\",\"2005-02-01T00:00:00\",\"2005-03-01T00:00:00\",\"2005-04-01T00:00:00\",\"2005-05-01T00:00:00\",\"2005-06-01T00:00:00\",\"2005-07-01T00:00:00\",\"2005-08-01T00:00:00\",\"2005-09-01T00:00:00\",\"2005-10-01T00:00:00\",\"2005-11-01T00:00:00\",\"2005-12-01T00:00:00\",\"2006-01-01T00:00:00\",\"2006-02-01T00:00:00\",\"2006-03-01T00:00:00\",\"2006-04-01T00:00:00\",\"2006-05-01T00:00:00\",\"2006-06-01T00:00:00\",\"2006-07-01T00:00:00\",\"2006-08-01T00:00:00\",\"2006-09-01T00:00:00\",\"2006-10-01T00:00:00\",\"2006-11-01T00:00:00\",\"2006-12-01T00:00:00\",\"2007-01-01T00:00:00\",\"2007-02-01T00:00:00\",\"2007-03-01T00:00:00\",\"2007-04-01T00:00:00\",\"2007-05-01T00:00:00\",\"2007-06-01T00:00:00\",\"2007-07-01T00:00:00\",\"2007-08-01T00:00:00\",\"2007-09-01T00:00:00\",\"2007-10-01T00:00:00\",\"2007-11-01T00:00:00\",\"2007-12-01T00:00:00\",\"2008-01-01T00:00:00\",\"2008-02-01T00:00:00\",\"2008-03-01T00:00:00\",\"2008-04-01T00:00:00\",\"2008-05-01T00:00:00\",\"2008-06-01T00:00:00\",\"2008-07-01T00:00:00\",\"2008-08-01T00:00:00\",\"2008-09-01T00:00:00\",\"2008-10-01T00:00:00\",\"2008-11-01T00:00:00\",\"2008-12-01T00:00:00\",\"2009-01-01T00:00:00\",\"2009-02-01T00:00:00\",\"2009-03-01T00:00:00\",\"2009-04-01T00:00:00\",\"2009-05-01T00:00:00\",\"2009-06-01T00:00:00\",\"2009-07-01T00:00:00\",\"2009-08-01T00:00:00\",\"2009-09-01T00:00:00\",\"2009-10-01T00:00:00\",\"2009-11-01T00:00:00\",\"2009-12-01T00:00:00\",\"2010-01-01T00:00:00\",\"2010-02-01T00:00:00\",\"2010-03-01T00:00:00\",\"2010-04-01T00:00:00\",\"2010-05-01T00:00:00\",\"2010-06-01T00:00:00\",\"2010-07-01T00:00:00\",\"2010-08-01T00:00:00\",\"2010-09-01T00:00:00\",\"2010-10-01T00:00:00\",\"2010-11-01T00:00:00\",\"2010-12-01T00:00:00\",\"2011-01-01T00:00:00\",\"2011-02-01T00:00:00\",\"2011-03-01T00:00:00\",\"2011-04-01T00:00:00\",\"2011-05-01T00:00:00\",\"2011-06-01T00:00:00\",\"2011-07-01T00:00:00\",\"2011-08-01T00:00:00\",\"2011-09-01T00:00:00\",\"2011-10-01T00:00:00\",\"2011-11-01T00:00:00\",\"2011-12-01T00:00:00\",\"2012-01-01T00:00:00\",\"2012-02-01T00:00:00\",\"2012-03-01T00:00:00\",\"2012-04-01T00:00:00\",\"2012-05-01T00:00:00\",\"2012-06-01T00:00:00\",\"2012-07-01T00:00:00\",\"2012-08-01T00:00:00\",\"2012-09-01T00:00:00\",\"2012-10-01T00:00:00\",\"2012-11-01T00:00:00\",\"2012-12-01T00:00:00\",\"2013-01-01T00:00:00\",\"2013-02-01T00:00:00\",\"2013-03-01T00:00:00\",\"2013-04-01T00:00:00\",\"2013-05-01T00:00:00\",\"2013-06-01T00:00:00\",\"2013-07-01T00:00:00\",\"2013-08-01T00:00:00\",\"2013-09-01T00:00:00\",\"2013-10-01T00:00:00\",\"2013-11-01T00:00:00\",\"2013-12-01T00:00:00\",\"2014-01-01T00:00:00\",\"2014-02-01T00:00:00\",\"2014-03-01T00:00:00\",\"2014-04-01T00:00:00\",\"2014-05-01T00:00:00\",\"2014-06-01T00:00:00\",\"2014-07-01T00:00:00\",\"2014-08-01T00:00:00\",\"2014-09-01T00:00:00\",\"2014-10-01T00:00:00\",\"2014-11-01T00:00:00\",\"2014-12-01T00:00:00\",\"2015-01-01T00:00:00\",\"2015-02-01T00:00:00\",\"2015-03-01T00:00:00\",\"2015-04-01T00:00:00\",\"2015-05-01T00:00:00\",\"2015-06-01T00:00:00\",\"2015-07-01T00:00:00\",\"2015-08-01T00:00:00\",\"2015-09-01T00:00:00\",\"2015-10-01T00:00:00\",\"2015-11-01T00:00:00\",\"2015-12-01T00:00:00\",\"2016-01-01T00:00:00\",\"2016-02-01T00:00:00\",\"2016-03-01T00:00:00\",\"2016-04-01T00:00:00\",\"2016-05-01T00:00:00\",\"2016-06-01T00:00:00\",\"2016-07-01T00:00:00\",\"2016-08-01T00:00:00\",\"2016-09-01T00:00:00\",\"2016-10-01T00:00:00\",\"2016-11-01T00:00:00\",\"2016-12-01T00:00:00\",\"2017-01-01T00:00:00\",\"2017-02-01T00:00:00\",\"2017-03-01T00:00:00\",\"2017-04-01T00:00:00\",\"2017-05-01T00:00:00\",\"2017-06-01T00:00:00\",\"2017-07-01T00:00:00\",\"2017-08-01T00:00:00\",\"2017-09-01T00:00:00\",\"2017-10-01T00:00:00\",\"2017-11-01T00:00:00\",\"2017-12-01T00:00:00\",\"2018-01-01T00:00:00\",\"2018-02-01T00:00:00\",\"2018-03-01T00:00:00\",\"2018-04-01T00:00:00\",\"2018-05-01T00:00:00\",\"2018-06-01T00:00:00\",\"2018-07-01T00:00:00\",\"2018-08-01T00:00:00\",\"2018-09-01T00:00:00\",\"2018-10-01T00:00:00\",\"2018-11-01T00:00:00\",\"2018-12-01T00:00:00\",\"2019-01-01T00:00:00\",\"2019-02-01T00:00:00\",\"2019-03-01T00:00:00\",\"2019-04-01T00:00:00\",\"2019-05-01T00:00:00\",\"2019-06-01T00:00:00\",\"2019-07-01T00:00:00\",\"2019-08-01T00:00:00\",\"2019-09-01T00:00:00\",\"2019-10-01T00:00:00\",\"2019-11-01T00:00:00\",\"2019-12-01T00:00:00\",\"2020-01-01T00:00:00\",\"2020-02-01T00:00:00\",\"2020-03-01T00:00:00\",\"2020-04-01T00:00:00\",\"2020-05-01T00:00:00\",\"2020-06-01T00:00:00\",\"2020-07-01T00:00:00\",\"2020-08-01T00:00:00\",\"2020-09-01T00:00:00\",\"2020-10-01T00:00:00\"],\"y\":[10.0,197.0,544.0,202.0,1306.0,721.0,298.0,0.0,0.0,0.0,0.0,0.0,17.0,577.0,654.0,483.0,1307.0,924.0,306.0,0.0,0.0,0.0,0.0,0.0,49.0,591.0,579.0,1264.0,2737.0,1853.0,850.0,5.0,0.0,0.0,0.0,0.0,6.0,296.0,476.0,566.0,1394.0,1039.0,384.0,3.0,0.0,0.0,0.0,0.0,0.0,664.0,709.0,763.0,1723.0,1297.0,403.0,16.0,0.0,0.0,0.0,0.0,5.0,353.0,883.0,930.0,2486.0,1267.0,552.0,1.0,0.0,0.0,0.0,0.0,15.0,934.0,553.0,937.0,2195.0,948.0,366.0,0.0,0.0,0.0,0.0,0.0,6.0,345.0,800.0,680.0,2327.0,1396.0,665.0,1.0,0.0,0.0,0.0,0.0,19.0,1236.0,1340.0,1322.0,3392.0,2177.0,788.0,20.0,0.0,0.0,0.0,0.0,2.0,934.0,931.0,1018.0,3135.0,1720.0,661.0,2.0,0.0,0.0,0.0,0.0,24.0,1374.0,1123.0,1518.0,2984.0,1507.0,880.0,12.0,0.0,0.0,0.0,0.0,40.0,363.0,675.0,515.0,1790.0,1610.0,773.0,11.0,0.0,0.0,0.0,0.0,0.0,510.0,1132.0,740.0,2949.0,2771.0,594.0,0.0,0.0,0.0,0.0,0.0,40.0,1138.0,769.0,1389.0,3018.0,1356.0,659.0,6.0,0.0,0.0,0.0,0.0,4.0,1154.0,1143.0,1089.0,2988.0,1789.0,549.0,6.0,0.0,0.0,0.0,0.0,7.0,412.0,1339.0,721.0,2794.0,1870.0,745.0,11.0,0.0,0.0,0.0,0.0,55.0,1155.0,1197.0,2237.0,4069.0,2367.0,812.0,51.0,0.0,0.0,0.0,0.0,7.0,898.0,2409.0,2782.0,6064.0,2852.0,1015.0,10.0,0.0,0.0,0.0,0.0,117.0,1418.0,1309.0,1957.0,5654.0,2966.0,1192.0,6.0,0.0,0.0,0.0,0.0,35.0,450.0,716.0,1634.0,3863.0,1425.0,699.0,20.0],\"type\":\"scatter\"},{\"line\":{\"color\":\"#EBACA0\",\"dash\":\"dash\"},\"mode\":\"lines\",\"name\":\"Mean\",\"x\":[\"2001-03-01T00:00:00\",\"2001-04-01T00:00:00\",\"2001-05-01T00:00:00\",\"2001-06-01T00:00:00\",\"2001-07-01T00:00:00\",\"2001-08-01T00:00:00\",\"2001-09-01T00:00:00\",\"2001-10-01T00:00:00\",\"2001-11-01T00:00:00\",\"2001-12-01T00:00:00\",\"2002-01-01T00:00:00\",\"2002-02-01T00:00:00\",\"2002-03-01T00:00:00\",\"2002-04-01T00:00:00\",\"2002-05-01T00:00:00\",\"2002-06-01T00:00:00\",\"2002-07-01T00:00:00\",\"2002-08-01T00:00:00\",\"2002-09-01T00:00:00\",\"2002-10-01T00:00:00\",\"2002-11-01T00:00:00\",\"2002-12-01T00:00:00\",\"2003-01-01T00:00:00\",\"2003-02-01T00:00:00\",\"2003-03-01T00:00:00\",\"2003-04-01T00:00:00\",\"2003-05-01T00:00:00\",\"2003-06-01T00:00:00\",\"2003-07-01T00:00:00\",\"2003-08-01T00:00:00\",\"2003-09-01T00:00:00\",\"2003-10-01T00:00:00\",\"2003-11-01T00:00:00\",\"2003-12-01T00:00:00\",\"2004-01-01T00:00:00\",\"2004-02-01T00:00:00\",\"2004-03-01T00:00:00\",\"2004-04-01T00:00:00\",\"2004-05-01T00:00:00\",\"2004-06-01T00:00:00\",\"2004-07-01T00:00:00\",\"2004-08-01T00:00:00\",\"2004-09-01T00:00:00\",\"2004-10-01T00:00:00\",\"2004-11-01T00:00:00\",\"2004-12-01T00:00:00\",\"2005-01-01T00:00:00\",\"2005-02-01T00:00:00\",\"2005-03-01T00:00:00\",\"2005-04-01T00:00:00\",\"2005-05-01T00:00:00\",\"2005-06-01T00:00:00\",\"2005-07-01T00:00:00\",\"2005-08-01T00:00:00\",\"2005-09-01T00:00:00\",\"2005-10-01T00:00:00\",\"2005-11-01T00:00:00\",\"2005-12-01T00:00:00\",\"2006-01-01T00:00:00\",\"2006-02-01T00:00:00\",\"2006-03-01T00:00:00\",\"2006-04-01T00:00:00\",\"2006-05-01T00:00:00\",\"2006-06-01T00:00:00\",\"2006-07-01T00:00:00\",\"2006-08-01T00:00:00\",\"2006-09-01T00:00:00\",\"2006-10-01T00:00:00\",\"2006-11-01T00:00:00\",\"2006-12-01T00:00:00\",\"2007-01-01T00:00:00\",\"2007-02-01T00:00:00\",\"2007-03-01T00:00:00\",\"2007-04-01T00:00:00\",\"2007-05-01T00:00:00\",\"2007-06-01T00:00:00\",\"2007-07-01T00:00:00\",\"2007-08-01T00:00:00\",\"2007-09-01T00:00:00\",\"2007-10-01T00:00:00\",\"2007-11-01T00:00:00\",\"2007-12-01T00:00:00\",\"2008-01-01T00:00:00\",\"2008-02-01T00:00:00\",\"2008-03-01T00:00:00\",\"2008-04-01T00:00:00\",\"2008-05-01T00:00:00\",\"2008-06-01T00:00:00\",\"2008-07-01T00:00:00\",\"2008-08-01T00:00:00\",\"2008-09-01T00:00:00\",\"2008-10-01T00:00:00\",\"2008-11-01T00:00:00\",\"2008-12-01T00:00:00\",\"2009-01-01T00:00:00\",\"2009-02-01T00:00:00\",\"2009-03-01T00:00:00\",\"2009-04-01T00:00:00\",\"2009-05-01T00:00:00\",\"2009-06-01T00:00:00\",\"2009-07-01T00:00:00\",\"2009-08-01T00:00:00\",\"2009-09-01T00:00:00\",\"2009-10-01T00:00:00\",\"2009-11-01T00:00:00\",\"2009-12-01T00:00:00\",\"2010-01-01T00:00:00\",\"2010-02-01T00:00:00\",\"2010-03-01T00:00:00\",\"2010-04-01T00:00:00\",\"2010-05-01T00:00:00\",\"2010-06-01T00:00:00\",\"2010-07-01T00:00:00\",\"2010-08-01T00:00:00\",\"2010-09-01T00:00:00\",\"2010-10-01T00:00:00\",\"2010-11-01T00:00:00\",\"2010-12-01T00:00:00\",\"2011-01-01T00:00:00\",\"2011-02-01T00:00:00\",\"2011-03-01T00:00:00\",\"2011-04-01T00:00:00\",\"2011-05-01T00:00:00\",\"2011-06-01T00:00:00\",\"2011-07-01T00:00:00\",\"2011-08-01T00:00:00\",\"2011-09-01T00:00:00\",\"2011-10-01T00:00:00\",\"2011-11-01T00:00:00\",\"2011-12-01T00:00:00\",\"2012-01-01T00:00:00\",\"2012-02-01T00:00:00\",\"2012-03-01T00:00:00\",\"2012-04-01T00:00:00\",\"2012-05-01T00:00:00\",\"2012-06-01T00:00:00\",\"2012-07-01T00:00:00\",\"2012-08-01T00:00:00\",\"2012-09-01T00:00:00\",\"2012-10-01T00:00:00\",\"2012-11-01T00:00:00\",\"2012-12-01T00:00:00\",\"2013-01-01T00:00:00\",\"2013-02-01T00:00:00\",\"2013-03-01T00:00:00\",\"2013-04-01T00:00:00\",\"2013-05-01T00:00:00\",\"2013-06-01T00:00:00\",\"2013-07-01T00:00:00\",\"2013-08-01T00:00:00\",\"2013-09-01T00:00:00\",\"2013-10-01T00:00:00\",\"2013-11-01T00:00:00\",\"2013-12-01T00:00:00\",\"2014-01-01T00:00:00\",\"2014-02-01T00:00:00\",\"2014-03-01T00:00:00\",\"2014-04-01T00:00:00\",\"2014-05-01T00:00:00\",\"2014-06-01T00:00:00\",\"2014-07-01T00:00:00\",\"2014-08-01T00:00:00\",\"2014-09-01T00:00:00\",\"2014-10-01T00:00:00\",\"2014-11-01T00:00:00\",\"2014-12-01T00:00:00\",\"2015-01-01T00:00:00\",\"2015-02-01T00:00:00\",\"2015-03-01T00:00:00\",\"2015-04-01T00:00:00\",\"2015-05-01T00:00:00\",\"2015-06-01T00:00:00\",\"2015-07-01T00:00:00\",\"2015-08-01T00:00:00\",\"2015-09-01T00:00:00\",\"2015-10-01T00:00:00\",\"2015-11-01T00:00:00\",\"2015-12-01T00:00:00\",\"2016-01-01T00:00:00\",\"2016-02-01T00:00:00\",\"2016-03-01T00:00:00\",\"2016-04-01T00:00:00\",\"2016-05-01T00:00:00\",\"2016-06-01T00:00:00\",\"2016-07-01T00:00:00\",\"2016-08-01T00:00:00\",\"2016-09-01T00:00:00\",\"2016-10-01T00:00:00\",\"2016-11-01T00:00:00\",\"2016-12-01T00:00:00\",\"2017-01-01T00:00:00\",\"2017-02-01T00:00:00\",\"2017-03-01T00:00:00\",\"2017-04-01T00:00:00\",\"2017-05-01T00:00:00\",\"2017-06-01T00:00:00\",\"2017-07-01T00:00:00\",\"2017-08-01T00:00:00\",\"2017-09-01T00:00:00\",\"2017-10-01T00:00:00\",\"2017-11-01T00:00:00\",\"2017-12-01T00:00:00\",\"2018-01-01T00:00:00\",\"2018-02-01T00:00:00\",\"2018-03-01T00:00:00\",\"2018-04-01T00:00:00\",\"2018-05-01T00:00:00\",\"2018-06-01T00:00:00\",\"2018-07-01T00:00:00\",\"2018-08-01T00:00:00\",\"2018-09-01T00:00:00\",\"2018-10-01T00:00:00\",\"2018-11-01T00:00:00\",\"2018-12-01T00:00:00\",\"2019-01-01T00:00:00\",\"2019-02-01T00:00:00\",\"2019-03-01T00:00:00\",\"2019-04-01T00:00:00\",\"2019-05-01T00:00:00\",\"2019-06-01T00:00:00\",\"2019-07-01T00:00:00\",\"2019-08-01T00:00:00\",\"2019-09-01T00:00:00\",\"2019-10-01T00:00:00\",\"2019-11-01T00:00:00\",\"2019-12-01T00:00:00\",\"2020-01-01T00:00:00\",\"2020-02-01T00:00:00\",\"2020-03-01T00:00:00\",\"2020-04-01T00:00:00\",\"2020-05-01T00:00:00\",\"2020-06-01T00:00:00\",\"2020-07-01T00:00:00\",\"2020-08-01T00:00:00\",\"2020-09-01T00:00:00\",\"2020-10-01T00:00:00\"],\"y\":[690.1991525423729,690.1991525423729,690.1991525423729,690.1991525423729,690.1991525423729,690.1991525423729,690.1991525423729,690.1991525423729,690.1991525423729,690.1991525423729,690.1991525423729,690.1991525423729,690.1991525423729,690.1991525423729,690.1991525423729,690.1991525423729,690.1991525423729,690.1991525423729,690.1991525423729,690.1991525423729,690.1991525423729,690.1991525423729,690.1991525423729,690.1991525423729,690.1991525423729,690.1991525423729,690.1991525423729,690.1991525423729,690.1991525423729,690.1991525423729,690.1991525423729,690.1991525423729,690.1991525423729,690.1991525423729,690.1991525423729,690.1991525423729,690.1991525423729,690.1991525423729,690.1991525423729,690.1991525423729,690.1991525423729,690.1991525423729,690.1991525423729,690.1991525423729,690.1991525423729,690.1991525423729,690.1991525423729,690.1991525423729,690.1991525423729,690.1991525423729,690.1991525423729,690.1991525423729,690.1991525423729,690.1991525423729,690.1991525423729,690.1991525423729,690.1991525423729,690.1991525423729,690.1991525423729,690.1991525423729,690.1991525423729,690.1991525423729,690.1991525423729,690.1991525423729,690.1991525423729,690.1991525423729,690.1991525423729,690.1991525423729,690.1991525423729,690.1991525423729,690.1991525423729,690.1991525423729,690.1991525423729,690.1991525423729,690.1991525423729,690.1991525423729,690.1991525423729,690.1991525423729,690.1991525423729,690.1991525423729,690.1991525423729,690.1991525423729,690.1991525423729,690.1991525423729,690.1991525423729,690.1991525423729,690.1991525423729,690.1991525423729,690.1991525423729,690.1991525423729,690.1991525423729,690.1991525423729,690.1991525423729,690.1991525423729,690.1991525423729,690.1991525423729,690.1991525423729,690.1991525423729,690.1991525423729,690.1991525423729,690.1991525423729,690.1991525423729,690.1991525423729,690.1991525423729,690.1991525423729,690.1991525423729,690.1991525423729,690.1991525423729,690.1991525423729,690.1991525423729,690.1991525423729,690.1991525423729,690.1991525423729,690.1991525423729,690.1991525423729,690.1991525423729,690.1991525423729,690.1991525423729,690.1991525423729,690.1991525423729,690.1991525423729,690.1991525423729,690.1991525423729,690.1991525423729,690.1991525423729,690.1991525423729,690.1991525423729,690.1991525423729,690.1991525423729,690.1991525423729,690.1991525423729,690.1991525423729,690.1991525423729,690.1991525423729,690.1991525423729,690.1991525423729,690.1991525423729,690.1991525423729,690.1991525423729,690.1991525423729,690.1991525423729,690.1991525423729,690.1991525423729,690.1991525423729,690.1991525423729,690.1991525423729,690.1991525423729,690.1991525423729,690.1991525423729,690.1991525423729,690.1991525423729,690.1991525423729,690.1991525423729,690.1991525423729,690.1991525423729,690.1991525423729,690.1991525423729,690.1991525423729,690.1991525423729,690.1991525423729,690.1991525423729,690.1991525423729,690.1991525423729,690.1991525423729,690.1991525423729,690.1991525423729,690.1991525423729,690.1991525423729,690.1991525423729,690.1991525423729,690.1991525423729,690.1991525423729,690.1991525423729,690.1991525423729,690.1991525423729,690.1991525423729,690.1991525423729,690.1991525423729,690.1991525423729,690.1991525423729,690.1991525423729,690.1991525423729,690.1991525423729,690.1991525423729,690.1991525423729,690.1991525423729,690.1991525423729,690.1991525423729,690.1991525423729,690.1991525423729,690.1991525423729,690.1991525423729,690.1991525423729,690.1991525423729,690.1991525423729,690.1991525423729,690.1991525423729,690.1991525423729,690.1991525423729,690.1991525423729,690.1991525423729,690.1991525423729,690.1991525423729,690.1991525423729,690.1991525423729,690.1991525423729,690.1991525423729,690.1991525423729,690.1991525423729,690.1991525423729,690.1991525423729,690.1991525423729,690.1991525423729,690.1991525423729,690.1991525423729,690.1991525423729,690.1991525423729,690.1991525423729,690.1991525423729,690.1991525423729,690.1991525423729,690.1991525423729,690.1991525423729,690.1991525423729,690.1991525423729,690.1991525423729,690.1991525423729,690.1991525423729,690.1991525423729,690.1991525423729,690.1991525423729,690.1991525423729,690.1991525423729,690.1991525423729,690.1991525423729,690.1991525423729],\"type\":\"scatter\"}],                        {\"template\":{\"data\":{\"histogram2dcontour\":[{\"type\":\"histogram2dcontour\",\"colorbar\":{\"outlinewidth\":0,\"ticks\":\"\"},\"colorscale\":[[0.0,\"#0d0887\"],[0.1111111111111111,\"#46039f\"],[0.2222222222222222,\"#7201a8\"],[0.3333333333333333,\"#9c179e\"],[0.4444444444444444,\"#bd3786\"],[0.5555555555555556,\"#d8576b\"],[0.6666666666666666,\"#ed7953\"],[0.7777777777777778,\"#fb9f3a\"],[0.8888888888888888,\"#fdca26\"],[1.0,\"#f0f921\"]]}],\"choropleth\":[{\"type\":\"choropleth\",\"colorbar\":{\"outlinewidth\":0,\"ticks\":\"\"}}],\"histogram2d\":[{\"type\":\"histogram2d\",\"colorbar\":{\"outlinewidth\":0,\"ticks\":\"\"},\"colorscale\":[[0.0,\"#0d0887\"],[0.1111111111111111,\"#46039f\"],[0.2222222222222222,\"#7201a8\"],[0.3333333333333333,\"#9c179e\"],[0.4444444444444444,\"#bd3786\"],[0.5555555555555556,\"#d8576b\"],[0.6666666666666666,\"#ed7953\"],[0.7777777777777778,\"#fb9f3a\"],[0.8888888888888888,\"#fdca26\"],[1.0,\"#f0f921\"]]}],\"heatmap\":[{\"type\":\"heatmap\",\"colorbar\":{\"outlinewidth\":0,\"ticks\":\"\"},\"colorscale\":[[0.0,\"#0d0887\"],[0.1111111111111111,\"#46039f\"],[0.2222222222222222,\"#7201a8\"],[0.3333333333333333,\"#9c179e\"],[0.4444444444444444,\"#bd3786\"],[0.5555555555555556,\"#d8576b\"],[0.6666666666666666,\"#ed7953\"],[0.7777777777777778,\"#fb9f3a\"],[0.8888888888888888,\"#fdca26\"],[1.0,\"#f0f921\"]]}],\"heatmapgl\":[{\"type\":\"heatmapgl\",\"colorbar\":{\"outlinewidth\":0,\"ticks\":\"\"},\"colorscale\":[[0.0,\"#0d0887\"],[0.1111111111111111,\"#46039f\"],[0.2222222222222222,\"#7201a8\"],[0.3333333333333333,\"#9c179e\"],[0.4444444444444444,\"#bd3786\"],[0.5555555555555556,\"#d8576b\"],[0.6666666666666666,\"#ed7953\"],[0.7777777777777778,\"#fb9f3a\"],[0.8888888888888888,\"#fdca26\"],[1.0,\"#f0f921\"]]}],\"contourcarpet\":[{\"type\":\"contourcarpet\",\"colorbar\":{\"outlinewidth\":0,\"ticks\":\"\"}}],\"contour\":[{\"type\":\"contour\",\"colorbar\":{\"outlinewidth\":0,\"ticks\":\"\"},\"colorscale\":[[0.0,\"#0d0887\"],[0.1111111111111111,\"#46039f\"],[0.2222222222222222,\"#7201a8\"],[0.3333333333333333,\"#9c179e\"],[0.4444444444444444,\"#bd3786\"],[0.5555555555555556,\"#d8576b\"],[0.6666666666666666,\"#ed7953\"],[0.7777777777777778,\"#fb9f3a\"],[0.8888888888888888,\"#fdca26\"],[1.0,\"#f0f921\"]]}],\"surface\":[{\"type\":\"surface\",\"colorbar\":{\"outlinewidth\":0,\"ticks\":\"\"},\"colorscale\":[[0.0,\"#0d0887\"],[0.1111111111111111,\"#46039f\"],[0.2222222222222222,\"#7201a8\"],[0.3333333333333333,\"#9c179e\"],[0.4444444444444444,\"#bd3786\"],[0.5555555555555556,\"#d8576b\"],[0.6666666666666666,\"#ed7953\"],[0.7777777777777778,\"#fb9f3a\"],[0.8888888888888888,\"#fdca26\"],[1.0,\"#f0f921\"]]}],\"mesh3d\":[{\"type\":\"mesh3d\",\"colorbar\":{\"outlinewidth\":0,\"ticks\":\"\"}}],\"scatter\":[{\"fillpattern\":{\"fillmode\":\"overlay\",\"size\":10,\"solidity\":0.2},\"type\":\"scatter\"}],\"parcoords\":[{\"type\":\"parcoords\",\"line\":{\"colorbar\":{\"outlinewidth\":0,\"ticks\":\"\"}}}],\"scatterpolargl\":[{\"type\":\"scatterpolargl\",\"marker\":{\"colorbar\":{\"outlinewidth\":0,\"ticks\":\"\"}}}],\"bar\":[{\"error_x\":{\"color\":\"#2a3f5f\"},\"error_y\":{\"color\":\"#2a3f5f\"},\"marker\":{\"line\":{\"color\":\"#E5ECF6\",\"width\":0.5},\"pattern\":{\"fillmode\":\"overlay\",\"size\":10,\"solidity\":0.2}},\"type\":\"bar\"}],\"scattergeo\":[{\"type\":\"scattergeo\",\"marker\":{\"colorbar\":{\"outlinewidth\":0,\"ticks\":\"\"}}}],\"scatterpolar\":[{\"type\":\"scatterpolar\",\"marker\":{\"colorbar\":{\"outlinewidth\":0,\"ticks\":\"\"}}}],\"histogram\":[{\"marker\":{\"pattern\":{\"fillmode\":\"overlay\",\"size\":10,\"solidity\":0.2}},\"type\":\"histogram\"}],\"scattergl\":[{\"type\":\"scattergl\",\"marker\":{\"colorbar\":{\"outlinewidth\":0,\"ticks\":\"\"}}}],\"scatter3d\":[{\"type\":\"scatter3d\",\"line\":{\"colorbar\":{\"outlinewidth\":0,\"ticks\":\"\"}},\"marker\":{\"colorbar\":{\"outlinewidth\":0,\"ticks\":\"\"}}}],\"scattermapbox\":[{\"type\":\"scattermapbox\",\"marker\":{\"colorbar\":{\"outlinewidth\":0,\"ticks\":\"\"}}}],\"scatterternary\":[{\"type\":\"scatterternary\",\"marker\":{\"colorbar\":{\"outlinewidth\":0,\"ticks\":\"\"}}}],\"scattercarpet\":[{\"type\":\"scattercarpet\",\"marker\":{\"colorbar\":{\"outlinewidth\":0,\"ticks\":\"\"}}}],\"carpet\":[{\"aaxis\":{\"endlinecolor\":\"#2a3f5f\",\"gridcolor\":\"white\",\"linecolor\":\"white\",\"minorgridcolor\":\"white\",\"startlinecolor\":\"#2a3f5f\"},\"baxis\":{\"endlinecolor\":\"#2a3f5f\",\"gridcolor\":\"white\",\"linecolor\":\"white\",\"minorgridcolor\":\"white\",\"startlinecolor\":\"#2a3f5f\"},\"type\":\"carpet\"}],\"table\":[{\"cells\":{\"fill\":{\"color\":\"#EBF0F8\"},\"line\":{\"color\":\"white\"}},\"header\":{\"fill\":{\"color\":\"#C8D4E3\"},\"line\":{\"color\":\"white\"}},\"type\":\"table\"}],\"barpolar\":[{\"marker\":{\"line\":{\"color\":\"#E5ECF6\",\"width\":0.5},\"pattern\":{\"fillmode\":\"overlay\",\"size\":10,\"solidity\":0.2}},\"type\":\"barpolar\"}],\"pie\":[{\"automargin\":true,\"type\":\"pie\"}]},\"layout\":{\"autotypenumbers\":\"strict\",\"colorway\":[\"#636efa\",\"#EF553B\",\"#00cc96\",\"#ab63fa\",\"#FFA15A\",\"#19d3f3\",\"#FF6692\",\"#B6E880\",\"#FF97FF\",\"#FECB52\"],\"font\":{\"color\":\"#2a3f5f\"},\"hovermode\":\"closest\",\"hoverlabel\":{\"align\":\"left\"},\"paper_bgcolor\":\"white\",\"plot_bgcolor\":\"#E5ECF6\",\"polar\":{\"bgcolor\":\"#E5ECF6\",\"angularaxis\":{\"gridcolor\":\"white\",\"linecolor\":\"white\",\"ticks\":\"\"},\"radialaxis\":{\"gridcolor\":\"white\",\"linecolor\":\"white\",\"ticks\":\"\"}},\"ternary\":{\"bgcolor\":\"#E5ECF6\",\"aaxis\":{\"gridcolor\":\"white\",\"linecolor\":\"white\",\"ticks\":\"\"},\"baxis\":{\"gridcolor\":\"white\",\"linecolor\":\"white\",\"ticks\":\"\"},\"caxis\":{\"gridcolor\":\"white\",\"linecolor\":\"white\",\"ticks\":\"\"}},\"coloraxis\":{\"colorbar\":{\"outlinewidth\":0,\"ticks\":\"\"}},\"colorscale\":{\"sequential\":[[0.0,\"#0d0887\"],[0.1111111111111111,\"#46039f\"],[0.2222222222222222,\"#7201a8\"],[0.3333333333333333,\"#9c179e\"],[0.4444444444444444,\"#bd3786\"],[0.5555555555555556,\"#d8576b\"],[0.6666666666666666,\"#ed7953\"],[0.7777777777777778,\"#fb9f3a\"],[0.8888888888888888,\"#fdca26\"],[1.0,\"#f0f921\"]],\"sequentialminus\":[[0.0,\"#0d0887\"],[0.1111111111111111,\"#46039f\"],[0.2222222222222222,\"#7201a8\"],[0.3333333333333333,\"#9c179e\"],[0.4444444444444444,\"#bd3786\"],[0.5555555555555556,\"#d8576b\"],[0.6666666666666666,\"#ed7953\"],[0.7777777777777778,\"#fb9f3a\"],[0.8888888888888888,\"#fdca26\"],[1.0,\"#f0f921\"]],\"diverging\":[[0,\"#8e0152\"],[0.1,\"#c51b7d\"],[0.2,\"#de77ae\"],[0.3,\"#f1b6da\"],[0.4,\"#fde0ef\"],[0.5,\"#f7f7f7\"],[0.6,\"#e6f5d0\"],[0.7,\"#b8e186\"],[0.8,\"#7fbc41\"],[0.9,\"#4d9221\"],[1,\"#276419\"]]},\"xaxis\":{\"gridcolor\":\"white\",\"linecolor\":\"white\",\"ticks\":\"\",\"title\":{\"standoff\":15},\"zerolinecolor\":\"white\",\"automargin\":true,\"zerolinewidth\":2},\"yaxis\":{\"gridcolor\":\"white\",\"linecolor\":\"white\",\"ticks\":\"\",\"title\":{\"standoff\":15},\"zerolinecolor\":\"white\",\"automargin\":true,\"zerolinewidth\":2},\"scene\":{\"xaxis\":{\"backgroundcolor\":\"#E5ECF6\",\"gridcolor\":\"white\",\"linecolor\":\"white\",\"showbackground\":true,\"ticks\":\"\",\"zerolinecolor\":\"white\",\"gridwidth\":2},\"yaxis\":{\"backgroundcolor\":\"#E5ECF6\",\"gridcolor\":\"white\",\"linecolor\":\"white\",\"showbackground\":true,\"ticks\":\"\",\"zerolinecolor\":\"white\",\"gridwidth\":2},\"zaxis\":{\"backgroundcolor\":\"#E5ECF6\",\"gridcolor\":\"white\",\"linecolor\":\"white\",\"showbackground\":true,\"ticks\":\"\",\"zerolinecolor\":\"white\",\"gridwidth\":2}},\"shapedefaults\":{\"line\":{\"color\":\"#2a3f5f\"}},\"annotationdefaults\":{\"arrowcolor\":\"#2a3f5f\",\"arrowhead\":0,\"arrowwidth\":1},\"geo\":{\"bgcolor\":\"white\",\"landcolor\":\"#E5ECF6\",\"subunitcolor\":\"white\",\"showland\":true,\"showlakes\":true,\"lakecolor\":\"white\"},\"title\":{\"x\":0.05},\"mapbox\":{\"style\":\"light\"}}},\"xaxis\":{\"rangeslider\":{\"visible\":true},\"title\":{\"text\":\"Year\"}},\"yaxis\":{\"title\":{\"text\":\"Sightings\"}},\"title\":{\"text\":\"Butterflies Sightings in Greater London per Month\"},\"width\":1100,\"height\":550,\"plot_bgcolor\":\"white\",\"showlegend\":true},                        {\"responsive\": true}                    ).then(function(){\n",
       "                            \n",
       "var gd = document.getElementById('ec8e036f-6a8f-43f1-ade5-3db28f643d3d');\n",
       "var x = new MutationObserver(function (mutations, observer) {{\n",
       "        var display = window.getComputedStyle(gd).display;\n",
       "        if (!display || display === 'none') {{\n",
       "            console.log([gd, 'removed!']);\n",
       "            Plotly.purge(gd);\n",
       "            observer.disconnect();\n",
       "        }}\n",
       "}});\n",
       "\n",
       "// Listen for the removal of the full notebook cells\n",
       "var notebookContainer = gd.closest('#notebook-container');\n",
       "if (notebookContainer) {{\n",
       "    x.observe(notebookContainer, {childList: true});\n",
       "}}\n",
       "\n",
       "// Listen for the clearing of the current output cell\n",
       "var outputEl = gd.closest('.output');\n",
       "if (outputEl) {{\n",
       "    x.observe(outputEl, {childList: true});\n",
       "}}\n",
       "\n",
       "                        })                };                });            </script>        </div>"
      ]
     },
     "metadata": {},
     "output_type": "display_data"
    }
   ],
   "source": [
    "# Plot sightings per month\n",
    "fig = go.Figure()\n",
    "fig.add_trace(go.Scatter(x=Sightings_London_2.index, \n",
    "                         y=Sightings_London_2['count'], \n",
    "                         mode='lines', name='Sightings', line=dict(color='#233333')))\n",
    "fig.add_trace(go.Scatter(x=Sightings_London_2.index, \n",
    "                         y=[Sightings_London_2['count'].mean()]*len(Sightings_London_2), \n",
    "                         mode='lines', name='Mean', line_dash='dash', line=dict(color='#EBACA0')))\n",
    "\n",
    "fig.update_xaxes(rangeslider_visible=True)\n",
    "fig.update_layout(yaxis_title='Sightings', xaxis_title='Year',\n",
    "                  title='Butterflies Sightings in Greater London per Month',\n",
    "                  width = 1100, height = 550, plot_bgcolor='white', showlegend=True)\n",
    "# fig.update_layout(xaxis=dict(showgrid=False), yaxis=dict(showgrid=False))\n",
    "fig.show()"
   ]
  },
  {
   "cell_type": "markdown",
   "id": "5fc274eb-fbef-40fc-ae2e-834c3f7272d4",
   "metadata": {},
   "source": [
    "__COMMENT:__ We can see on this first plot:\n",
    "\n",
    "- A clear seasonal pattern, with a peak in the number of Sightings in July/August each year\n",
    "- What seems to be an upward trend over the years, which will need to be confirmed by a seasonal decomposition\n",
    "- The number of sightings varies from year to year: starting in 2009, we have a clear increase in the number of sightings but we still see two significant drops over the years, in 2012 and 2020 (the first one would need to be researched, the second one most likely due to the pandemic)."
   ]
  },
  {
   "cell_type": "code",
   "execution_count": 141,
   "id": "8dd8057f-bf46-468a-b502-49a2482ba4b0",
   "metadata": {},
   "outputs": [
    {
     "data": {
      "text/html": [
       "<div>\n",
       "<style scoped>\n",
       "    .dataframe tbody tr th:only-of-type {\n",
       "        vertical-align: middle;\n",
       "    }\n",
       "\n",
       "    .dataframe tbody tr th {\n",
       "        vertical-align: top;\n",
       "    }\n",
       "\n",
       "    .dataframe thead th {\n",
       "        text-align: right;\n",
       "    }\n",
       "</style>\n",
       "<table border=\"1\" class=\"dataframe\">\n",
       "  <thead>\n",
       "    <tr style=\"text-align: right;\">\n",
       "      <th></th>\n",
       "      <th>count</th>\n",
       "      <th>Trend</th>\n",
       "      <th>Seasonal</th>\n",
       "      <th>Residual</th>\n",
       "    </tr>\n",
       "  </thead>\n",
       "  <tbody>\n",
       "    <tr>\n",
       "      <th>2001-03-01</th>\n",
       "      <td>10.0</td>\n",
       "      <td>NaN</td>\n",
       "      <td>-679.717308</td>\n",
       "      <td>NaN</td>\n",
       "    </tr>\n",
       "    <tr>\n",
       "      <th>2001-04-01</th>\n",
       "      <td>197.0</td>\n",
       "      <td>NaN</td>\n",
       "      <td>74.833130</td>\n",
       "      <td>NaN</td>\n",
       "    </tr>\n",
       "    <tr>\n",
       "      <th>2001-05-01</th>\n",
       "      <td>544.0</td>\n",
       "      <td>NaN</td>\n",
       "      <td>298.947409</td>\n",
       "      <td>NaN</td>\n",
       "    </tr>\n",
       "    <tr>\n",
       "      <th>2001-06-01</th>\n",
       "      <td>202.0</td>\n",
       "      <td>NaN</td>\n",
       "      <td>459.502965</td>\n",
       "      <td>NaN</td>\n",
       "    </tr>\n",
       "    <tr>\n",
       "      <th>2001-07-01</th>\n",
       "      <td>1306.0</td>\n",
       "      <td>NaN</td>\n",
       "      <td>2242.558520</td>\n",
       "      <td>NaN</td>\n",
       "    </tr>\n",
       "    <tr>\n",
       "      <th>...</th>\n",
       "      <td>...</td>\n",
       "      <td>...</td>\n",
       "      <td>...</td>\n",
       "      <td>...</td>\n",
       "    </tr>\n",
       "    <tr>\n",
       "      <th>2020-06-01</th>\n",
       "      <td>1634.0</td>\n",
       "      <td>NaN</td>\n",
       "      <td>459.502965</td>\n",
       "      <td>NaN</td>\n",
       "    </tr>\n",
       "    <tr>\n",
       "      <th>2020-07-01</th>\n",
       "      <td>3863.0</td>\n",
       "      <td>NaN</td>\n",
       "      <td>2242.558520</td>\n",
       "      <td>NaN</td>\n",
       "    </tr>\n",
       "    <tr>\n",
       "      <th>2020-08-01</th>\n",
       "      <td>1425.0</td>\n",
       "      <td>NaN</td>\n",
       "      <td>1059.391853</td>\n",
       "      <td>NaN</td>\n",
       "    </tr>\n",
       "    <tr>\n",
       "      <th>2020-09-01</th>\n",
       "      <td>699.0</td>\n",
       "      <td>NaN</td>\n",
       "      <td>-22.440993</td>\n",
       "      <td>NaN</td>\n",
       "    </tr>\n",
       "    <tr>\n",
       "      <th>2020-10-01</th>\n",
       "      <td>20.0</td>\n",
       "      <td>NaN</td>\n",
       "      <td>-672.050642</td>\n",
       "      <td>NaN</td>\n",
       "    </tr>\n",
       "  </tbody>\n",
       "</table>\n",
       "<p>236 rows × 4 columns</p>\n",
       "</div>"
      ],
      "text/plain": [
       "             count  Trend     Seasonal  Residual\n",
       "2001-03-01    10.0    NaN  -679.717308       NaN\n",
       "2001-04-01   197.0    NaN    74.833130       NaN\n",
       "2001-05-01   544.0    NaN   298.947409       NaN\n",
       "2001-06-01   202.0    NaN   459.502965       NaN\n",
       "2001-07-01  1306.0    NaN  2242.558520       NaN\n",
       "...            ...    ...          ...       ...\n",
       "2020-06-01  1634.0    NaN   459.502965       NaN\n",
       "2020-07-01  3863.0    NaN  2242.558520       NaN\n",
       "2020-08-01  1425.0    NaN  1059.391853       NaN\n",
       "2020-09-01   699.0    NaN   -22.440993       NaN\n",
       "2020-10-01    20.0    NaN  -672.050642       NaN\n",
       "\n",
       "[236 rows x 4 columns]"
      ]
     },
     "execution_count": 141,
     "metadata": {},
     "output_type": "execute_result"
    }
   ],
   "source": [
    "Sightings_London_2"
   ]
  },
  {
   "cell_type": "code",
   "execution_count": 144,
   "id": "33aa6b22-3769-431f-8683-aaf6dec6447e",
   "metadata": {},
   "outputs": [
    {
     "data": {
      "image/png": "[encoded data removed]",
      "text/plain": [
       "<Figure size 1200x500 with 1 Axes>"
      ]
     },
     "metadata": {},
     "output_type": "display_data"
    }
   ],
   "source": [
    "# Creating a seasonal plot\n",
    "plt.figure(figsize=(12, 5))\n",
    "month_plot(Sightings_London_2[\"count\"], ax=plt.gca())\n",
    "plt.title('Butterfly Sightings seasonality')\n",
    "sns.despine()\n",
    "plt.show()"
   ]
  },
  {
   "cell_type": "markdown",
   "id": "8ba69c14-3fb6-4073-bf81-2fdcf9ae0ab7",
   "metadata": {},
   "source": [
    "__COMMENT:__ We clearly see now that the sightings increase from April to July and then decrease. We have no sightings in the cold season (October to March)."
   ]
  },
  {
   "cell_type": "code",
   "execution_count": 140,
   "id": "027fc78f-78fb-44d6-b5f0-e3bbbc04afda",
   "metadata": {},
   "outputs": [
    {
     "data": {
      "text/html": [
       "<div>\n",
       "<style scoped>\n",
       "    .dataframe tbody tr th:only-of-type {\n",
       "        vertical-align: middle;\n",
       "    }\n",
       "\n",
       "    .dataframe tbody tr th {\n",
       "        vertical-align: top;\n",
       "    }\n",
       "\n",
       "    .dataframe thead th {\n",
       "        text-align: right;\n",
       "    }\n",
       "</style>\n",
       "<table border=\"1\" class=\"dataframe\">\n",
       "  <thead>\n",
       "    <tr style=\"text-align: right;\">\n",
       "      <th></th>\n",
       "      <th>count</th>\n",
       "      <th>Trend</th>\n",
       "      <th>Seasonal</th>\n",
       "      <th>Residual</th>\n",
       "    </tr>\n",
       "  </thead>\n",
       "  <tbody>\n",
       "    <tr>\n",
       "      <th>2001-03-01</th>\n",
       "      <td>10.0</td>\n",
       "      <td>NaN</td>\n",
       "      <td>-679.717308</td>\n",
       "      <td>NaN</td>\n",
       "    </tr>\n",
       "    <tr>\n",
       "      <th>2001-04-01</th>\n",
       "      <td>197.0</td>\n",
       "      <td>NaN</td>\n",
       "      <td>74.833130</td>\n",
       "      <td>NaN</td>\n",
       "    </tr>\n",
       "    <tr>\n",
       "      <th>2001-05-01</th>\n",
       "      <td>544.0</td>\n",
       "      <td>NaN</td>\n",
       "      <td>298.947409</td>\n",
       "      <td>NaN</td>\n",
       "    </tr>\n",
       "    <tr>\n",
       "      <th>2001-06-01</th>\n",
       "      <td>202.0</td>\n",
       "      <td>NaN</td>\n",
       "      <td>459.502965</td>\n",
       "      <td>NaN</td>\n",
       "    </tr>\n",
       "    <tr>\n",
       "      <th>2001-07-01</th>\n",
       "      <td>1306.0</td>\n",
       "      <td>NaN</td>\n",
       "      <td>2242.558520</td>\n",
       "      <td>NaN</td>\n",
       "    </tr>\n",
       "  </tbody>\n",
       "</table>\n",
       "</div>"
      ],
      "text/plain": [
       "             count  Trend     Seasonal  Residual\n",
       "2001-03-01    10.0    NaN  -679.717308       NaN\n",
       "2001-04-01   197.0    NaN    74.833130       NaN\n",
       "2001-05-01   544.0    NaN   298.947409       NaN\n",
       "2001-06-01   202.0    NaN   459.502965       NaN\n",
       "2001-07-01  1306.0    NaN  2242.558520       NaN"
      ]
     },
     "execution_count": 140,
     "metadata": {},
     "output_type": "execute_result"
    }
   ],
   "source": [
    "decomposition = tsa.seasonal_decompose(Sightings_London_2, model='additive')\n",
    "Sightings_London_2[\"Trend\"] = decomposition.trend\n",
    "Sightings_London_2[\"Seasonal\"] = decomposition.seasonal\n",
    "Sightings_London_2[\"Residual\"] = decomposition.resid\n",
    "\n",
    "Sightings_London_2.head(5)"
   ]
  },
  {
   "cell_type": "code",
   "execution_count": 146,
   "id": "be51e971-e3ad-4d13-82cf-9193cf4d1eb6",
   "metadata": {},
   "outputs": [
    {
     "data": {
      "application/vnd.plotly.v1+json": {
       "config": {
        "plotlyServerURL": "https://plot.ly"
       },
       "data": [
        {
         "type": "scatter",
         "x": [
          "2001-03-01T00:00:00",
          "2001-04-01T00:00:00",
          "2001-05-01T00:00:00",
          "2001-06-01T00:00:00",
          "2001-07-01T00:00:00",
          "2001-08-01T00:00:00",
          "2001-09-01T00:00:00",
          "2001-10-01T00:00:00",
          "2001-11-01T00:00:00",
          "2001-12-01T00:00:00",
          "2002-01-01T00:00:00",
          "2002-02-01T00:00:00",
          "2002-03-01T00:00:00",
          "2002-04-01T00:00:00",
          "2002-05-01T00:00:00",
          "2002-06-01T00:00:00",
          "2002-07-01T00:00:00",
          "2002-08-01T00:00:00",
          "2002-09-01T00:00:00",
          "2002-10-01T00:00:00",
          "2002-11-01T00:00:00",
          "2002-12-01T00:00:00",
          "2003-01-01T00:00:00",
          "2003-02-01T00:00:00",
          "2003-03-01T00:00:00",
          "2003-04-01T00:00:00",
          "2003-05-01T00:00:00",
          "2003-06-01T00:00:00",
          "2003-07-01T00:00:00",
          "2003-08-01T00:00:00",
          "2003-09-01T00:00:00",
          "2003-10-01T00:00:00",
          "2003-11-01T00:00:00",
          "2003-12-01T00:00:00",
          "2004-01-01T00:00:00",
          "2004-02-01T00:00:00",
          "2004-03-01T00:00:00",
          "2004-04-01T00:00:00",
          "2004-05-01T00:00:00",
          "2004-06-01T00:00:00",
          "2004-07-01T00:00:00",
          "2004-08-01T00:00:00",
          "2004-09-01T00:00:00",
          "2004-10-01T00:00:00",
          "2004-11-01T00:00:00",
          "2004-12-01T00:00:00",
          "2005-01-01T00:00:00",
          "2005-02-01T00:00:00",
          "2005-03-01T00:00:00",
          "2005-04-01T00:00:00",
          "2005-05-01T00:00:00",
          "2005-06-01T00:00:00",
          "2005-07-01T00:00:00",
          "2005-08-01T00:00:00",
          "2005-09-01T00:00:00",
          "2005-10-01T00:00:00",
          "2005-11-01T00:00:00",
          "2005-12-01T00:00:00",
          "2006-01-01T00:00:00",
          "2006-02-01T00:00:00",
          "2006-03-01T00:00:00",
          "2006-04-01T00:00:00",
          "2006-05-01T00:00:00",
          "2006-06-01T00:00:00",
          "2006-07-01T00:00:00",
          "2006-08-01T00:00:00",
          "2006-09-01T00:00:00",
          "2006-10-01T00:00:00",
          "2006-11-01T00:00:00",
          "2006-12-01T00:00:00",
          "2007-01-01T00:00:00",
          "2007-02-01T00:00:00",
          "2007-03-01T00:00:00",
          "2007-04-01T00:00:00",
          "2007-05-01T00:00:00",
          "2007-06-01T00:00:00",
          "2007-07-01T00:00:00",
          "2007-08-01T00:00:00",
          "2007-09-01T00:00:00",
          "2007-10-01T00:00:00",
          "2007-11-01T00:00:00",
          "2007-12-01T00:00:00",
          "2008-01-01T00:00:00",
          "2008-02-01T00:00:00",
          "2008-03-01T00:00:00",
          "2008-04-01T00:00:00",
          "2008-05-01T00:00:00",
          "2008-06-01T00:00:00",
          "2008-07-01T00:00:00",
          "2008-08-01T00:00:00",
          "2008-09-01T00:00:00",
          "2008-10-01T00:00:00",
          "2008-11-01T00:00:00",
          "2008-12-01T00:00:00",
          "2009-01-01T00:00:00",
          "2009-02-01T00:00:00",
          "2009-03-01T00:00:00",
          "2009-04-01T00:00:00",
          "2009-05-01T00:00:00",
          "2009-06-01T00:00:00",
          "2009-07-01T00:00:00",
          "2009-08-01T00:00:00",
          "2009-09-01T00:00:00",
          "2009-10-01T00:00:00",
          "2009-11-01T00:00:00",
          "2009-12-01T00:00:00",
          "2010-01-01T00:00:00",
          "2010-02-01T00:00:00",
          "2010-03-01T00:00:00",
          "2010-04-01T00:00:00",
          "2010-05-01T00:00:00",
          "2010-06-01T00:00:00",
          "2010-07-01T00:00:00",
          "2010-08-01T00:00:00",
          "2010-09-01T00:00:00",
          "2010-10-01T00:00:00",
          "2010-11-01T00:00:00",
          "2010-12-01T00:00:00",
          "2011-01-01T00:00:00",
          "2011-02-01T00:00:00",
          "2011-03-01T00:00:00",
          "2011-04-01T00:00:00",
          "2011-05-01T00:00:00",
          "2011-06-01T00:00:00",
          "2011-07-01T00:00:00",
          "2011-08-01T00:00:00",
          "2011-09-01T00:00:00",
          "2011-10-01T00:00:00",
          "2011-11-01T00:00:00",
          "2011-12-01T00:00:00",
          "2012-01-01T00:00:00",
          "2012-02-01T00:00:00",
          "2012-03-01T00:00:00",
          "2012-04-01T00:00:00",
          "2012-05-01T00:00:00",
          "2012-06-01T00:00:00",
          "2012-07-01T00:00:00",
          "2012-08-01T00:00:00",
          "2012-09-01T00:00:00",
          "2012-10-01T00:00:00",
          "2012-11-01T00:00:00",
          "2012-12-01T00:00:00",
          "2013-01-01T00:00:00",
          "2013-02-01T00:00:00",
          "2013-03-01T00:00:00",
          "2013-04-01T00:00:00",
          "2013-05-01T00:00:00",
          "2013-06-01T00:00:00",
          "2013-07-01T00:00:00",
          "2013-08-01T00:00:00",
          "2013-09-01T00:00:00",
          "2013-10-01T00:00:00",
          "2013-11-01T00:00:00",
          "2013-12-01T00:00:00",
          "2014-01-01T00:00:00",
          "2014-02-01T00:00:00",
          "2014-03-01T00:00:00",
          "2014-04-01T00:00:00",
          "2014-05-01T00:00:00",
          "2014-06-01T00:00:00",
          "2014-07-01T00:00:00",
          "2014-08-01T00:00:00",
          "2014-09-01T00:00:00",
          "2014-10-01T00:00:00",
          "2014-11-01T00:00:00",
          "2014-12-01T00:00:00",
          "2015-01-01T00:00:00",
          "2015-02-01T00:00:00",
          "2015-03-01T00:00:00",
          "2015-04-01T00:00:00",
          "2015-05-01T00:00:00",
          "2015-06-01T00:00:00",
          "2015-07-01T00:00:00",
          "2015-08-01T00:00:00",
          "2015-09-01T00:00:00",
          "2015-10-01T00:00:00",
          "2015-11-01T00:00:00",
          "2015-12-01T00:00:00",
          "2016-01-01T00:00:00",
          "2016-02-01T00:00:00",
          "2016-03-01T00:00:00",
          "2016-04-01T00:00:00",
          "2016-05-01T00:00:00",
          "2016-06-01T00:00:00",
          "2016-07-01T00:00:00",
          "2016-08-01T00:00:00",
          "2016-09-01T00:00:00",
          "2016-10-01T00:00:00",
          "2016-11-01T00:00:00",
          "2016-12-01T00:00:00",
          "2017-01-01T00:00:00",
          "2017-02-01T00:00:00",
          "2017-03-01T00:00:00",
          "2017-04-01T00:00:00",
          "2017-05-01T00:00:00",
          "2017-06-01T00:00:00",
          "2017-07-01T00:00:00",
          "2017-08-01T00:00:00",
          "2017-09-01T00:00:00",
          "2017-10-01T00:00:00",
          "2017-11-01T00:00:00",
          "2017-12-01T00:00:00",
          "2018-01-01T00:00:00",
          "2018-02-01T00:00:00",
          "2018-03-01T00:00:00",
          "2018-04-01T00:00:00",
          "2018-05-01T00:00:00",
          "2018-06-01T00:00:00",
          "2018-07-01T00:00:00",
          "2018-08-01T00:00:00",
          "2018-09-01T00:00:00",
          "2018-10-01T00:00:00",
          "2018-11-01T00:00:00",
          "2018-12-01T00:00:00",
          "2019-01-01T00:00:00",
          "2019-02-01T00:00:00",
          "2019-03-01T00:00:00",
          "2019-04-01T00:00:00",
          "2019-05-01T00:00:00",
          "2019-06-01T00:00:00",
          "2019-07-01T00:00:00",
          "2019-08-01T00:00:00",
          "2019-09-01T00:00:00",
          "2019-10-01T00:00:00",
          "2019-11-01T00:00:00",
          "2019-12-01T00:00:00",
          "2020-01-01T00:00:00",
          "2020-02-01T00:00:00",
          "2020-03-01T00:00:00",
          "2020-04-01T00:00:00",
          "2020-05-01T00:00:00",
          "2020-06-01T00:00:00",
          "2020-07-01T00:00:00",
          "2020-08-01T00:00:00",
          "2020-09-01T00:00:00",
          "2020-10-01T00:00:00"
         ],
         "xaxis": "x",
         "y": [
          null,
          null,
          null,
          null,
          null,
          null,
          273.45833333333326,
          289.5833333333333,
          309.99999999999994,
          326.29166666666663,
          338.04166666666663,
          346.54166666666663,
          355.3333333333333,
          355.66666666666663,
          355.66666666666663,
          355.66666666666663,
          355.66666666666663,
          355.66666666666663,
          357,
          358.91666666666663,
          356.37499999999994,
          385.7916666666667,
          477.91666666666663,
          576.2083333333333,
          637.5833333333333,
          660.4583333333334,
          660.6666666666666,
          660.6666666666666,
          660.6666666666666,
          660.6666666666666,
          658.875,
          644.7916666666666,
          628.2083333333333,
          594.8333333333333,
          509.7916666666667,
          419.9166666666667,
          366.5833333333333,
          347.0833333333333,
          347,
          347,
          347,
          347,
          346.75,
          361.8333333333333,
          386.875,
          404.79166666666663,
          426.70833333333326,
          451.16666666666663,
          462.7083333333333,
          464.04166666666663,
          464.58333333333326,
          464.58333333333326,
          464.58333333333326,
          464.58333333333326,
          464.7916666666666,
          452.0416666666666,
          446.3333333333333,
          460.54166666666663,
          499.29166666666663,
          529.8333333333333,
          534.7916666666666,
          540.3749999999999,
          539.75,
          539.75,
          539.75,
          539.75,
          540.1666666666666,
          564.7916666666666,
          575.2499999999999,
          561.7916666666666,
          549.9583333333333,
          524.5416666666666,
          503.5,
          495.7083333333333,
          495.66666666666663,
          495.66666666666663,
          495.66666666666663,
          495.66666666666663,
          495.29166666666663,
          470.375,
          456.12499999999994,
          455.7083333333333,
          450.5,
          474.6666666666667,
          505.79166666666663,
          518.2916666666666,
          518.3333333333334,
          518.3333333333334,
          518.3333333333334,
          518.3333333333334,
          518.875,
          556.5416666666666,
          616.1666666666666,
          665.4166666666666,
          736.5416666666665,
          813.4583333333333,
          851.125,
          857.0416666666666,
          857.8333333333331,
          857.8333333333331,
          857.8333333333331,
          857.8333333333331,
          857.1249999999999,
          843.8333333333331,
          814.2083333333331,
          784.4999999999999,
          761.125,
          731.3749999999999,
          707.0416666666666,
          701,
          700.25,
          700.25,
          700.25,
          700.25,
          701.1666666666666,
          720.4166666666666,
          746.7499999999999,
          775.5833333333334,
          790.125,
          774.9583333333333,
          775.2083333333334,
          784.75,
          785.1666666666667,
          785.1666666666667,
          785.1666666666667,
          785.1666666666667,
          785.8333333333334,
          744.3750000000001,
          683.5833333333334,
          623.125,
          531.5833333333334,
          486.12499999999994,
          485.9583333333333,
          481.4583333333332,
          481.4166666666666,
          481.4166666666666,
          481.4166666666666,
          481.4166666666666,
          479.74999999999994,
          484.2083333333333,
          509.375,
          537.7916666666666,
          595.4583333333333,
          692.1250000000001,
          733.0416666666666,
          725.125,
          724.6666666666666,
          724.6666666666666,
          724.6666666666666,
          724.6666666666666,
          726.3333333333333,
          754.1666666666666,
          765.2083333333334,
          777.1250000000001,
          807.0416666666666,
          750.9583333333333,
          694.7083333333334,
          697.6666666666666,
          697.9166666666666,
          697.9166666666666,
          697.9166666666666,
          697.9166666666666,
          696.4166666666665,
          695.5833333333334,
          711.8333333333333,
          714.9166666666666,
          701.1666666666666,
          717.9583333333333,
          731.4166666666665,
          726.8333333333333,
          726.8333333333333,
          726.8333333333333,
          726.8333333333333,
          726.8333333333333,
          726.9583333333331,
          696.1666666666666,
          673.4166666666666,
          666.25,
          642.8333333333333,
          638.1249999999999,
          649.6666666666666,
          658.0416666666667,
          658.25,
          658.25,
          658.25,
          658.25,
          660.2499999999999,
          693.2083333333334,
          718.25,
          775.5,
          891.7916666666665,
          965.625,
          989.125,
          993.5833333333334,
          995.2499999999999,
          995.2499999999999,
          995.2499999999999,
          995.2499999999999,
          993.25,
          980.5416666666666,
          1020.3333333333334,
          1093.5416666666667,
          1199.375,
          1302.7083333333333,
          1331.375,
          1338.125,
          1336.4166666666665,
          1336.4166666666665,
          1336.4166666666665,
          1336.4166666666665,
          1340.9999999999998,
          1367.2499999999998,
          1343.0833333333333,
          1262.875,
          1211.4166666666665,
          1199.0833333333333,
          1211.2083333333335,
          1218.4166666666665,
          1218.25,
          1218.25,
          1218.25,
          1218.25,
          1214.8333333333333,
          1171.0833333333333,
          1106.0416666666665,
          1067.8749999999998,
          979.7916666666665,
          840.9583333333333,
          756.2083333333333,
          736.25,
          null,
          null,
          null,
          null,
          null,
          null
         ],
         "yaxis": "y"
        },
        {
         "type": "scatter",
         "x": [
          "2001-03-01T00:00:00",
          "2001-04-01T00:00:00",
          "2001-05-01T00:00:00",
          "2001-06-01T00:00:00",
          "2001-07-01T00:00:00",
          "2001-08-01T00:00:00",
          "2001-09-01T00:00:00",
          "2001-10-01T00:00:00",
          "2001-11-01T00:00:00",
          "2001-12-01T00:00:00",
          "2002-01-01T00:00:00",
          "2002-02-01T00:00:00",
          "2002-03-01T00:00:00",
          "2002-04-01T00:00:00",
          "2002-05-01T00:00:00",
          "2002-06-01T00:00:00",
          "2002-07-01T00:00:00",
          "2002-08-01T00:00:00",
          "2002-09-01T00:00:00",
          "2002-10-01T00:00:00",
          "2002-11-01T00:00:00",
          "2002-12-01T00:00:00",
          "2003-01-01T00:00:00",
          "2003-02-01T00:00:00",
          "2003-03-01T00:00:00",
          "2003-04-01T00:00:00",
          "2003-05-01T00:00:00",
          "2003-06-01T00:00:00",
          "2003-07-01T00:00:00",
          "2003-08-01T00:00:00",
          "2003-09-01T00:00:00",
          "2003-10-01T00:00:00",
          "2003-11-01T00:00:00",
          "2003-12-01T00:00:00",
          "2004-01-01T00:00:00",
          "2004-02-01T00:00:00",
          "2004-03-01T00:00:00",
          "2004-04-01T00:00:00",
          "2004-05-01T00:00:00",
          "2004-06-01T00:00:00",
          "2004-07-01T00:00:00",
          "2004-08-01T00:00:00",
          "2004-09-01T00:00:00",
          "2004-10-01T00:00:00",
          "2004-11-01T00:00:00",
          "2004-12-01T00:00:00",
          "2005-01-01T00:00:00",
          "2005-02-01T00:00:00",
          "2005-03-01T00:00:00",
          "2005-04-01T00:00:00",
          "2005-05-01T00:00:00",
          "2005-06-01T00:00:00",
          "2005-07-01T00:00:00",
          "2005-08-01T00:00:00",
          "2005-09-01T00:00:00",
          "2005-10-01T00:00:00",
          "2005-11-01T00:00:00",
          "2005-12-01T00:00:00",
          "2006-01-01T00:00:00",
          "2006-02-01T00:00:00",
          "2006-03-01T00:00:00",
          "2006-04-01T00:00:00",
          "2006-05-01T00:00:00",
          "2006-06-01T00:00:00",
          "2006-07-01T00:00:00",
          "2006-08-01T00:00:00",
          "2006-09-01T00:00:00",
          "2006-10-01T00:00:00",
          "2006-11-01T00:00:00",
          "2006-12-01T00:00:00",
          "2007-01-01T00:00:00",
          "2007-02-01T00:00:00",
          "2007-03-01T00:00:00",
          "2007-04-01T00:00:00",
          "2007-05-01T00:00:00",
          "2007-06-01T00:00:00",
          "2007-07-01T00:00:00",
          "2007-08-01T00:00:00",
          "2007-09-01T00:00:00",
          "2007-10-01T00:00:00",
          "2007-11-01T00:00:00",
          "2007-12-01T00:00:00",
          "2008-01-01T00:00:00",
          "2008-02-01T00:00:00",
          "2008-03-01T00:00:00",
          "2008-04-01T00:00:00",
          "2008-05-01T00:00:00",
          "2008-06-01T00:00:00",
          "2008-07-01T00:00:00",
          "2008-08-01T00:00:00",
          "2008-09-01T00:00:00",
          "2008-10-01T00:00:00",
          "2008-11-01T00:00:00",
          "2008-12-01T00:00:00",
          "2009-01-01T00:00:00",
          "2009-02-01T00:00:00",
          "2009-03-01T00:00:00",
          "2009-04-01T00:00:00",
          "2009-05-01T00:00:00",
          "2009-06-01T00:00:00",
          "2009-07-01T00:00:00",
          "2009-08-01T00:00:00",
          "2009-09-01T00:00:00",
          "2009-10-01T00:00:00",
          "2009-11-01T00:00:00",
          "2009-12-01T00:00:00",
          "2010-01-01T00:00:00",
          "2010-02-01T00:00:00",
          "2010-03-01T00:00:00",
          "2010-04-01T00:00:00",
          "2010-05-01T00:00:00",
          "2010-06-01T00:00:00",
          "2010-07-01T00:00:00",
          "2010-08-01T00:00:00",
          "2010-09-01T00:00:00",
          "2010-10-01T00:00:00",
          "2010-11-01T00:00:00",
          "2010-12-01T00:00:00",
          "2011-01-01T00:00:00",
          "2011-02-01T00:00:00",
          "2011-03-01T00:00:00",
          "2011-04-01T00:00:00",
          "2011-05-01T00:00:00",
          "2011-06-01T00:00:00",
          "2011-07-01T00:00:00",
          "2011-08-01T00:00:00",
          "2011-09-01T00:00:00",
          "2011-10-01T00:00:00",
          "2011-11-01T00:00:00",
          "2011-12-01T00:00:00",
          "2012-01-01T00:00:00",
          "2012-02-01T00:00:00",
          "2012-03-01T00:00:00",
          "2012-04-01T00:00:00",
          "2012-05-01T00:00:00",
          "2012-06-01T00:00:00",
          "2012-07-01T00:00:00",
          "2012-08-01T00:00:00",
          "2012-09-01T00:00:00",
          "2012-10-01T00:00:00",
          "2012-11-01T00:00:00",
          "2012-12-01T00:00:00",
          "2013-01-01T00:00:00",
          "2013-02-01T00:00:00",
          "2013-03-01T00:00:00",
          "2013-04-01T00:00:00",
          "2013-05-01T00:00:00",
          "2013-06-01T00:00:00",
          "2013-07-01T00:00:00",
          "2013-08-01T00:00:00",
          "2013-09-01T00:00:00",
          "2013-10-01T00:00:00",
          "2013-11-01T00:00:00",
          "2013-12-01T00:00:00",
          "2014-01-01T00:00:00",
          "2014-02-01T00:00:00",
          "2014-03-01T00:00:00",
          "2014-04-01T00:00:00",
          "2014-05-01T00:00:00",
          "2014-06-01T00:00:00",
          "2014-07-01T00:00:00",
          "2014-08-01T00:00:00",
          "2014-09-01T00:00:00",
          "2014-10-01T00:00:00",
          "2014-11-01T00:00:00",
          "2014-12-01T00:00:00",
          "2015-01-01T00:00:00",
          "2015-02-01T00:00:00",
          "2015-03-01T00:00:00",
          "2015-04-01T00:00:00",
          "2015-05-01T00:00:00",
          "2015-06-01T00:00:00",
          "2015-07-01T00:00:00",
          "2015-08-01T00:00:00",
          "2015-09-01T00:00:00",
          "2015-10-01T00:00:00",
          "2015-11-01T00:00:00",
          "2015-12-01T00:00:00",
          "2016-01-01T00:00:00",
          "2016-02-01T00:00:00",
          "2016-03-01T00:00:00",
          "2016-04-01T00:00:00",
          "2016-05-01T00:00:00",
          "2016-06-01T00:00:00",
          "2016-07-01T00:00:00",
          "2016-08-01T00:00:00",
          "2016-09-01T00:00:00",
          "2016-10-01T00:00:00",
          "2016-11-01T00:00:00",
          "2016-12-01T00:00:00",
          "2017-01-01T00:00:00",
          "2017-02-01T00:00:00",
          "2017-03-01T00:00:00",
          "2017-04-01T00:00:00",
          "2017-05-01T00:00:00",
          "2017-06-01T00:00:00",
          "2017-07-01T00:00:00",
          "2017-08-01T00:00:00",
          "2017-09-01T00:00:00",
          "2017-10-01T00:00:00",
          "2017-11-01T00:00:00",
          "2017-12-01T00:00:00",
          "2018-01-01T00:00:00",
          "2018-02-01T00:00:00",
          "2018-03-01T00:00:00",
          "2018-04-01T00:00:00",
          "2018-05-01T00:00:00",
          "2018-06-01T00:00:00",
          "2018-07-01T00:00:00",
          "2018-08-01T00:00:00",
          "2018-09-01T00:00:00",
          "2018-10-01T00:00:00",
          "2018-11-01T00:00:00",
          "2018-12-01T00:00:00",
          "2019-01-01T00:00:00",
          "2019-02-01T00:00:00",
          "2019-03-01T00:00:00",
          "2019-04-01T00:00:00",
          "2019-05-01T00:00:00",
          "2019-06-01T00:00:00",
          "2019-07-01T00:00:00",
          "2019-08-01T00:00:00",
          "2019-09-01T00:00:00",
          "2019-10-01T00:00:00",
          "2019-11-01T00:00:00",
          "2019-12-01T00:00:00",
          "2020-01-01T00:00:00",
          "2020-02-01T00:00:00",
          "2020-03-01T00:00:00",
          "2020-04-01T00:00:00",
          "2020-05-01T00:00:00",
          "2020-06-01T00:00:00",
          "2020-07-01T00:00:00",
          "2020-08-01T00:00:00",
          "2020-09-01T00:00:00",
          "2020-10-01T00:00:00"
         ],
         "xaxis": "x2",
         "y": [
          -679.717308317089,
          74.83313027940223,
          298.94740903183884,
          459.50296458739444,
          2242.55852014295,
          1059.3918534762831,
          -22.440992527615286,
          -672.0506416504224,
          -681.4563434048082,
          -684.9738872644573,
          -693.7216942820012,
          -700.8730100714749,
          -679.717308317089,
          74.83313027940223,
          298.94740903183884,
          459.50296458739444,
          2242.55852014295,
          1059.3918534762831,
          -22.440992527615286,
          -672.0506416504224,
          -681.4563434048082,
          -684.9738872644573,
          -693.7216942820012,
          -700.8730100714749,
          -679.717308317089,
          74.83313027940223,
          298.94740903183884,
          459.50296458739444,
          2242.55852014295,
          1059.3918534762831,
          -22.440992527615286,
          -672.0506416504224,
          -681.4563434048082,
          -684.9738872644573,
          -693.7216942820012,
          -700.8730100714749,
          -679.717308317089,
          74.83313027940223,
          298.94740903183884,
          459.50296458739444,
          2242.55852014295,
          1059.3918534762831,
          -22.440992527615286,
          -672.0506416504224,
          -681.4563434048082,
          -684.9738872644573,
          -693.7216942820012,
          -700.8730100714749,
          -679.717308317089,
          74.83313027940223,
          298.94740903183884,
          459.50296458739444,
          2242.55852014295,
          1059.3918534762831,
          -22.440992527615286,
          -672.0506416504224,
          -681.4563434048082,
          -684.9738872644573,
          -693.7216942820012,
          -700.8730100714749,
          -679.717308317089,
          74.83313027940223,
          298.94740903183884,
          459.50296458739444,
          2242.55852014295,
          1059.3918534762831,
          -22.440992527615286,
          -672.0506416504224,
          -681.4563434048082,
          -684.9738872644573,
          -693.7216942820012,
          -700.8730100714749,
          -679.717308317089,
          74.83313027940223,
          298.94740903183884,
          459.50296458739444,
          2242.55852014295,
          1059.3918534762831,
          -22.440992527615286,
          -672.0506416504224,
          -681.4563434048082,
          -684.9738872644573,
          -693.7216942820012,
          -700.8730100714749,
          -679.717308317089,
          74.83313027940223,
          298.94740903183884,
          459.50296458739444,
          2242.55852014295,
          1059.3918534762831,
          -22.440992527615286,
          -672.0506416504224,
          -681.4563434048082,
          -684.9738872644573,
          -693.7216942820012,
          -700.8730100714749,
          -679.717308317089,
          74.83313027940223,
          298.94740903183884,
          459.50296458739444,
          2242.55852014295,
          1059.3918534762831,
          -22.440992527615286,
          -672.0506416504224,
          -681.4563434048082,
          -684.9738872644573,
          -693.7216942820012,
          -700.8730100714749,
          -679.717308317089,
          74.83313027940223,
          298.94740903183884,
          459.50296458739444,
          2242.55852014295,
          1059.3918534762831,
          -22.440992527615286,
          -672.0506416504224,
          -681.4563434048082,
          -684.9738872644573,
          -693.7216942820012,
          -700.8730100714749,
          -679.717308317089,
          74.83313027940223,
          298.94740903183884,
          459.50296458739444,
          2242.55852014295,
          1059.3918534762831,
          -22.440992527615286,
          -672.0506416504224,
          -681.4563434048082,
          -684.9738872644573,
          -693.7216942820012,
          -700.8730100714749,
          -679.717308317089,
          74.83313027940223,
          298.94740903183884,
          459.50296458739444,
          2242.55852014295,
          1059.3918534762831,
          -22.440992527615286,
          -672.0506416504224,
          -681.4563434048082,
          -684.9738872644573,
          -693.7216942820012,
          -700.8730100714749,
          -679.717308317089,
          74.83313027940223,
          298.94740903183884,
          459.50296458739444,
          2242.55852014295,
          1059.3918534762831,
          -22.440992527615286,
          -672.0506416504224,
          -681.4563434048082,
          -684.9738872644573,
          -693.7216942820012,
          -700.8730100714749,
          -679.717308317089,
          74.83313027940223,
          298.94740903183884,
          459.50296458739444,
          2242.55852014295,
          1059.3918534762831,
          -22.440992527615286,
          -672.0506416504224,
          -681.4563434048082,
          -684.9738872644573,
          -693.7216942820012,
          -700.8730100714749,
          -679.717308317089,
          74.83313027940223,
          298.94740903183884,
          459.50296458739444,
          2242.55852014295,
          1059.3918534762831,
          -22.440992527615286,
          -672.0506416504224,
          -681.4563434048082,
          -684.9738872644573,
          -693.7216942820012,
          -700.8730100714749,
          -679.717308317089,
          74.83313027940223,
          298.94740903183884,
          459.50296458739444,
          2242.55852014295,
          1059.3918534762831,
          -22.440992527615286,
          -672.0506416504224,
          -681.4563434048082,
          -684.9738872644573,
          -693.7216942820012,
          -700.8730100714749,
          -679.717308317089,
          74.83313027940223,
          298.94740903183884,
          459.50296458739444,
          2242.55852014295,
          1059.3918534762831,
          -22.440992527615286,
          -672.0506416504224,
          -681.4563434048082,
          -684.9738872644573,
          -693.7216942820012,
          -700.8730100714749,
          -679.717308317089,
          74.83313027940223,
          298.94740903183884,
          459.50296458739444,
          2242.55852014295,
          1059.3918534762831,
          -22.440992527615286,
          -672.0506416504224,
          -681.4563434048082,
          -684.9738872644573,
          -693.7216942820012,
          -700.8730100714749,
          -679.717308317089,
          74.83313027940223,
          298.94740903183884,
          459.50296458739444,
          2242.55852014295,
          1059.3918534762831,
          -22.440992527615286,
          -672.0506416504224,
          -681.4563434048082,
          -684.9738872644573,
          -693.7216942820012,
          -700.8730100714749,
          -679.717308317089,
          74.83313027940223,
          298.94740903183884,
          459.50296458739444,
          2242.55852014295,
          1059.3918534762831,
          -22.440992527615286,
          -672.0506416504224
         ],
         "yaxis": "y2"
        },
        {
         "type": "scatter",
         "x": [
          "2001-03-01T00:00:00",
          "2001-04-01T00:00:00",
          "2001-05-01T00:00:00",
          "2001-06-01T00:00:00",
          "2001-07-01T00:00:00",
          "2001-08-01T00:00:00",
          "2001-09-01T00:00:00",
          "2001-10-01T00:00:00",
          "2001-11-01T00:00:00",
          "2001-12-01T00:00:00",
          "2002-01-01T00:00:00",
          "2002-02-01T00:00:00",
          "2002-03-01T00:00:00",
          "2002-04-01T00:00:00",
          "2002-05-01T00:00:00",
          "2002-06-01T00:00:00",
          "2002-07-01T00:00:00",
          "2002-08-01T00:00:00",
          "2002-09-01T00:00:00",
          "2002-10-01T00:00:00",
          "2002-11-01T00:00:00",
          "2002-12-01T00:00:00",
          "2003-01-01T00:00:00",
          "2003-02-01T00:00:00",
          "2003-03-01T00:00:00",
          "2003-04-01T00:00:00",
          "2003-05-01T00:00:00",
          "2003-06-01T00:00:00",
          "2003-07-01T00:00:00",
          "2003-08-01T00:00:00",
          "2003-09-01T00:00:00",
          "2003-10-01T00:00:00",
          "2003-11-01T00:00:00",
          "2003-12-01T00:00:00",
          "2004-01-01T00:00:00",
          "2004-02-01T00:00:00",
          "2004-03-01T00:00:00",
          "2004-04-01T00:00:00",
          "2004-05-01T00:00:00",
          "2004-06-01T00:00:00",
          "2004-07-01T00:00:00",
          "2004-08-01T00:00:00",
          "2004-09-01T00:00:00",
          "2004-10-01T00:00:00",
          "2004-11-01T00:00:00",
          "2004-12-01T00:00:00",
          "2005-01-01T00:00:00",
          "2005-02-01T00:00:00",
          "2005-03-01T00:00:00",
          "2005-04-01T00:00:00",
          "2005-05-01T00:00:00",
          "2005-06-01T00:00:00",
          "2005-07-01T00:00:00",
          "2005-08-01T00:00:00",
          "2005-09-01T00:00:00",
          "2005-10-01T00:00:00",
          "2005-11-01T00:00:00",
          "2005-12-01T00:00:00",
          "2006-01-01T00:00:00",
          "2006-02-01T00:00:00",
          "2006-03-01T00:00:00",
          "2006-04-01T00:00:00",
          "2006-05-01T00:00:00",
          "2006-06-01T00:00:00",
          "2006-07-01T00:00:00",
          "2006-08-01T00:00:00",
          "2006-09-01T00:00:00",
          "2006-10-01T00:00:00",
          "2006-11-01T00:00:00",
          "2006-12-01T00:00:00",
          "2007-01-01T00:00:00",
          "2007-02-01T00:00:00",
          "2007-03-01T00:00:00",
          "2007-04-01T00:00:00",
          "2007-05-01T00:00:00",
          "2007-06-01T00:00:00",
          "2007-07-01T00:00:00",
          "2007-08-01T00:00:00",
          "2007-09-01T00:00:00",
          "2007-10-01T00:00:00",
          "2007-11-01T00:00:00",
          "2007-12-01T00:00:00",
          "2008-01-01T00:00:00",
          "2008-02-01T00:00:00",
          "2008-03-01T00:00:00",
          "2008-04-01T00:00:00",
          "2008-05-01T00:00:00",
          "2008-06-01T00:00:00",
          "2008-07-01T00:00:00",
          "2008-08-01T00:00:00",
          "2008-09-01T00:00:00",
          "2008-10-01T00:00:00",
          "2008-11-01T00:00:00",
          "2008-12-01T00:00:00",
          "2009-01-01T00:00:00",
          "2009-02-01T00:00:00",
          "2009-03-01T00:00:00",
          "2009-04-01T00:00:00",
          "2009-05-01T00:00:00",
          "2009-06-01T00:00:00",
          "2009-07-01T00:00:00",
          "2009-08-01T00:00:00",
          "2009-09-01T00:00:00",
          "2009-10-01T00:00:00",
          "2009-11-01T00:00:00",
          "2009-12-01T00:00:00",
          "2010-01-01T00:00:00",
          "2010-02-01T00:00:00",
          "2010-03-01T00:00:00",
          "2010-04-01T00:00:00",
          "2010-05-01T00:00:00",
          "2010-06-01T00:00:00",
          "2010-07-01T00:00:00",
          "2010-08-01T00:00:00",
          "2010-09-01T00:00:00",
          "2010-10-01T00:00:00",
          "2010-11-01T00:00:00",
          "2010-12-01T00:00:00",
          "2011-01-01T00:00:00",
          "2011-02-01T00:00:00",
          "2011-03-01T00:00:00",
          "2011-04-01T00:00:00",
          "2011-05-01T00:00:00",
          "2011-06-01T00:00:00",
          "2011-07-01T00:00:00",
          "2011-08-01T00:00:00",
          "2011-09-01T00:00:00",
          "2011-10-01T00:00:00",
          "2011-11-01T00:00:00",
          "2011-12-01T00:00:00",
          "2012-01-01T00:00:00",
          "2012-02-01T00:00:00",
          "2012-03-01T00:00:00",
          "2012-04-01T00:00:00",
          "2012-05-01T00:00:00",
          "2012-06-01T00:00:00",
          "2012-07-01T00:00:00",
          "2012-08-01T00:00:00",
          "2012-09-01T00:00:00",
          "2012-10-01T00:00:00",
          "2012-11-01T00:00:00",
          "2012-12-01T00:00:00",
          "2013-01-01T00:00:00",
          "2013-02-01T00:00:00",
          "2013-03-01T00:00:00",
          "2013-04-01T00:00:00",
          "2013-05-01T00:00:00",
          "2013-06-01T00:00:00",
          "2013-07-01T00:00:00",
          "2013-08-01T00:00:00",
          "2013-09-01T00:00:00",
          "2013-10-01T00:00:00",
          "2013-11-01T00:00:00",
          "2013-12-01T00:00:00",
          "2014-01-01T00:00:00",
          "2014-02-01T00:00:00",
          "2014-03-01T00:00:00",
          "2014-04-01T00:00:00",
          "2014-05-01T00:00:00",
          "2014-06-01T00:00:00",
          "2014-07-01T00:00:00",
          "2014-08-01T00:00:00",
          "2014-09-01T00:00:00",
          "2014-10-01T00:00:00",
          "2014-11-01T00:00:00",
          "2014-12-01T00:00:00",
          "2015-01-01T00:00:00",
          "2015-02-01T00:00:00",
          "2015-03-01T00:00:00",
          "2015-04-01T00:00:00",
          "2015-05-01T00:00:00",
          "2015-06-01T00:00:00",
          "2015-07-01T00:00:00",
          "2015-08-01T00:00:00",
          "2015-09-01T00:00:00",
          "2015-10-01T00:00:00",
          "2015-11-01T00:00:00",
          "2015-12-01T00:00:00",
          "2016-01-01T00:00:00",
          "2016-02-01T00:00:00",
          "2016-03-01T00:00:00",
          "2016-04-01T00:00:00",
          "2016-05-01T00:00:00",
          "2016-06-01T00:00:00",
          "2016-07-01T00:00:00",
          "2016-08-01T00:00:00",
          "2016-09-01T00:00:00",
          "2016-10-01T00:00:00",
          "2016-11-01T00:00:00",
          "2016-12-01T00:00:00",
          "2017-01-01T00:00:00",
          "2017-02-01T00:00:00",
          "2017-03-01T00:00:00",
          "2017-04-01T00:00:00",
          "2017-05-01T00:00:00",
          "2017-06-01T00:00:00",
          "2017-07-01T00:00:00",
          "2017-08-01T00:00:00",
          "2017-09-01T00:00:00",
          "2017-10-01T00:00:00",
          "2017-11-01T00:00:00",
          "2017-12-01T00:00:00",
          "2018-01-01T00:00:00",
          "2018-02-01T00:00:00",
          "2018-03-01T00:00:00",
          "2018-04-01T00:00:00",
          "2018-05-01T00:00:00",
          "2018-06-01T00:00:00",
          "2018-07-01T00:00:00",
          "2018-08-01T00:00:00",
          "2018-09-01T00:00:00",
          "2018-10-01T00:00:00",
          "2018-11-01T00:00:00",
          "2018-12-01T00:00:00",
          "2019-01-01T00:00:00",
          "2019-02-01T00:00:00",
          "2019-03-01T00:00:00",
          "2019-04-01T00:00:00",
          "2019-05-01T00:00:00",
          "2019-06-01T00:00:00",
          "2019-07-01T00:00:00",
          "2019-08-01T00:00:00",
          "2019-09-01T00:00:00",
          "2019-10-01T00:00:00",
          "2019-11-01T00:00:00",
          "2019-12-01T00:00:00",
          "2020-01-01T00:00:00",
          "2020-02-01T00:00:00",
          "2020-03-01T00:00:00",
          "2020-04-01T00:00:00",
          "2020-05-01T00:00:00",
          "2020-06-01T00:00:00",
          "2020-07-01T00:00:00",
          "2020-08-01T00:00:00",
          "2020-09-01T00:00:00",
          "2020-10-01T00:00:00"
         ],
         "xaxis": "x3",
         "y": [
          null,
          null,
          null,
          null,
          null,
          null,
          46.98265919428203,
          382.46730831708913,
          371.45634340480825,
          358.68222059779066,
          355.68002761533455,
          354.3313434048083,
          341.38397498375565,
          146.50020305393116,
          -0.6140756985054736,
          -332.1696312540611,
          -1291.2251868096164,
          -491.05852014294976,
          -28.559007472384714,
          313.1339749837558,
          325.08134340480825,
          299.1822205977906,
          215.80502761533455,
          124.66467673814168,
          91.1339749837557,
          -144.29146361273558,
          -380.6140756985055,
          143.83036874593893,
          -166.2251868096164,
          132.94147985705035,
          213.5659925276153,
          32.25897498375582,
          53.24801007147494,
          90.14055393112403,
          183.9300276153345,
          280.95634340480825,
          319.13397498375565,
          -125.91646361273554,
          -169.94740903183884,
          -240.50296458739444,
          -1195.5585201429499,
          -367.39185347628313,
          59.690992527615286,
          313.21730831708913,
          294.5813434048082,
          280.18222059779066,
          267.0133609486679,
          249.7063434048083,
          217.00897498375565,
          125.12520305393114,
          -54.5307423651721,
          -161.0862979207277,
          -984.1418534762831,
          -226.9751868096164,
          -39.350674139051286,
          236.00897498375588,
          235.12301007147488,
          224.43222059779066,
          194.43002761533455,
          171.03967673814168,
          149.92564165042234,
          -262.2081302794021,
          44.302590968161155,
          -69.25296458739444,
          -296.3085201429499,
          -332.14185347628313,
          34.27432586094866,
          108.25897498375582,
          106.20634340480831,
          123.18222059779066,
          143.76336094866792,
          176.3313434048083,
          191.21730831708896,
          363.4585363872645,
          -241.61407569850547,
          -18.169631254061073,
          -543.2251868096164,
          -607.0585201429498,
          -106.85067413905134,
          201.67564165042245,
          225.33134340480825,
          229.26555393112397,
          243.22169428200118,
          226.20634340480825,
          179.92564165042234,
          -248.12479694606884,
          -17.280742365172216,
          -297.8362979207278,
          -433.89185347628336,
          -181.7251868096165,
          168.5659925276153,
          116.50897498375582,
          65.28967673814157,
          19.55722059779066,
          -42.819972384665334,
          -112.58532326185832,
          -152.40769168291104,
          304.12520305393116,
          183.219257634828,
          4.6637020792724115,
          291.6081465237171,
          259.77481319038384,
          -46.6840074723846,
          -151.7826916829107,
          -132.75198992852495,
          -99.5261127355426,
          -67.40330571799882,
          -30.50198992852495,
          -25.324358349577665,
          158.1668697205978,
          -68.19740903183884,
          -141.75296458739444,
          192.19147985705013,
          -39.64185347628313,
          -17.725674139051343,
          -46.36602501624418,
          -65.29365659519169,
          -90.60944606887608,
          -96.40330571799882,
          -74.08532326185832,
          -71.49102501624441,
          514.4168697205978,
          38.88592430149441,
          273.3303687459388,
          -43.725186809616844,
          -337.5585201429499,
          116.60765919428192,
          -60.324358349577665,
          -2.1269899285251768,
          61.84888726445729,
          162.1383609486678,
          214.748010071475,
          233.75897498375565,
          -193.2914636127354,
          -105.36407569850542,
          -425.919631254061,
          -933.9751868096164,
          69.19147985705035,
          315.6909925276153,
          198.84230831708913,
          172.0813434048082,
          147.18222059779066,
          98.26336094866792,
          8.748010071474823,
          -53.324358349577665,
          -289.9581302794022,
          108.38592430149453,
          -444.1696312540611,
          -18.22518680961639,
          986.9414798570504,
          -109.89234080571796,
          -82.11602501624418,
          -83.75198992852518,
          -92.15111273554282,
          -113.31997238466545,
          -50.08532326185832,
          25.008974983755593,
          365.50020305393116,
          -227.86407569850547,
          231.58036874593893,
          77.52481319038361,
          -401.30852014294976,
          -14.975674139051229,
          -17.532691682910922,
          -30.376989928525063,
          -29.94277940220934,
          -7.444972384665448,
          -17.08532326185832,
          -47.69935834957755,
          352.33353638726453,
          117.2192576348279,
          -97.3362979207277,
          18.608146523717096,
          2.774813190383611,
          -155.51734080571785,
          -18.11602501624418,
          8.039676738141566,
          18.72388726445729,
          50.88836094866792,
          62.74801007147505,
          37.050641650422335,
          -320.87479694606895,
          381.80259096816116,
          -396.75296458739444,
          -106.80852014294987,
          152.35814652371687,
          107.1909925276154,
          -10.157691682910922,
          -36.793656595191806,
          -90.52611273554271,
          -198.06997238466533,
          -264.75198992852506,
          -254.40769168291104,
          86.5835363872644,
          -97.19740903183873,
          782.2470354126056,
          831.1914798570501,
          312.35814652371687,
          -158.8090074723847,
          -257.4910250162442,
          -338.8769899285252,
          -408.56777940220945,
          -505.6533057179988,
          -601.8353232618583,
          -644.657691682911,
          -514.9581302794022,
          773.6359243014947,
          986.080368745939,
          2485.024813190384,
          456.19147985705035,
          -303.5590074723845,
          -685.1993583495773,
          -661.6269899285251,
          -577.9011127355427,
          -517.6949723846653,
          -498.2103232618583,
          -414.4910250162445,
          124.75020305393126,
          -208.19740903183884,
          279.24703541260556,
          2193.19147985705,
          688.3581465237169,
          -0.39234080571797136,
          -493.0326916829108,
          -424.5853232618583,
          -382.9011127355425,
          -286.06997238466533,
          -140.08532326185832,
          -41.49102501624429,
          -361.0831302794022,
          null,
          null,
          null,
          null,
          null,
          null
         ],
         "yaxis": "y3"
        }
       ],
       "layout": {
        "annotations": [
         {
          "font": {
           "size": 16
          },
          "showarrow": false,
          "text": "Trend",
          "x": 0.5,
          "xanchor": "center",
          "xref": "paper",
          "y": 1,
          "yanchor": "bottom",
          "yref": "paper"
         },
         {
          "font": {
           "size": 16
          },
          "showarrow": false,
          "text": "Seasonal",
          "x": 0.5,
          "xanchor": "center",
          "xref": "paper",
          "y": 0.6111111111111112,
          "yanchor": "bottom",
          "yref": "paper"
         },
         {
          "font": {
           "size": 16
          },
          "showarrow": false,
          "text": "Residual",
          "x": 0.5,
          "xanchor": "center",
          "xref": "paper",
          "y": 0.22222222222222224,
          "yanchor": "bottom",
          "yref": "paper"
         }
        ],
        "height": 800,
        "showlegend": false,
        "template": {
         "data": {
          "bar": [
           {
            "error_x": {
             "color": "#2a3f5f"
            },
            "error_y": {
             "color": "#2a3f5f"
            },
            "marker": {
             "line": {
              "color": "#E5ECF6",
              "width": 0.5
             },
             "pattern": {
              "fillmode": "overlay",
              "size": 10,
              "solidity": 0.2
             }
            },
            "type": "bar"
           }
          ],
          "barpolar": [
           {
            "marker": {
             "line": {
              "color": "#E5ECF6",
              "width": 0.5
             },
             "pattern": {
              "fillmode": "overlay",
              "size": 10,
              "solidity": 0.2
             }
            },
            "type": "barpolar"
           }
          ],
          "carpet": [
           {
            "aaxis": {
             "endlinecolor": "#2a3f5f",
             "gridcolor": "white",
             "linecolor": "white",
             "minorgridcolor": "white",
             "startlinecolor": "#2a3f5f"
            },
            "baxis": {
             "endlinecolor": "#2a3f5f",
             "gridcolor": "white",
             "linecolor": "white",
             "minorgridcolor": "white",
             "startlinecolor": "#2a3f5f"
            },
            "type": "carpet"
           }
          ],
          "choropleth": [
           {
            "colorbar": {
             "outlinewidth": 0,
             "ticks": ""
            },
            "type": "choropleth"
           }
          ],
          "contour": [
           {
            "colorbar": {
             "outlinewidth": 0,
             "ticks": ""
            },
            "colorscale": [
             [
              0,
              "#0d0887"
             ],
             [
              0.1111111111111111,
              "#46039f"
             ],
             [
              0.2222222222222222,
              "#7201a8"
             ],
             [
              0.3333333333333333,
              "#9c179e"
             ],
             [
              0.4444444444444444,
              "#bd3786"
             ],
             [
              0.5555555555555556,
              "#d8576b"
             ],
             [
              0.6666666666666666,
              "#ed7953"
             ],
             [
              0.7777777777777778,
              "#fb9f3a"
             ],
             [
              0.8888888888888888,
              "#fdca26"
             ],
             [
              1,
              "#f0f921"
             ]
            ],
            "type": "contour"
           }
          ],
          "contourcarpet": [
           {
            "colorbar": {
             "outlinewidth": 0,
             "ticks": ""
            },
            "type": "contourcarpet"
           }
          ],
          "heatmap": [
           {
            "colorbar": {
             "outlinewidth": 0,
             "ticks": ""
            },
            "colorscale": [
             [
              0,
              "#0d0887"
             ],
             [
              0.1111111111111111,
              "#46039f"
             ],
             [
              0.2222222222222222,
              "#7201a8"
             ],
             [
              0.3333333333333333,
              "#9c179e"
             ],
             [
              0.4444444444444444,
              "#bd3786"
             ],
             [
              0.5555555555555556,
              "#d8576b"
             ],
             [
              0.6666666666666666,
              "#ed7953"
             ],
             [
              0.7777777777777778,
              "#fb9f3a"
             ],
             [
              0.8888888888888888,
              "#fdca26"
             ],
             [
              1,
              "#f0f921"
             ]
            ],
            "type": "heatmap"
           }
          ],
          "heatmapgl": [
           {
            "colorbar": {
             "outlinewidth": 0,
             "ticks": ""
            },
            "colorscale": [
             [
              0,
              "#0d0887"
             ],
             [
              0.1111111111111111,
              "#46039f"
             ],
             [
              0.2222222222222222,
              "#7201a8"
             ],
             [
              0.3333333333333333,
              "#9c179e"
             ],
             [
              0.4444444444444444,
              "#bd3786"
             ],
             [
              0.5555555555555556,
              "#d8576b"
             ],
             [
              0.6666666666666666,
              "#ed7953"
             ],
             [
              0.7777777777777778,
              "#fb9f3a"
             ],
             [
              0.8888888888888888,
              "#fdca26"
             ],
             [
              1,
              "#f0f921"
             ]
            ],
            "type": "heatmapgl"
           }
          ],
          "histogram": [
           {
            "marker": {
             "pattern": {
              "fillmode": "overlay",
              "size": 10,
              "solidity": 0.2
             }
            },
            "type": "histogram"
           }
          ],
          "histogram2d": [
           {
            "colorbar": {
             "outlinewidth": 0,
             "ticks": ""
            },
            "colorscale": [
             [
              0,
              "#0d0887"
             ],
             [
              0.1111111111111111,
              "#46039f"
             ],
             [
              0.2222222222222222,
              "#7201a8"
             ],
             [
              0.3333333333333333,
              "#9c179e"
             ],
             [
              0.4444444444444444,
              "#bd3786"
             ],
             [
              0.5555555555555556,
              "#d8576b"
             ],
             [
              0.6666666666666666,
              "#ed7953"
             ],
             [
              0.7777777777777778,
              "#fb9f3a"
             ],
             [
              0.8888888888888888,
              "#fdca26"
             ],
             [
              1,
              "#f0f921"
             ]
            ],
            "type": "histogram2d"
           }
          ],
          "histogram2dcontour": [
           {
            "colorbar": {
             "outlinewidth": 0,
             "ticks": ""
            },
            "colorscale": [
             [
              0,
              "#0d0887"
             ],
             [
              0.1111111111111111,
              "#46039f"
             ],
             [
              0.2222222222222222,
              "#7201a8"
             ],
             [
              0.3333333333333333,
              "#9c179e"
             ],
             [
              0.4444444444444444,
              "#bd3786"
             ],
             [
              0.5555555555555556,
              "#d8576b"
             ],
             [
              0.6666666666666666,
              "#ed7953"
             ],
             [
              0.7777777777777778,
              "#fb9f3a"
             ],
             [
              0.8888888888888888,
              "#fdca26"
             ],
             [
              1,
              "#f0f921"
             ]
            ],
            "type": "histogram2dcontour"
           }
          ],
          "mesh3d": [
           {
            "colorbar": {
             "outlinewidth": 0,
             "ticks": ""
            },
            "type": "mesh3d"
           }
          ],
          "parcoords": [
           {
            "line": {
             "colorbar": {
              "outlinewidth": 0,
              "ticks": ""
             }
            },
            "type": "parcoords"
           }
          ],
          "pie": [
           {
            "automargin": true,
            "type": "pie"
           }
          ],
          "scatter": [
           {
            "fillpattern": {
             "fillmode": "overlay",
             "size": 10,
             "solidity": 0.2
            },
            "type": "scatter"
           }
          ],
          "scatter3d": [
           {
            "line": {
             "colorbar": {
              "outlinewidth": 0,
              "ticks": ""
             }
            },
            "marker": {
             "colorbar": {
              "outlinewidth": 0,
              "ticks": ""
             }
            },
            "type": "scatter3d"
           }
          ],
          "scattercarpet": [
           {
            "marker": {
             "colorbar": {
              "outlinewidth": 0,
              "ticks": ""
             }
            },
            "type": "scattercarpet"
           }
          ],
          "scattergeo": [
           {
            "marker": {
             "colorbar": {
              "outlinewidth": 0,
              "ticks": ""
             }
            },
            "type": "scattergeo"
           }
          ],
          "scattergl": [
           {
            "marker": {
             "colorbar": {
              "outlinewidth": 0,
              "ticks": ""
             }
            },
            "type": "scattergl"
           }
          ],
          "scattermapbox": [
           {
            "marker": {
             "colorbar": {
              "outlinewidth": 0,
              "ticks": ""
             }
            },
            "type": "scattermapbox"
           }
          ],
          "scatterpolar": [
           {
            "marker": {
             "colorbar": {
              "outlinewidth": 0,
              "ticks": ""
             }
            },
            "type": "scatterpolar"
           }
          ],
          "scatterpolargl": [
           {
            "marker": {
             "colorbar": {
              "outlinewidth": 0,
              "ticks": ""
             }
            },
            "type": "scatterpolargl"
           }
          ],
          "scatterternary": [
           {
            "marker": {
             "colorbar": {
              "outlinewidth": 0,
              "ticks": ""
             }
            },
            "type": "scatterternary"
           }
          ],
          "surface": [
           {
            "colorbar": {
             "outlinewidth": 0,
             "ticks": ""
            },
            "colorscale": [
             [
              0,
              "#0d0887"
             ],
             [
              0.1111111111111111,
              "#46039f"
             ],
             [
              0.2222222222222222,
              "#7201a8"
             ],
             [
              0.3333333333333333,
              "#9c179e"
             ],
             [
              0.4444444444444444,
              "#bd3786"
             ],
             [
              0.5555555555555556,
              "#d8576b"
             ],
             [
              0.6666666666666666,
              "#ed7953"
             ],
             [
              0.7777777777777778,
              "#fb9f3a"
             ],
             [
              0.8888888888888888,
              "#fdca26"
             ],
             [
              1,
              "#f0f921"
             ]
            ],
            "type": "surface"
           }
          ],
          "table": [
           {
            "cells": {
             "fill": {
              "color": "#EBF0F8"
             },
             "line": {
              "color": "white"
             }
            },
            "header": {
             "fill": {
              "color": "#C8D4E3"
             },
             "line": {
              "color": "white"
             }
            },
            "type": "table"
           }
          ]
         },
         "layout": {
          "annotationdefaults": {
           "arrowcolor": "#2a3f5f",
           "arrowhead": 0,
           "arrowwidth": 1
          },
          "autotypenumbers": "strict",
          "coloraxis": {
           "colorbar": {
            "outlinewidth": 0,
            "ticks": ""
           }
          },
          "colorscale": {
           "diverging": [
            [
             0,
             "#8e0152"
            ],
            [
             0.1,
             "#c51b7d"
            ],
            [
             0.2,
             "#de77ae"
            ],
            [
             0.3,
             "#f1b6da"
            ],
            [
             0.4,
             "#fde0ef"
            ],
            [
             0.5,
             "#f7f7f7"
            ],
            [
             0.6,
             "#e6f5d0"
            ],
            [
             0.7,
             "#b8e186"
            ],
            [
             0.8,
             "#7fbc41"
            ],
            [
             0.9,
             "#4d9221"
            ],
            [
             1,
             "#276419"
            ]
           ],
           "sequential": [
            [
             0,
             "#0d0887"
            ],
            [
             0.1111111111111111,
             "#46039f"
            ],
            [
             0.2222222222222222,
             "#7201a8"
            ],
            [
             0.3333333333333333,
             "#9c179e"
            ],
            [
             0.4444444444444444,
             "#bd3786"
            ],
            [
             0.5555555555555556,
             "#d8576b"
            ],
            [
             0.6666666666666666,
             "#ed7953"
            ],
            [
             0.7777777777777778,
             "#fb9f3a"
            ],
            [
             0.8888888888888888,
             "#fdca26"
            ],
            [
             1,
             "#f0f921"
            ]
           ],
           "sequentialminus": [
            [
             0,
             "#0d0887"
            ],
            [
             0.1111111111111111,
             "#46039f"
            ],
            [
             0.2222222222222222,
             "#7201a8"
            ],
            [
             0.3333333333333333,
             "#9c179e"
            ],
            [
             0.4444444444444444,
             "#bd3786"
            ],
            [
             0.5555555555555556,
             "#d8576b"
            ],
            [
             0.6666666666666666,
             "#ed7953"
            ],
            [
             0.7777777777777778,
             "#fb9f3a"
            ],
            [
             0.8888888888888888,
             "#fdca26"
            ],
            [
             1,
             "#f0f921"
            ]
           ]
          },
          "colorway": [
           "#636efa",
           "#EF553B",
           "#00cc96",
           "#ab63fa",
           "#FFA15A",
           "#19d3f3",
           "#FF6692",
           "#B6E880",
           "#FF97FF",
           "#FECB52"
          ],
          "font": {
           "color": "#2a3f5f"
          },
          "geo": {
           "bgcolor": "white",
           "lakecolor": "white",
           "landcolor": "#E5ECF6",
           "showlakes": true,
           "showland": true,
           "subunitcolor": "white"
          },
          "hoverlabel": {
           "align": "left"
          },
          "hovermode": "closest",
          "mapbox": {
           "style": "light"
          },
          "paper_bgcolor": "white",
          "plot_bgcolor": "#E5ECF6",
          "polar": {
           "angularaxis": {
            "gridcolor": "white",
            "linecolor": "white",
            "ticks": ""
           },
           "bgcolor": "#E5ECF6",
           "radialaxis": {
            "gridcolor": "white",
            "linecolor": "white",
            "ticks": ""
           }
          },
          "scene": {
           "xaxis": {
            "backgroundcolor": "#E5ECF6",
            "gridcolor": "white",
            "gridwidth": 2,
            "linecolor": "white",
            "showbackground": true,
            "ticks": "",
            "zerolinecolor": "white"
           },
           "yaxis": {
            "backgroundcolor": "#E5ECF6",
            "gridcolor": "white",
            "gridwidth": 2,
            "linecolor": "white",
            "showbackground": true,
            "ticks": "",
            "zerolinecolor": "white"
           },
           "zaxis": {
            "backgroundcolor": "#E5ECF6",
            "gridcolor": "white",
            "gridwidth": 2,
            "linecolor": "white",
            "showbackground": true,
            "ticks": "",
            "zerolinecolor": "white"
           }
          },
          "shapedefaults": {
           "line": {
            "color": "#2a3f5f"
           }
          },
          "ternary": {
           "aaxis": {
            "gridcolor": "white",
            "linecolor": "white",
            "ticks": ""
           },
           "baxis": {
            "gridcolor": "white",
            "linecolor": "white",
            "ticks": ""
           },
           "bgcolor": "#E5ECF6",
           "caxis": {
            "gridcolor": "white",
            "linecolor": "white",
            "ticks": ""
           }
          },
          "title": {
           "x": 0.05
          },
          "xaxis": {
           "automargin": true,
           "gridcolor": "white",
           "linecolor": "white",
           "ticks": "",
           "title": {
            "standoff": 15
           },
           "zerolinecolor": "white",
           "zerolinewidth": 2
          },
          "yaxis": {
           "automargin": true,
           "gridcolor": "white",
           "linecolor": "white",
           "ticks": "",
           "title": {
            "standoff": 15
           },
           "zerolinecolor": "white",
           "zerolinewidth": 2
          }
         }
        },
        "width": 1200,
        "xaxis": {
         "anchor": "y",
         "autorange": true,
         "domain": [
          0,
          1
         ],
         "range": [
          "2001-03-01",
          "2020-10-01"
         ],
         "type": "date"
        },
        "xaxis2": {
         "anchor": "y2",
         "autorange": true,
         "domain": [
          0,
          1
         ],
         "range": [
          "2001-03-01",
          "2020-10-01"
         ],
         "type": "date"
        },
        "xaxis3": {
         "anchor": "y3",
         "autorange": true,
         "domain": [
          0,
          1
         ],
         "range": [
          "2001-03-01",
          "2020-10-01"
         ],
         "type": "date"
        },
        "yaxis": {
         "anchor": "x",
         "autorange": true,
         "domain": [
          0.7777777777777778,
          1
         ],
         "range": [
          212.69212962962956,
          1428.0162037037035
         ],
         "type": "linear"
        },
        "yaxis2": {
         "anchor": "x2",
         "autorange": true,
         "domain": [
          0.3888888888888889,
          0.6111111111111112
         ],
         "range": [
          -864.3969839722763,
          2406.0824940437515
         ],
         "type": "linear"
        },
        "yaxis3": {
         "anchor": "x3",
         "autorange": true,
         "domain": [
          0,
          0.22222222222222224
         ],
         "range": [
          -1501.0168534762831,
          2694.8164798570506
         ],
         "type": "linear"
        }
       }
      },
      "image/png": "[encoded data removed]",
      "text/html": [
       "<div>                            <div id=\"55b8713a-e11d-450d-8dd3-59db180eb71e\" class=\"plotly-graph-div\" style=\"height:800px; width:1200px;\"></div>            <script type=\"text/javascript\">                require([\"plotly\"], function(Plotly) {                    window.PLOTLYENV=window.PLOTLYENV || {};                                    if (document.getElementById(\"55b8713a-e11d-450d-8dd3-59db180eb71e\")) {                    Plotly.newPlot(                        \"55b8713a-e11d-450d-8dd3-59db180eb71e\",                        [{\"x\":[\"2001-03-01T00:00:00\",\"2001-04-01T00:00:00\",\"2001-05-01T00:00:00\",\"2001-06-01T00:00:00\",\"2001-07-01T00:00:00\",\"2001-08-01T00:00:00\",\"2001-09-01T00:00:00\",\"2001-10-01T00:00:00\",\"2001-11-01T00:00:00\",\"2001-12-01T00:00:00\",\"2002-01-01T00:00:00\",\"2002-02-01T00:00:00\",\"2002-03-01T00:00:00\",\"2002-04-01T00:00:00\",\"2002-05-01T00:00:00\",\"2002-06-01T00:00:00\",\"2002-07-01T00:00:00\",\"2002-08-01T00:00:00\",\"2002-09-01T00:00:00\",\"2002-10-01T00:00:00\",\"2002-11-01T00:00:00\",\"2002-12-01T00:00:00\",\"2003-01-01T00:00:00\",\"2003-02-01T00:00:00\",\"2003-03-01T00:00:00\",\"2003-04-01T00:00:00\",\"2003-05-01T00:00:00\",\"2003-06-01T00:00:00\",\"2003-07-01T00:00:00\",\"2003-08-01T00:00:00\",\"2003-09-01T00:00:00\",\"2003-10-01T00:00:00\",\"2003-11-01T00:00:00\",\"2003-12-01T00:00:00\",\"2004-01-01T00:00:00\",\"2004-02-01T00:00:00\",\"2004-03-01T00:00:00\",\"2004-04-01T00:00:00\",\"2004-05-01T00:00:00\",\"2004-06-01T00:00:00\",\"2004-07-01T00:00:00\",\"2004-08-01T00:00:00\",\"2004-09-01T00:00:00\",\"2004-10-01T00:00:00\",\"2004-11-01T00:00:00\",\"2004-12-01T00:00:00\",\"2005-01-01T00:00:00\",\"2005-02-01T00:00:00\",\"2005-03-01T00:00:00\",\"2005-04-01T00:00:00\",\"2005-05-01T00:00:00\",\"2005-06-01T00:00:00\",\"2005-07-01T00:00:00\",\"2005-08-01T00:00:00\",\"2005-09-01T00:00:00\",\"2005-10-01T00:00:00\",\"2005-11-01T00:00:00\",\"2005-12-01T00:00:00\",\"2006-01-01T00:00:00\",\"2006-02-01T00:00:00\",\"2006-03-01T00:00:00\",\"2006-04-01T00:00:00\",\"2006-05-01T00:00:00\",\"2006-06-01T00:00:00\",\"2006-07-01T00:00:00\",\"2006-08-01T00:00:00\",\"2006-09-01T00:00:00\",\"2006-10-01T00:00:00\",\"2006-11-01T00:00:00\",\"2006-12-01T00:00:00\",\"2007-01-01T00:00:00\",\"2007-02-01T00:00:00\",\"2007-03-01T00:00:00\",\"2007-04-01T00:00:00\",\"2007-05-01T00:00:00\",\"2007-06-01T00:00:00\",\"2007-07-01T00:00:00\",\"2007-08-01T00:00:00\",\"2007-09-01T00:00:00\",\"2007-10-01T00:00:00\",\"2007-11-01T00:00:00\",\"2007-12-01T00:00:00\",\"2008-01-01T00:00:00\",\"2008-02-01T00:00:00\",\"2008-03-01T00:00:00\",\"2008-04-01T00:00:00\",\"2008-05-01T00:00:00\",\"2008-06-01T00:00:00\",\"2008-07-01T00:00:00\",\"2008-08-01T00:00:00\",\"2008-09-01T00:00:00\",\"2008-10-01T00:00:00\",\"2008-11-01T00:00:00\",\"2008-12-01T00:00:00\",\"2009-01-01T00:00:00\",\"2009-02-01T00:00:00\",\"2009-03-01T00:00:00\",\"2009-04-01T00:00:00\",\"2009-05-01T00:00:00\",\"2009-06-01T00:00:00\",\"2009-07-01T00:00:00\",\"2009-08-01T00:00:00\",\"2009-09-01T00:00:00\",\"2009-10-01T00:00:00\",\"2009-11-01T00:00:00\",\"2009-12-01T00:00:00\",\"2010-01-01T00:00:00\",\"2010-02-01T00:00:00\",\"2010-03-01T00:00:00\",\"2010-04-01T00:00:00\",\"2010-05-01T00:00:00\",\"2010-06-01T00:00:00\",\"2010-07-01T00:00:00\",\"2010-08-01T00:00:00\",\"2010-09-01T00:00:00\",\"2010-10-01T00:00:00\",\"2010-11-01T00:00:00\",\"2010-12-01T00:00:00\",\"2011-01-01T00:00:00\",\"2011-02-01T00:00:00\",\"2011-03-01T00:00:00\",\"2011-04-01T00:00:00\",\"2011-05-01T00:00:00\",\"2011-06-01T00:00:00\",\"2011-07-01T00:00:00\",\"2011-08-01T00:00:00\",\"2011-09-01T00:00:00\",\"2011-10-01T00:00:00\",\"2011-11-01T00:00:00\",\"2011-12-01T00:00:00\",\"2012-01-01T00:00:00\",\"2012-02-01T00:00:00\",\"2012-03-01T00:00:00\",\"2012-04-01T00:00:00\",\"2012-05-01T00:00:00\",\"2012-06-01T00:00:00\",\"2012-07-01T00:00:00\",\"2012-08-01T00:00:00\",\"2012-09-01T00:00:00\",\"2012-10-01T00:00:00\",\"2012-11-01T00:00:00\",\"2012-12-01T00:00:00\",\"2013-01-01T00:00:00\",\"2013-02-01T00:00:00\",\"2013-03-01T00:00:00\",\"2013-04-01T00:00:00\",\"2013-05-01T00:00:00\",\"2013-06-01T00:00:00\",\"2013-07-01T00:00:00\",\"2013-08-01T00:00:00\",\"2013-09-01T00:00:00\",\"2013-10-01T00:00:00\",\"2013-11-01T00:00:00\",\"2013-12-01T00:00:00\",\"2014-01-01T00:00:00\",\"2014-02-01T00:00:00\",\"2014-03-01T00:00:00\",\"2014-04-01T00:00:00\",\"2014-05-01T00:00:00\",\"2014-06-01T00:00:00\",\"2014-07-01T00:00:00\",\"2014-08-01T00:00:00\",\"2014-09-01T00:00:00\",\"2014-10-01T00:00:00\",\"2014-11-01T00:00:00\",\"2014-12-01T00:00:00\",\"2015-01-01T00:00:00\",\"2015-02-01T00:00:00\",\"2015-03-01T00:00:00\",\"2015-04-01T00:00:00\",\"2015-05-01T00:00:00\",\"2015-06-01T00:00:00\",\"2015-07-01T00:00:00\",\"2015-08-01T00:00:00\",\"2015-09-01T00:00:00\",\"2015-10-01T00:00:00\",\"2015-11-01T00:00:00\",\"2015-12-01T00:00:00\",\"2016-01-01T00:00:00\",\"2016-02-01T00:00:00\",\"2016-03-01T00:00:00\",\"2016-04-01T00:00:00\",\"2016-05-01T00:00:00\",\"2016-06-01T00:00:00\",\"2016-07-01T00:00:00\",\"2016-08-01T00:00:00\",\"2016-09-01T00:00:00\",\"2016-10-01T00:00:00\",\"2016-11-01T00:00:00\",\"2016-12-01T00:00:00\",\"2017-01-01T00:00:00\",\"2017-02-01T00:00:00\",\"2017-03-01T00:00:00\",\"2017-04-01T00:00:00\",\"2017-05-01T00:00:00\",\"2017-06-01T00:00:00\",\"2017-07-01T00:00:00\",\"2017-08-01T00:00:00\",\"2017-09-01T00:00:00\",\"2017-10-01T00:00:00\",\"2017-11-01T00:00:00\",\"2017-12-01T00:00:00\",\"2018-01-01T00:00:00\",\"2018-02-01T00:00:00\",\"2018-03-01T00:00:00\",\"2018-04-01T00:00:00\",\"2018-05-01T00:00:00\",\"2018-06-01T00:00:00\",\"2018-07-01T00:00:00\",\"2018-08-01T00:00:00\",\"2018-09-01T00:00:00\",\"2018-10-01T00:00:00\",\"2018-11-01T00:00:00\",\"2018-12-01T00:00:00\",\"2019-01-01T00:00:00\",\"2019-02-01T00:00:00\",\"2019-03-01T00:00:00\",\"2019-04-01T00:00:00\",\"2019-05-01T00:00:00\",\"2019-06-01T00:00:00\",\"2019-07-01T00:00:00\",\"2019-08-01T00:00:00\",\"2019-09-01T00:00:00\",\"2019-10-01T00:00:00\",\"2019-11-01T00:00:00\",\"2019-12-01T00:00:00\",\"2020-01-01T00:00:00\",\"2020-02-01T00:00:00\",\"2020-03-01T00:00:00\",\"2020-04-01T00:00:00\",\"2020-05-01T00:00:00\",\"2020-06-01T00:00:00\",\"2020-07-01T00:00:00\",\"2020-08-01T00:00:00\",\"2020-09-01T00:00:00\",\"2020-10-01T00:00:00\"],\"y\":[null,null,null,null,null,null,273.45833333333326,289.5833333333333,309.99999999999994,326.29166666666663,338.04166666666663,346.54166666666663,355.3333333333333,355.66666666666663,355.66666666666663,355.66666666666663,355.66666666666663,355.66666666666663,357.0,358.91666666666663,356.37499999999994,385.7916666666667,477.91666666666663,576.2083333333333,637.5833333333333,660.4583333333334,660.6666666666666,660.6666666666666,660.6666666666666,660.6666666666666,658.875,644.7916666666666,628.2083333333333,594.8333333333333,509.7916666666667,419.9166666666667,366.5833333333333,347.0833333333333,347.0,347.0,347.0,347.0,346.75,361.8333333333333,386.875,404.79166666666663,426.70833333333326,451.16666666666663,462.7083333333333,464.04166666666663,464.58333333333326,464.58333333333326,464.58333333333326,464.58333333333326,464.7916666666666,452.0416666666666,446.3333333333333,460.54166666666663,499.29166666666663,529.8333333333333,534.7916666666666,540.3749999999999,539.75,539.75,539.75,539.75,540.1666666666666,564.7916666666666,575.2499999999999,561.7916666666666,549.9583333333333,524.5416666666666,503.5,495.7083333333333,495.66666666666663,495.66666666666663,495.66666666666663,495.66666666666663,495.29166666666663,470.375,456.12499999999994,455.7083333333333,450.5,474.6666666666667,505.79166666666663,518.2916666666666,518.3333333333334,518.3333333333334,518.3333333333334,518.3333333333334,518.875,556.5416666666666,616.1666666666666,665.4166666666666,736.5416666666665,813.4583333333333,851.125,857.0416666666666,857.8333333333331,857.8333333333331,857.8333333333331,857.8333333333331,857.1249999999999,843.8333333333331,814.2083333333331,784.4999999999999,761.125,731.3749999999999,707.0416666666666,701.0,700.25,700.25,700.25,700.25,701.1666666666666,720.4166666666666,746.7499999999999,775.5833333333334,790.125,774.9583333333333,775.2083333333334,784.75,785.1666666666667,785.1666666666667,785.1666666666667,785.1666666666667,785.8333333333334,744.3750000000001,683.5833333333334,623.125,531.5833333333334,486.12499999999994,485.9583333333333,481.4583333333332,481.4166666666666,481.4166666666666,481.4166666666666,481.4166666666666,479.74999999999994,484.2083333333333,509.375,537.7916666666666,595.4583333333333,692.1250000000001,733.0416666666666,725.125,724.6666666666666,724.6666666666666,724.6666666666666,724.6666666666666,726.3333333333333,754.1666666666666,765.2083333333334,777.1250000000001,807.0416666666666,750.9583333333333,694.7083333333334,697.6666666666666,697.9166666666666,697.9166666666666,697.9166666666666,697.9166666666666,696.4166666666665,695.5833333333334,711.8333333333333,714.9166666666666,701.1666666666666,717.9583333333333,731.4166666666665,726.8333333333333,726.8333333333333,726.8333333333333,726.8333333333333,726.8333333333333,726.9583333333331,696.1666666666666,673.4166666666666,666.25,642.8333333333333,638.1249999999999,649.6666666666666,658.0416666666667,658.25,658.25,658.25,658.25,660.2499999999999,693.2083333333334,718.25,775.5,891.7916666666665,965.625,989.125,993.5833333333334,995.2499999999999,995.2499999999999,995.2499999999999,995.2499999999999,993.25,980.5416666666666,1020.3333333333334,1093.5416666666667,1199.375,1302.7083333333333,1331.375,1338.125,1336.4166666666665,1336.4166666666665,1336.4166666666665,1336.4166666666665,1340.9999999999998,1367.2499999999998,1343.0833333333333,1262.875,1211.4166666666665,1199.0833333333333,1211.2083333333335,1218.4166666666665,1218.25,1218.25,1218.25,1218.25,1214.8333333333333,1171.0833333333333,1106.0416666666665,1067.8749999999998,979.7916666666665,840.9583333333333,756.2083333333333,736.25,null,null,null,null,null,null],\"type\":\"scatter\",\"xaxis\":\"x\",\"yaxis\":\"y\"},{\"x\":[\"2001-03-01T00:00:00\",\"2001-04-01T00:00:00\",\"2001-05-01T00:00:00\",\"2001-06-01T00:00:00\",\"2001-07-01T00:00:00\",\"2001-08-01T00:00:00\",\"2001-09-01T00:00:00\",\"2001-10-01T00:00:00\",\"2001-11-01T00:00:00\",\"2001-12-01T00:00:00\",\"2002-01-01T00:00:00\",\"2002-02-01T00:00:00\",\"2002-03-01T00:00:00\",\"2002-04-01T00:00:00\",\"2002-05-01T00:00:00\",\"2002-06-01T00:00:00\",\"2002-07-01T00:00:00\",\"2002-08-01T00:00:00\",\"2002-09-01T00:00:00\",\"2002-10-01T00:00:00\",\"2002-11-01T00:00:00\",\"2002-12-01T00:00:00\",\"2003-01-01T00:00:00\",\"2003-02-01T00:00:00\",\"2003-03-01T00:00:00\",\"2003-04-01T00:00:00\",\"2003-05-01T00:00:00\",\"2003-06-01T00:00:00\",\"2003-07-01T00:00:00\",\"2003-08-01T00:00:00\",\"2003-09-01T00:00:00\",\"2003-10-01T00:00:00\",\"2003-11-01T00:00:00\",\"2003-12-01T00:00:00\",\"2004-01-01T00:00:00\",\"2004-02-01T00:00:00\",\"2004-03-01T00:00:00\",\"2004-04-01T00:00:00\",\"2004-05-01T00:00:00\",\"2004-06-01T00:00:00\",\"2004-07-01T00:00:00\",\"2004-08-01T00:00:00\",\"2004-09-01T00:00:00\",\"2004-10-01T00:00:00\",\"2004-11-01T00:00:00\",\"2004-12-01T00:00:00\",\"2005-01-01T00:00:00\",\"2005-02-01T00:00:00\",\"2005-03-01T00:00:00\",\"2005-04-01T00:00:00\",\"2005-05-01T00:00:00\",\"2005-06-01T00:00:00\",\"2005-07-01T00:00:00\",\"2005-08-01T00:00:00\",\"2005-09-01T00:00:00\",\"2005-10-01T00:00:00\",\"2005-11-01T00:00:00\",\"2005-12-01T00:00:00\",\"2006-01-01T00:00:00\",\"2006-02-01T00:00:00\",\"2006-03-01T00:00:00\",\"2006-04-01T00:00:00\",\"2006-05-01T00:00:00\",\"2006-06-01T00:00:00\",\"2006-07-01T00:00:00\",\"2006-08-01T00:00:00\",\"2006-09-01T00:00:00\",\"2006-10-01T00:00:00\",\"2006-11-01T00:00:00\",\"2006-12-01T00:00:00\",\"2007-01-01T00:00:00\",\"2007-02-01T00:00:00\",\"2007-03-01T00:00:00\",\"2007-04-01T00:00:00\",\"2007-05-01T00:00:00\",\"2007-06-01T00:00:00\",\"2007-07-01T00:00:00\",\"2007-08-01T00:00:00\",\"2007-09-01T00:00:00\",\"2007-10-01T00:00:00\",\"2007-11-01T00:00:00\",\"2007-12-01T00:00:00\",\"2008-01-01T00:00:00\",\"2008-02-01T00:00:00\",\"2008-03-01T00:00:00\",\"2008-04-01T00:00:00\",\"2008-05-01T00:00:00\",\"2008-06-01T00:00:00\",\"2008-07-01T00:00:00\",\"2008-08-01T00:00:00\",\"2008-09-01T00:00:00\",\"2008-10-01T00:00:00\",\"2008-11-01T00:00:00\",\"2008-12-01T00:00:00\",\"2009-01-01T00:00:00\",\"2009-02-01T00:00:00\",\"2009-03-01T00:00:00\",\"2009-04-01T00:00:00\",\"2009-05-01T00:00:00\",\"2009-06-01T00:00:00\",\"2009-07-01T00:00:00\",\"2009-08-01T00:00:00\",\"2009-09-01T00:00:00\",\"2009-10-01T00:00:00\",\"2009-11-01T00:00:00\",\"2009-12-01T00:00:00\",\"2010-01-01T00:00:00\",\"2010-02-01T00:00:00\",\"2010-03-01T00:00:00\",\"2010-04-01T00:00:00\",\"2010-05-01T00:00:00\",\"2010-06-01T00:00:00\",\"2010-07-01T00:00:00\",\"2010-08-01T00:00:00\",\"2010-09-01T00:00:00\",\"2010-10-01T00:00:00\",\"2010-11-01T00:00:00\",\"2010-12-01T00:00:00\",\"2011-01-01T00:00:00\",\"2011-02-01T00:00:00\",\"2011-03-01T00:00:00\",\"2011-04-01T00:00:00\",\"2011-05-01T00:00:00\",\"2011-06-01T00:00:00\",\"2011-07-01T00:00:00\",\"2011-08-01T00:00:00\",\"2011-09-01T00:00:00\",\"2011-10-01T00:00:00\",\"2011-11-01T00:00:00\",\"2011-12-01T00:00:00\",\"2012-01-01T00:00:00\",\"2012-02-01T00:00:00\",\"2012-03-01T00:00:00\",\"2012-04-01T00:00:00\",\"2012-05-01T00:00:00\",\"2012-06-01T00:00:00\",\"2012-07-01T00:00:00\",\"2012-08-01T00:00:00\",\"2012-09-01T00:00:00\",\"2012-10-01T00:00:00\",\"2012-11-01T00:00:00\",\"2012-12-01T00:00:00\",\"2013-01-01T00:00:00\",\"2013-02-01T00:00:00\",\"2013-03-01T00:00:00\",\"2013-04-01T00:00:00\",\"2013-05-01T00:00:00\",\"2013-06-01T00:00:00\",\"2013-07-01T00:00:00\",\"2013-08-01T00:00:00\",\"2013-09-01T00:00:00\",\"2013-10-01T00:00:00\",\"2013-11-01T00:00:00\",\"2013-12-01T00:00:00\",\"2014-01-01T00:00:00\",\"2014-02-01T00:00:00\",\"2014-03-01T00:00:00\",\"2014-04-01T00:00:00\",\"2014-05-01T00:00:00\",\"2014-06-01T00:00:00\",\"2014-07-01T00:00:00\",\"2014-08-01T00:00:00\",\"2014-09-01T00:00:00\",\"2014-10-01T00:00:00\",\"2014-11-01T00:00:00\",\"2014-12-01T00:00:00\",\"2015-01-01T00:00:00\",\"2015-02-01T00:00:00\",\"2015-03-01T00:00:00\",\"2015-04-01T00:00:00\",\"2015-05-01T00:00:00\",\"2015-06-01T00:00:00\",\"2015-07-01T00:00:00\",\"2015-08-01T00:00:00\",\"2015-09-01T00:00:00\",\"2015-10-01T00:00:00\",\"2015-11-01T00:00:00\",\"2015-12-01T00:00:00\",\"2016-01-01T00:00:00\",\"2016-02-01T00:00:00\",\"2016-03-01T00:00:00\",\"2016-04-01T00:00:00\",\"2016-05-01T00:00:00\",\"2016-06-01T00:00:00\",\"2016-07-01T00:00:00\",\"2016-08-01T00:00:00\",\"2016-09-01T00:00:00\",\"2016-10-01T00:00:00\",\"2016-11-01T00:00:00\",\"2016-12-01T00:00:00\",\"2017-01-01T00:00:00\",\"2017-02-01T00:00:00\",\"2017-03-01T00:00:00\",\"2017-04-01T00:00:00\",\"2017-05-01T00:00:00\",\"2017-06-01T00:00:00\",\"2017-07-01T00:00:00\",\"2017-08-01T00:00:00\",\"2017-09-01T00:00:00\",\"2017-10-01T00:00:00\",\"2017-11-01T00:00:00\",\"2017-12-01T00:00:00\",\"2018-01-01T00:00:00\",\"2018-02-01T00:00:00\",\"2018-03-01T00:00:00\",\"2018-04-01T00:00:00\",\"2018-05-01T00:00:00\",\"2018-06-01T00:00:00\",\"2018-07-01T00:00:00\",\"2018-08-01T00:00:00\",\"2018-09-01T00:00:00\",\"2018-10-01T00:00:00\",\"2018-11-01T00:00:00\",\"2018-12-01T00:00:00\",\"2019-01-01T00:00:00\",\"2019-02-01T00:00:00\",\"2019-03-01T00:00:00\",\"2019-04-01T00:00:00\",\"2019-05-01T00:00:00\",\"2019-06-01T00:00:00\",\"2019-07-01T00:00:00\",\"2019-08-01T00:00:00\",\"2019-09-01T00:00:00\",\"2019-10-01T00:00:00\",\"2019-11-01T00:00:00\",\"2019-12-01T00:00:00\",\"2020-01-01T00:00:00\",\"2020-02-01T00:00:00\",\"2020-03-01T00:00:00\",\"2020-04-01T00:00:00\",\"2020-05-01T00:00:00\",\"2020-06-01T00:00:00\",\"2020-07-01T00:00:00\",\"2020-08-01T00:00:00\",\"2020-09-01T00:00:00\",\"2020-10-01T00:00:00\"],\"y\":[-679.717308317089,74.83313027940223,298.94740903183884,459.50296458739444,2242.55852014295,1059.3918534762831,-22.440992527615286,-672.0506416504224,-681.4563434048082,-684.9738872644573,-693.7216942820012,-700.8730100714749,-679.717308317089,74.83313027940223,298.94740903183884,459.50296458739444,2242.55852014295,1059.3918534762831,-22.440992527615286,-672.0506416504224,-681.4563434048082,-684.9738872644573,-693.7216942820012,-700.8730100714749,-679.717308317089,74.83313027940223,298.94740903183884,459.50296458739444,2242.55852014295,1059.3918534762831,-22.440992527615286,-672.0506416504224,-681.4563434048082,-684.9738872644573,-693.7216942820012,-700.8730100714749,-679.717308317089,74.83313027940223,298.94740903183884,459.50296458739444,2242.55852014295,1059.3918534762831,-22.440992527615286,-672.0506416504224,-681.4563434048082,-684.9738872644573,-693.7216942820012,-700.8730100714749,-679.717308317089,74.83313027940223,298.94740903183884,459.50296458739444,2242.55852014295,1059.3918534762831,-22.440992527615286,-672.0506416504224,-681.4563434048082,-684.9738872644573,-693.7216942820012,-700.8730100714749,-679.717308317089,74.83313027940223,298.94740903183884,459.50296458739444,2242.55852014295,1059.3918534762831,-22.440992527615286,-672.0506416504224,-681.4563434048082,-684.9738872644573,-693.7216942820012,-700.8730100714749,-679.717308317089,74.83313027940223,298.94740903183884,459.50296458739444,2242.55852014295,1059.3918534762831,-22.440992527615286,-672.0506416504224,-681.4563434048082,-684.9738872644573,-693.7216942820012,-700.8730100714749,-679.717308317089,74.83313027940223,298.94740903183884,459.50296458739444,2242.55852014295,1059.3918534762831,-22.440992527615286,-672.0506416504224,-681.4563434048082,-684.9738872644573,-693.7216942820012,-700.8730100714749,-679.717308317089,74.83313027940223,298.94740903183884,459.50296458739444,2242.55852014295,1059.3918534762831,-22.440992527615286,-672.0506416504224,-681.4563434048082,-684.9738872644573,-693.7216942820012,-700.8730100714749,-679.717308317089,74.83313027940223,298.94740903183884,459.50296458739444,2242.55852014295,1059.3918534762831,-22.440992527615286,-672.0506416504224,-681.4563434048082,-684.9738872644573,-693.7216942820012,-700.8730100714749,-679.717308317089,74.83313027940223,298.94740903183884,459.50296458739444,2242.55852014295,1059.3918534762831,-22.440992527615286,-672.0506416504224,-681.4563434048082,-684.9738872644573,-693.7216942820012,-700.8730100714749,-679.717308317089,74.83313027940223,298.94740903183884,459.50296458739444,2242.55852014295,1059.3918534762831,-22.440992527615286,-672.0506416504224,-681.4563434048082,-684.9738872644573,-693.7216942820012,-700.8730100714749,-679.717308317089,74.83313027940223,298.94740903183884,459.50296458739444,2242.55852014295,1059.3918534762831,-22.440992527615286,-672.0506416504224,-681.4563434048082,-684.9738872644573,-693.7216942820012,-700.8730100714749,-679.717308317089,74.83313027940223,298.94740903183884,459.50296458739444,2242.55852014295,1059.3918534762831,-22.440992527615286,-672.0506416504224,-681.4563434048082,-684.9738872644573,-693.7216942820012,-700.8730100714749,-679.717308317089,74.83313027940223,298.94740903183884,459.50296458739444,2242.55852014295,1059.3918534762831,-22.440992527615286,-672.0506416504224,-681.4563434048082,-684.9738872644573,-693.7216942820012,-700.8730100714749,-679.717308317089,74.83313027940223,298.94740903183884,459.50296458739444,2242.55852014295,1059.3918534762831,-22.440992527615286,-672.0506416504224,-681.4563434048082,-684.9738872644573,-693.7216942820012,-700.8730100714749,-679.717308317089,74.83313027940223,298.94740903183884,459.50296458739444,2242.55852014295,1059.3918534762831,-22.440992527615286,-672.0506416504224,-681.4563434048082,-684.9738872644573,-693.7216942820012,-700.8730100714749,-679.717308317089,74.83313027940223,298.94740903183884,459.50296458739444,2242.55852014295,1059.3918534762831,-22.440992527615286,-672.0506416504224,-681.4563434048082,-684.9738872644573,-693.7216942820012,-700.8730100714749,-679.717308317089,74.83313027940223,298.94740903183884,459.50296458739444,2242.55852014295,1059.3918534762831,-22.440992527615286,-672.0506416504224,-681.4563434048082,-684.9738872644573,-693.7216942820012,-700.8730100714749,-679.717308317089,74.83313027940223,298.94740903183884,459.50296458739444,2242.55852014295,1059.3918534762831,-22.440992527615286,-672.0506416504224],\"type\":\"scatter\",\"xaxis\":\"x2\",\"yaxis\":\"y2\"},{\"x\":[\"2001-03-01T00:00:00\",\"2001-04-01T00:00:00\",\"2001-05-01T00:00:00\",\"2001-06-01T00:00:00\",\"2001-07-01T00:00:00\",\"2001-08-01T00:00:00\",\"2001-09-01T00:00:00\",\"2001-10-01T00:00:00\",\"2001-11-01T00:00:00\",\"2001-12-01T00:00:00\",\"2002-01-01T00:00:00\",\"2002-02-01T00:00:00\",\"2002-03-01T00:00:00\",\"2002-04-01T00:00:00\",\"2002-05-01T00:00:00\",\"2002-06-01T00:00:00\",\"2002-07-01T00:00:00\",\"2002-08-01T00:00:00\",\"2002-09-01T00:00:00\",\"2002-10-01T00:00:00\",\"2002-11-01T00:00:00\",\"2002-12-01T00:00:00\",\"2003-01-01T00:00:00\",\"2003-02-01T00:00:00\",\"2003-03-01T00:00:00\",\"2003-04-01T00:00:00\",\"2003-05-01T00:00:00\",\"2003-06-01T00:00:00\",\"2003-07-01T00:00:00\",\"2003-08-01T00:00:00\",\"2003-09-01T00:00:00\",\"2003-10-01T00:00:00\",\"2003-11-01T00:00:00\",\"2003-12-01T00:00:00\",\"2004-01-01T00:00:00\",\"2004-02-01T00:00:00\",\"2004-03-01T00:00:00\",\"2004-04-01T00:00:00\",\"2004-05-01T00:00:00\",\"2004-06-01T00:00:00\",\"2004-07-01T00:00:00\",\"2004-08-01T00:00:00\",\"2004-09-01T00:00:00\",\"2004-10-01T00:00:00\",\"2004-11-01T00:00:00\",\"2004-12-01T00:00:00\",\"2005-01-01T00:00:00\",\"2005-02-01T00:00:00\",\"2005-03-01T00:00:00\",\"2005-04-01T00:00:00\",\"2005-05-01T00:00:00\",\"2005-06-01T00:00:00\",\"2005-07-01T00:00:00\",\"2005-08-01T00:00:00\",\"2005-09-01T00:00:00\",\"2005-10-01T00:00:00\",\"2005-11-01T00:00:00\",\"2005-12-01T00:00:00\",\"2006-01-01T00:00:00\",\"2006-02-01T00:00:00\",\"2006-03-01T00:00:00\",\"2006-04-01T00:00:00\",\"2006-05-01T00:00:00\",\"2006-06-01T00:00:00\",\"2006-07-01T00:00:00\",\"2006-08-01T00:00:00\",\"2006-09-01T00:00:00\",\"2006-10-01T00:00:00\",\"2006-11-01T00:00:00\",\"2006-12-01T00:00:00\",\"2007-01-01T00:00:00\",\"2007-02-01T00:00:00\",\"2007-03-01T00:00:00\",\"2007-04-01T00:00:00\",\"2007-05-01T00:00:00\",\"2007-06-01T00:00:00\",\"2007-07-01T00:00:00\",\"2007-08-01T00:00:00\",\"2007-09-01T00:00:00\",\"2007-10-01T00:00:00\",\"2007-11-01T00:00:00\",\"2007-12-01T00:00:00\",\"2008-01-01T00:00:00\",\"2008-02-01T00:00:00\",\"2008-03-01T00:00:00\",\"2008-04-01T00:00:00\",\"2008-05-01T00:00:00\",\"2008-06-01T00:00:00\",\"2008-07-01T00:00:00\",\"2008-08-01T00:00:00\",\"2008-09-01T00:00:00\",\"2008-10-01T00:00:00\",\"2008-11-01T00:00:00\",\"2008-12-01T00:00:00\",\"2009-01-01T00:00:00\",\"2009-02-01T00:00:00\",\"2009-03-01T00:00:00\",\"2009-04-01T00:00:00\",\"2009-05-01T00:00:00\",\"2009-06-01T00:00:00\",\"2009-07-01T00:00:00\",\"2009-08-01T00:00:00\",\"2009-09-01T00:00:00\",\"2009-10-01T00:00:00\",\"2009-11-01T00:00:00\",\"2009-12-01T00:00:00\",\"2010-01-01T00:00:00\",\"2010-02-01T00:00:00\",\"2010-03-01T00:00:00\",\"2010-04-01T00:00:00\",\"2010-05-01T00:00:00\",\"2010-06-01T00:00:00\",\"2010-07-01T00:00:00\",\"2010-08-01T00:00:00\",\"2010-09-01T00:00:00\",\"2010-10-01T00:00:00\",\"2010-11-01T00:00:00\",\"2010-12-01T00:00:00\",\"2011-01-01T00:00:00\",\"2011-02-01T00:00:00\",\"2011-03-01T00:00:00\",\"2011-04-01T00:00:00\",\"2011-05-01T00:00:00\",\"2011-06-01T00:00:00\",\"2011-07-01T00:00:00\",\"2011-08-01T00:00:00\",\"2011-09-01T00:00:00\",\"2011-10-01T00:00:00\",\"2011-11-01T00:00:00\",\"2011-12-01T00:00:00\",\"2012-01-01T00:00:00\",\"2012-02-01T00:00:00\",\"2012-03-01T00:00:00\",\"2012-04-01T00:00:00\",\"2012-05-01T00:00:00\",\"2012-06-01T00:00:00\",\"2012-07-01T00:00:00\",\"2012-08-01T00:00:00\",\"2012-09-01T00:00:00\",\"2012-10-01T00:00:00\",\"2012-11-01T00:00:00\",\"2012-12-01T00:00:00\",\"2013-01-01T00:00:00\",\"2013-02-01T00:00:00\",\"2013-03-01T00:00:00\",\"2013-04-01T00:00:00\",\"2013-05-01T00:00:00\",\"2013-06-01T00:00:00\",\"2013-07-01T00:00:00\",\"2013-08-01T00:00:00\",\"2013-09-01T00:00:00\",\"2013-10-01T00:00:00\",\"2013-11-01T00:00:00\",\"2013-12-01T00:00:00\",\"2014-01-01T00:00:00\",\"2014-02-01T00:00:00\",\"2014-03-01T00:00:00\",\"2014-04-01T00:00:00\",\"2014-05-01T00:00:00\",\"2014-06-01T00:00:00\",\"2014-07-01T00:00:00\",\"2014-08-01T00:00:00\",\"2014-09-01T00:00:00\",\"2014-10-01T00:00:00\",\"2014-11-01T00:00:00\",\"2014-12-01T00:00:00\",\"2015-01-01T00:00:00\",\"2015-02-01T00:00:00\",\"2015-03-01T00:00:00\",\"2015-04-01T00:00:00\",\"2015-05-01T00:00:00\",\"2015-06-01T00:00:00\",\"2015-07-01T00:00:00\",\"2015-08-01T00:00:00\",\"2015-09-01T00:00:00\",\"2015-10-01T00:00:00\",\"2015-11-01T00:00:00\",\"2015-12-01T00:00:00\",\"2016-01-01T00:00:00\",\"2016-02-01T00:00:00\",\"2016-03-01T00:00:00\",\"2016-04-01T00:00:00\",\"2016-05-01T00:00:00\",\"2016-06-01T00:00:00\",\"2016-07-01T00:00:00\",\"2016-08-01T00:00:00\",\"2016-09-01T00:00:00\",\"2016-10-01T00:00:00\",\"2016-11-01T00:00:00\",\"2016-12-01T00:00:00\",\"2017-01-01T00:00:00\",\"2017-02-01T00:00:00\",\"2017-03-01T00:00:00\",\"2017-04-01T00:00:00\",\"2017-05-01T00:00:00\",\"2017-06-01T00:00:00\",\"2017-07-01T00:00:00\",\"2017-08-01T00:00:00\",\"2017-09-01T00:00:00\",\"2017-10-01T00:00:00\",\"2017-11-01T00:00:00\",\"2017-12-01T00:00:00\",\"2018-01-01T00:00:00\",\"2018-02-01T00:00:00\",\"2018-03-01T00:00:00\",\"2018-04-01T00:00:00\",\"2018-05-01T00:00:00\",\"2018-06-01T00:00:00\",\"2018-07-01T00:00:00\",\"2018-08-01T00:00:00\",\"2018-09-01T00:00:00\",\"2018-10-01T00:00:00\",\"2018-11-01T00:00:00\",\"2018-12-01T00:00:00\",\"2019-01-01T00:00:00\",\"2019-02-01T00:00:00\",\"2019-03-01T00:00:00\",\"2019-04-01T00:00:00\",\"2019-05-01T00:00:00\",\"2019-06-01T00:00:00\",\"2019-07-01T00:00:00\",\"2019-08-01T00:00:00\",\"2019-09-01T00:00:00\",\"2019-10-01T00:00:00\",\"2019-11-01T00:00:00\",\"2019-12-01T00:00:00\",\"2020-01-01T00:00:00\",\"2020-02-01T00:00:00\",\"2020-03-01T00:00:00\",\"2020-04-01T00:00:00\",\"2020-05-01T00:00:00\",\"2020-06-01T00:00:00\",\"2020-07-01T00:00:00\",\"2020-08-01T00:00:00\",\"2020-09-01T00:00:00\",\"2020-10-01T00:00:00\"],\"y\":[null,null,null,null,null,null,46.98265919428203,382.46730831708913,371.45634340480825,358.68222059779066,355.68002761533455,354.3313434048083,341.38397498375565,146.50020305393116,-0.6140756985054736,-332.1696312540611,-1291.2251868096164,-491.05852014294976,-28.559007472384714,313.1339749837558,325.08134340480825,299.1822205977906,215.80502761533455,124.66467673814168,91.1339749837557,-144.29146361273558,-380.6140756985055,143.83036874593893,-166.2251868096164,132.94147985705035,213.5659925276153,32.25897498375582,53.24801007147494,90.14055393112403,183.9300276153345,280.95634340480825,319.13397498375565,-125.91646361273554,-169.94740903183884,-240.50296458739444,-1195.5585201429499,-367.39185347628313,59.690992527615286,313.21730831708913,294.5813434048082,280.18222059779066,267.0133609486679,249.7063434048083,217.00897498375565,125.12520305393114,-54.5307423651721,-161.0862979207277,-984.1418534762831,-226.9751868096164,-39.350674139051286,236.00897498375588,235.12301007147488,224.43222059779066,194.43002761533455,171.03967673814168,149.92564165042234,-262.2081302794021,44.302590968161155,-69.25296458739444,-296.3085201429499,-332.14185347628313,34.27432586094866,108.25897498375582,106.20634340480831,123.18222059779066,143.76336094866792,176.3313434048083,191.21730831708896,363.4585363872645,-241.61407569850547,-18.169631254061073,-543.2251868096164,-607.0585201429498,-106.85067413905134,201.67564165042245,225.33134340480825,229.26555393112397,243.22169428200118,226.20634340480825,179.92564165042234,-248.12479694606884,-17.280742365172216,-297.8362979207278,-433.89185347628336,-181.7251868096165,168.5659925276153,116.50897498375582,65.28967673814157,19.55722059779066,-42.819972384665334,-112.58532326185832,-152.40769168291104,304.12520305393116,183.219257634828,4.6637020792724115,291.6081465237171,259.77481319038384,-46.6840074723846,-151.7826916829107,-132.75198992852495,-99.5261127355426,-67.40330571799882,-30.50198992852495,-25.324358349577665,158.1668697205978,-68.19740903183884,-141.75296458739444,192.19147985705013,-39.64185347628313,-17.725674139051343,-46.36602501624418,-65.29365659519169,-90.60944606887608,-96.40330571799882,-74.08532326185832,-71.49102501624441,514.4168697205978,38.88592430149441,273.3303687459388,-43.725186809616844,-337.5585201429499,116.60765919428192,-60.324358349577665,-2.1269899285251768,61.84888726445729,162.1383609486678,214.748010071475,233.75897498375565,-193.2914636127354,-105.36407569850542,-425.919631254061,-933.9751868096164,69.19147985705035,315.6909925276153,198.84230831708913,172.0813434048082,147.18222059779066,98.26336094866792,8.748010071474823,-53.324358349577665,-289.9581302794022,108.38592430149453,-444.1696312540611,-18.22518680961639,986.9414798570504,-109.89234080571796,-82.11602501624418,-83.75198992852518,-92.15111273554282,-113.31997238466545,-50.08532326185832,25.008974983755593,365.50020305393116,-227.86407569850547,231.58036874593893,77.52481319038361,-401.30852014294976,-14.975674139051229,-17.532691682910922,-30.376989928525063,-29.94277940220934,-7.444972384665448,-17.08532326185832,-47.69935834957755,352.33353638726453,117.2192576348279,-97.3362979207277,18.608146523717096,2.774813190383611,-155.51734080571785,-18.11602501624418,8.039676738141566,18.72388726445729,50.88836094866792,62.74801007147505,37.050641650422335,-320.87479694606895,381.80259096816116,-396.75296458739444,-106.80852014294987,152.35814652371687,107.1909925276154,-10.157691682910922,-36.793656595191806,-90.52611273554271,-198.06997238466533,-264.75198992852506,-254.40769168291104,86.5835363872644,-97.19740903183873,782.2470354126056,831.1914798570501,312.35814652371687,-158.8090074723847,-257.4910250162442,-338.8769899285252,-408.56777940220945,-505.6533057179988,-601.8353232618583,-644.657691682911,-514.9581302794022,773.6359243014947,986.080368745939,2485.024813190384,456.19147985705035,-303.5590074723845,-685.1993583495773,-661.6269899285251,-577.9011127355427,-517.6949723846653,-498.2103232618583,-414.4910250162445,124.75020305393126,-208.19740903183884,279.24703541260556,2193.19147985705,688.3581465237169,-0.39234080571797136,-493.0326916829108,-424.5853232618583,-382.9011127355425,-286.06997238466533,-140.08532326185832,-41.49102501624429,-361.0831302794022,null,null,null,null,null,null],\"type\":\"scatter\",\"xaxis\":\"x3\",\"yaxis\":\"y3\"}],                        {\"template\":{\"data\":{\"histogram2dcontour\":[{\"type\":\"histogram2dcontour\",\"colorbar\":{\"outlinewidth\":0,\"ticks\":\"\"},\"colorscale\":[[0.0,\"#0d0887\"],[0.1111111111111111,\"#46039f\"],[0.2222222222222222,\"#7201a8\"],[0.3333333333333333,\"#9c179e\"],[0.4444444444444444,\"#bd3786\"],[0.5555555555555556,\"#d8576b\"],[0.6666666666666666,\"#ed7953\"],[0.7777777777777778,\"#fb9f3a\"],[0.8888888888888888,\"#fdca26\"],[1.0,\"#f0f921\"]]}],\"choropleth\":[{\"type\":\"choropleth\",\"colorbar\":{\"outlinewidth\":0,\"ticks\":\"\"}}],\"histogram2d\":[{\"type\":\"histogram2d\",\"colorbar\":{\"outlinewidth\":0,\"ticks\":\"\"},\"colorscale\":[[0.0,\"#0d0887\"],[0.1111111111111111,\"#46039f\"],[0.2222222222222222,\"#7201a8\"],[0.3333333333333333,\"#9c179e\"],[0.4444444444444444,\"#bd3786\"],[0.5555555555555556,\"#d8576b\"],[0.6666666666666666,\"#ed7953\"],[0.7777777777777778,\"#fb9f3a\"],[0.8888888888888888,\"#fdca26\"],[1.0,\"#f0f921\"]]}],\"heatmap\":[{\"type\":\"heatmap\",\"colorbar\":{\"outlinewidth\":0,\"ticks\":\"\"},\"colorscale\":[[0.0,\"#0d0887\"],[0.1111111111111111,\"#46039f\"],[0.2222222222222222,\"#7201a8\"],[0.3333333333333333,\"#9c179e\"],[0.4444444444444444,\"#bd3786\"],[0.5555555555555556,\"#d8576b\"],[0.6666666666666666,\"#ed7953\"],[0.7777777777777778,\"#fb9f3a\"],[0.8888888888888888,\"#fdca26\"],[1.0,\"#f0f921\"]]}],\"heatmapgl\":[{\"type\":\"heatmapgl\",\"colorbar\":{\"outlinewidth\":0,\"ticks\":\"\"},\"colorscale\":[[0.0,\"#0d0887\"],[0.1111111111111111,\"#46039f\"],[0.2222222222222222,\"#7201a8\"],[0.3333333333333333,\"#9c179e\"],[0.4444444444444444,\"#bd3786\"],[0.5555555555555556,\"#d8576b\"],[0.6666666666666666,\"#ed7953\"],[0.7777777777777778,\"#fb9f3a\"],[0.8888888888888888,\"#fdca26\"],[1.0,\"#f0f921\"]]}],\"contourcarpet\":[{\"type\":\"contourcarpet\",\"colorbar\":{\"outlinewidth\":0,\"ticks\":\"\"}}],\"contour\":[{\"type\":\"contour\",\"colorbar\":{\"outlinewidth\":0,\"ticks\":\"\"},\"colorscale\":[[0.0,\"#0d0887\"],[0.1111111111111111,\"#46039f\"],[0.2222222222222222,\"#7201a8\"],[0.3333333333333333,\"#9c179e\"],[0.4444444444444444,\"#bd3786\"],[0.5555555555555556,\"#d8576b\"],[0.6666666666666666,\"#ed7953\"],[0.7777777777777778,\"#fb9f3a\"],[0.8888888888888888,\"#fdca26\"],[1.0,\"#f0f921\"]]}],\"surface\":[{\"type\":\"surface\",\"colorbar\":{\"outlinewidth\":0,\"ticks\":\"\"},\"colorscale\":[[0.0,\"#0d0887\"],[0.1111111111111111,\"#46039f\"],[0.2222222222222222,\"#7201a8\"],[0.3333333333333333,\"#9c179e\"],[0.4444444444444444,\"#bd3786\"],[0.5555555555555556,\"#d8576b\"],[0.6666666666666666,\"#ed7953\"],[0.7777777777777778,\"#fb9f3a\"],[0.8888888888888888,\"#fdca26\"],[1.0,\"#f0f921\"]]}],\"mesh3d\":[{\"type\":\"mesh3d\",\"colorbar\":{\"outlinewidth\":0,\"ticks\":\"\"}}],\"scatter\":[{\"fillpattern\":{\"fillmode\":\"overlay\",\"size\":10,\"solidity\":0.2},\"type\":\"scatter\"}],\"parcoords\":[{\"type\":\"parcoords\",\"line\":{\"colorbar\":{\"outlinewidth\":0,\"ticks\":\"\"}}}],\"scatterpolargl\":[{\"type\":\"scatterpolargl\",\"marker\":{\"colorbar\":{\"outlinewidth\":0,\"ticks\":\"\"}}}],\"bar\":[{\"error_x\":{\"color\":\"#2a3f5f\"},\"error_y\":{\"color\":\"#2a3f5f\"},\"marker\":{\"line\":{\"color\":\"#E5ECF6\",\"width\":0.5},\"pattern\":{\"fillmode\":\"overlay\",\"size\":10,\"solidity\":0.2}},\"type\":\"bar\"}],\"scattergeo\":[{\"type\":\"scattergeo\",\"marker\":{\"colorbar\":{\"outlinewidth\":0,\"ticks\":\"\"}}}],\"scatterpolar\":[{\"type\":\"scatterpolar\",\"marker\":{\"colorbar\":{\"outlinewidth\":0,\"ticks\":\"\"}}}],\"histogram\":[{\"marker\":{\"pattern\":{\"fillmode\":\"overlay\",\"size\":10,\"solidity\":0.2}},\"type\":\"histogram\"}],\"scattergl\":[{\"type\":\"scattergl\",\"marker\":{\"colorbar\":{\"outlinewidth\":0,\"ticks\":\"\"}}}],\"scatter3d\":[{\"type\":\"scatter3d\",\"line\":{\"colorbar\":{\"outlinewidth\":0,\"ticks\":\"\"}},\"marker\":{\"colorbar\":{\"outlinewidth\":0,\"ticks\":\"\"}}}],\"scattermapbox\":[{\"type\":\"scattermapbox\",\"marker\":{\"colorbar\":{\"outlinewidth\":0,\"ticks\":\"\"}}}],\"scatterternary\":[{\"type\":\"scatterternary\",\"marker\":{\"colorbar\":{\"outlinewidth\":0,\"ticks\":\"\"}}}],\"scattercarpet\":[{\"type\":\"scattercarpet\",\"marker\":{\"colorbar\":{\"outlinewidth\":0,\"ticks\":\"\"}}}],\"carpet\":[{\"aaxis\":{\"endlinecolor\":\"#2a3f5f\",\"gridcolor\":\"white\",\"linecolor\":\"white\",\"minorgridcolor\":\"white\",\"startlinecolor\":\"#2a3f5f\"},\"baxis\":{\"endlinecolor\":\"#2a3f5f\",\"gridcolor\":\"white\",\"linecolor\":\"white\",\"minorgridcolor\":\"white\",\"startlinecolor\":\"#2a3f5f\"},\"type\":\"carpet\"}],\"table\":[{\"cells\":{\"fill\":{\"color\":\"#EBF0F8\"},\"line\":{\"color\":\"white\"}},\"header\":{\"fill\":{\"color\":\"#C8D4E3\"},\"line\":{\"color\":\"white\"}},\"type\":\"table\"}],\"barpolar\":[{\"marker\":{\"line\":{\"color\":\"#E5ECF6\",\"width\":0.5},\"pattern\":{\"fillmode\":\"overlay\",\"size\":10,\"solidity\":0.2}},\"type\":\"barpolar\"}],\"pie\":[{\"automargin\":true,\"type\":\"pie\"}]},\"layout\":{\"autotypenumbers\":\"strict\",\"colorway\":[\"#636efa\",\"#EF553B\",\"#00cc96\",\"#ab63fa\",\"#FFA15A\",\"#19d3f3\",\"#FF6692\",\"#B6E880\",\"#FF97FF\",\"#FECB52\"],\"font\":{\"color\":\"#2a3f5f\"},\"hovermode\":\"closest\",\"hoverlabel\":{\"align\":\"left\"},\"paper_bgcolor\":\"white\",\"plot_bgcolor\":\"#E5ECF6\",\"polar\":{\"bgcolor\":\"#E5ECF6\",\"angularaxis\":{\"gridcolor\":\"white\",\"linecolor\":\"white\",\"ticks\":\"\"},\"radialaxis\":{\"gridcolor\":\"white\",\"linecolor\":\"white\",\"ticks\":\"\"}},\"ternary\":{\"bgcolor\":\"#E5ECF6\",\"aaxis\":{\"gridcolor\":\"white\",\"linecolor\":\"white\",\"ticks\":\"\"},\"baxis\":{\"gridcolor\":\"white\",\"linecolor\":\"white\",\"ticks\":\"\"},\"caxis\":{\"gridcolor\":\"white\",\"linecolor\":\"white\",\"ticks\":\"\"}},\"coloraxis\":{\"colorbar\":{\"outlinewidth\":0,\"ticks\":\"\"}},\"colorscale\":{\"sequential\":[[0.0,\"#0d0887\"],[0.1111111111111111,\"#46039f\"],[0.2222222222222222,\"#7201a8\"],[0.3333333333333333,\"#9c179e\"],[0.4444444444444444,\"#bd3786\"],[0.5555555555555556,\"#d8576b\"],[0.6666666666666666,\"#ed7953\"],[0.7777777777777778,\"#fb9f3a\"],[0.8888888888888888,\"#fdca26\"],[1.0,\"#f0f921\"]],\"sequentialminus\":[[0.0,\"#0d0887\"],[0.1111111111111111,\"#46039f\"],[0.2222222222222222,\"#7201a8\"],[0.3333333333333333,\"#9c179e\"],[0.4444444444444444,\"#bd3786\"],[0.5555555555555556,\"#d8576b\"],[0.6666666666666666,\"#ed7953\"],[0.7777777777777778,\"#fb9f3a\"],[0.8888888888888888,\"#fdca26\"],[1.0,\"#f0f921\"]],\"diverging\":[[0,\"#8e0152\"],[0.1,\"#c51b7d\"],[0.2,\"#de77ae\"],[0.3,\"#f1b6da\"],[0.4,\"#fde0ef\"],[0.5,\"#f7f7f7\"],[0.6,\"#e6f5d0\"],[0.7,\"#b8e186\"],[0.8,\"#7fbc41\"],[0.9,\"#4d9221\"],[1,\"#276419\"]]},\"xaxis\":{\"gridcolor\":\"white\",\"linecolor\":\"white\",\"ticks\":\"\",\"title\":{\"standoff\":15},\"zerolinecolor\":\"white\",\"automargin\":true,\"zerolinewidth\":2},\"yaxis\":{\"gridcolor\":\"white\",\"linecolor\":\"white\",\"ticks\":\"\",\"title\":{\"standoff\":15},\"zerolinecolor\":\"white\",\"automargin\":true,\"zerolinewidth\":2},\"scene\":{\"xaxis\":{\"backgroundcolor\":\"#E5ECF6\",\"gridcolor\":\"white\",\"linecolor\":\"white\",\"showbackground\":true,\"ticks\":\"\",\"zerolinecolor\":\"white\",\"gridwidth\":2},\"yaxis\":{\"backgroundcolor\":\"#E5ECF6\",\"gridcolor\":\"white\",\"linecolor\":\"white\",\"showbackground\":true,\"ticks\":\"\",\"zerolinecolor\":\"white\",\"gridwidth\":2},\"zaxis\":{\"backgroundcolor\":\"#E5ECF6\",\"gridcolor\":\"white\",\"linecolor\":\"white\",\"showbackground\":true,\"ticks\":\"\",\"zerolinecolor\":\"white\",\"gridwidth\":2}},\"shapedefaults\":{\"line\":{\"color\":\"#2a3f5f\"}},\"annotationdefaults\":{\"arrowcolor\":\"#2a3f5f\",\"arrowhead\":0,\"arrowwidth\":1},\"geo\":{\"bgcolor\":\"white\",\"landcolor\":\"#E5ECF6\",\"subunitcolor\":\"white\",\"showland\":true,\"showlakes\":true,\"lakecolor\":\"white\"},\"title\":{\"x\":0.05},\"mapbox\":{\"style\":\"light\"}}},\"xaxis\":{\"anchor\":\"y\",\"domain\":[0.0,1.0]},\"yaxis\":{\"anchor\":\"x\",\"domain\":[0.7777777777777778,1.0]},\"xaxis2\":{\"anchor\":\"y2\",\"domain\":[0.0,1.0]},\"yaxis2\":{\"anchor\":\"x2\",\"domain\":[0.3888888888888889,0.6111111111111112]},\"xaxis3\":{\"anchor\":\"y3\",\"domain\":[0.0,1.0]},\"yaxis3\":{\"anchor\":\"x3\",\"domain\":[0.0,0.22222222222222224]},\"annotations\":[{\"font\":{\"size\":16},\"showarrow\":false,\"text\":\"Trend\",\"x\":0.5,\"xanchor\":\"center\",\"xref\":\"paper\",\"y\":1.0,\"yanchor\":\"bottom\",\"yref\":\"paper\"},{\"font\":{\"size\":16},\"showarrow\":false,\"text\":\"Seasonal\",\"x\":0.5,\"xanchor\":\"center\",\"xref\":\"paper\",\"y\":0.6111111111111112,\"yanchor\":\"bottom\",\"yref\":\"paper\"},{\"font\":{\"size\":16},\"showarrow\":false,\"text\":\"Residual\",\"x\":0.5,\"xanchor\":\"center\",\"xref\":\"paper\",\"y\":0.22222222222222224,\"yanchor\":\"bottom\",\"yref\":\"paper\"}],\"height\":800,\"width\":1200,\"showlegend\":false},                        {\"responsive\": true}                    ).then(function(){\n",
       "                            \n",
       "var gd = document.getElementById('55b8713a-e11d-450d-8dd3-59db180eb71e');\n",
       "var x = new MutationObserver(function (mutations, observer) {{\n",
       "        var display = window.getComputedStyle(gd).display;\n",
       "        if (!display || display === 'none') {{\n",
       "            console.log([gd, 'removed!']);\n",
       "            Plotly.purge(gd);\n",
       "            observer.disconnect();\n",
       "        }}\n",
       "}});\n",
       "\n",
       "// Listen for the removal of the full notebook cells\n",
       "var notebookContainer = gd.closest('#notebook-container');\n",
       "if (notebookContainer) {{\n",
       "    x.observe(notebookContainer, {childList: true});\n",
       "}}\n",
       "\n",
       "// Listen for the clearing of the current output cell\n",
       "var outputEl = gd.closest('.output');\n",
       "if (outputEl) {{\n",
       "    x.observe(outputEl, {childList: true});\n",
       "}}\n",
       "\n",
       "                        })                };                });            </script>        </div>"
      ]
     },
     "metadata": {},
     "output_type": "display_data"
    }
   ],
   "source": [
    "cols = [\"Trend\", \"Seasonal\", \"Residual\"]\n",
    "\n",
    "fig = make_subplots(rows=3, cols=1, subplot_titles=cols)\n",
    "\n",
    "for i, col in enumerate(cols):\n",
    "    fig.add_trace(\n",
    "        go.Scatter(x=Sightings_London_2.index, y=Sightings_London_2[col]),\n",
    "        row=i+1,\n",
    "        col=1)\n",
    "\n",
    "fig.update_layout(height=800, width=1200, showlegend=False)\n",
    "fig.show()"
   ]
  },
  {
   "cell_type": "code",
   "execution_count": null,
   "id": "bb3393c1-f418-4f0c-acd4-7d9c1e9b56a9",
   "metadata": {},
   "outputs": [],
   "source": []
  },
  {
   "cell_type": "code",
   "execution_count": null,
   "id": "b096718b-8778-45a7-8ed7-c715b24ad5ca",
   "metadata": {},
   "outputs": [],
   "source": []
  },
  {
   "cell_type": "code",
   "execution_count": null,
   "id": "575e68e8-543e-423f-9191-30565e9fc0d2",
   "metadata": {},
   "outputs": [],
   "source": []
  },
  {
   "cell_type": "markdown",
   "id": "217dd30d-4d62-4afd-98a5-c49a234f57c0",
   "metadata": {},
   "source": [
    "### Number of surveys per Year/Month"
   ]
  },
  {
   "cell_type": "code",
   "execution_count": null,
   "id": "f1a23d9b-57af-44b7-a31a-69aa915ce1c6",
   "metadata": {},
   "outputs": [],
   "source": []
  },
  {
   "cell_type": "code",
   "execution_count": null,
   "id": "779e08ca-47ad-4779-9f7d-fb3cd61ee7bb",
   "metadata": {},
   "outputs": [],
   "source": []
  },
  {
   "cell_type": "code",
   "execution_count": null,
   "id": "a58ce625-1605-4d7b-ae2e-18c1a3e5e768",
   "metadata": {},
   "outputs": [],
   "source": []
  },
  {
   "cell_type": "markdown",
   "id": "f3b9cfe1-c5b3-4f34-a976-a2ef3769d4bd",
   "metadata": {},
   "source": [
    "# Time Series Models"
   ]
  },
  {
   "cell_type": "code",
   "execution_count": null,
   "id": "63f399e1-0c0d-42f0-8ccd-4fc52e3f38c4",
   "metadata": {},
   "outputs": [],
   "source": []
  },
  {
   "cell_type": "code",
   "execution_count": null,
   "id": "8a187e02-3663-45dd-8fc2-3075d0ee35ca",
   "metadata": {},
   "outputs": [],
   "source": []
  },
  {
   "cell_type": "code",
   "execution_count": null,
   "id": "c406b04d-de9a-4351-a362-47f7f88565fd",
   "metadata": {},
   "outputs": [],
   "source": []
  },
  {
   "cell_type": "code",
   "execution_count": null,
   "id": "13071c19-0983-4cc4-9012-0b9d90d99ae8",
   "metadata": {},
   "outputs": [],
   "source": []
  },
  {
   "cell_type": "code",
   "execution_count": null,
   "id": "9f152466-ede7-4525-ae7e-aa66e26d0ab3",
   "metadata": {},
   "outputs": [],
   "source": []
  },
  {
   "cell_type": "code",
   "execution_count": null,
   "id": "e71c02f3-4c62-4439-896b-44636836a21f",
   "metadata": {},
   "outputs": [],
   "source": []
  },
  {
   "cell_type": "code",
   "execution_count": null,
   "id": "fef01481-a069-476f-b5ee-492f882bb190",
   "metadata": {},
   "outputs": [],
   "source": []
  },
  {
   "cell_type": "code",
   "execution_count": null,
   "id": "305caced-9641-4e6a-b041-75b8b13ac8de",
   "metadata": {},
   "outputs": [],
   "source": []
  },
  {
   "cell_type": "code",
   "execution_count": null,
   "id": "00cd1555-ce75-4a48-abd6-7bc4f96777f5",
   "metadata": {},
   "outputs": [],
   "source": []
  },
  {
   "cell_type": "markdown",
   "id": "4a408f12-726b-4078-a899-ec8e04722ea4",
   "metadata": {},
   "source": [
    "# Model Evaluation"
   ]
  },
  {
   "cell_type": "code",
   "execution_count": null,
   "id": "6f35d9a9-8351-49a2-bad7-b1cdb01e8722",
   "metadata": {},
   "outputs": [],
   "source": []
  },
  {
   "cell_type": "code",
   "execution_count": null,
   "id": "b6867ff2-e020-4d56-afed-2da55ffbe07e",
   "metadata": {},
   "outputs": [],
   "source": []
  },
  {
   "cell_type": "code",
   "execution_count": null,
   "id": "e684ae37-d6fe-42f4-861e-46d2c8cfc91d",
   "metadata": {},
   "outputs": [],
   "source": []
  },
  {
   "cell_type": "code",
   "execution_count": null,
   "id": "374c5f3a-a877-42af-9825-e37bfa96920c",
   "metadata": {},
   "outputs": [],
   "source": []
  },
  {
   "cell_type": "code",
   "execution_count": null,
   "id": "f4925fcb-58ab-45da-8da1-a7932b5a4c72",
   "metadata": {},
   "outputs": [],
   "source": []
  },
  {
   "cell_type": "code",
   "execution_count": null,
   "id": "025cabe9-9f11-4d99-bb2f-c7fcad4bb956",
   "metadata": {},
   "outputs": [],
   "source": []
  },
  {
   "cell_type": "markdown",
   "id": "99e7fa56-aafb-41f4-a590-aecb3630ac3e",
   "metadata": {},
   "source": [
    "# Next steps\n",
    "\n",
    "(Personal notes)\n",
    "- Butterfly data:\n",
    "    - Regroup sightings London by week or month (depending on external info found)\n",
    "    - Transform into index? Log?\n",
    "    - EDA - Describe observations:\n",
    "        - Missing data points?\n",
    "        - Note that we can't have duplicated rows\n",
    "        - Exclude 2020 for pandemic? first years?\n",
    "        - General trend\n",
    "        - Seasonal pattern (cross info with flight duration?)\n",
    "    - Baseline model: Univariate model SARIMAX\n",
    "    - Find average data external info London:\n",
    "        - Air quality: which pollutant to consider?\n",
    "        - Weather: Temperatures, rainfall, wind, ...\n",
    "    - Scale?\n",
    "    - Multivariate models:\n",
    "        - Check stationarity (Dickey–Fuller test)\n",
    "        - VAR model (captures seasonality - needed?) / mSSA / Prophet / LSTM? / Kats? / Random forest? => Each needs stationarity?\n",
    "        - Test causality (!! data needs to be non stationnary?)\n",
    "        - Tune with predictions for external factors (Net Zero / Air quality... depending on which var is predictive of B pop)\n",
    "\n",
    "__Question__: do you need to specify different lag per metric (like temperature has an impact 2 months after, pollutant 1 month after...)?\n",
    "\n",
    "__NOTE__: how many months / year do we want to predict?\n",
    "\n",
    "- Gather data about positive efforts towards environement in London:\n",
    "    - Butterfly conservation efforts\n",
    "    - No emission zone start dates\n",
    "- Study by species:\n",
    "    - Trend by species? Scatter coeff trend VS each LepTraits?\n",
    "    - Group by vulnerability? Scatter London coeff trend VS UK vulnerability group? (attention: Zoom on London)"
   ]
  },
  {
   "cell_type": "markdown",
   "id": "146df24f-8aeb-4f41-96c9-4db794874098",
   "metadata": {},
   "source": [
    "# _Tests"
   ]
  },
  {
   "cell_type": "markdown",
   "id": "f93c6678-ee96-4a75-9d38-cf5ada91cbcf",
   "metadata": {
    "jp-MarkdownHeadingCollapsed": true
   },
   "source": [
    "## Var Model"
   ]
  },
  {
   "cell_type": "code",
   "execution_count": null,
   "id": "0b67a43e-8e9b-4fbd-b45e-f6c5eb7594d3",
   "metadata": {},
   "outputs": [],
   "source": [
    "import statsmodels.api as sm\n",
    "from statsmodels.tsa.api import VAR\n",
    "mdata = sm.datasets.macrodata.load_pandas().data\n",
    "mdata.head()"
   ]
  },
  {
   "cell_type": "code",
   "execution_count": null,
   "id": "1b375a2d-52de-462f-ba39-2ab9a41a953b",
   "metadata": {},
   "outputs": [],
   "source": [
    "# prepare the dates index\n",
    "dates = mdata[['year', 'quarter']].astype(int).astype(str)\n",
    "quarterly = dates[\"year\"] + \"Q\" + dates[\"quarter\"]\n",
    "quarterly.head()"
   ]
  },
  {
   "cell_type": "code",
   "execution_count": null,
   "id": "e3106b01-6049-4536-a69e-8bdfb03cb998",
   "metadata": {},
   "outputs": [],
   "source": [
    "from statsmodels.tsa.base.datetools import dates_from_str\n",
    "quarterly = dates_from_str(quarterly)\n",
    "quarterly"
   ]
  },
  {
   "cell_type": "code",
   "execution_count": null,
   "id": "1962a7b2-1a3b-42e0-aba9-c0866932b017",
   "metadata": {},
   "outputs": [],
   "source": [
    "In [10]: mdata = mdata[['realgdp','realcons','realinv']]\n",
    "mdata.head()"
   ]
  },
  {
   "cell_type": "code",
   "execution_count": null,
   "id": "a599c6f0-7e84-4a55-9e16-df8414b1dc80",
   "metadata": {},
   "outputs": [],
   "source": [
    "import pandas \n",
    "mdata.index = pandas.DatetimeIndex(quarterly)\n",
    "mdata.head()"
   ]
  },
  {
   "cell_type": "code",
   "execution_count": null,
   "id": "07728d5b-bb9a-433e-9f0c-8ff27d409cf5",
   "metadata": {},
   "outputs": [],
   "source": [
    "import numpy as np\n",
    "data = np.log(mdata).diff().dropna()\n",
    "data.tail()"
   ]
  },
  {
   "cell_type": "code",
   "execution_count": null,
   "id": "5c48afac-f954-4bb8-a546-e0de3990919c",
   "metadata": {},
   "outputs": [],
   "source": [
    "model = VAR(data)"
   ]
  },
  {
   "cell_type": "code",
   "execution_count": null,
   "id": "ccf754d8-b056-4c2e-ba99-1a339f887a44",
   "metadata": {},
   "outputs": [],
   "source": [
    "results = model.fit(2)\n",
    "results.summary()"
   ]
  },
  {
   "cell_type": "code",
   "execution_count": null,
   "id": "d662668c-9b82-4a78-aab5-f9649d5a4875",
   "metadata": {},
   "outputs": [],
   "source": [
    "results.plot()"
   ]
  },
  {
   "cell_type": "code",
   "execution_count": null,
   "id": "8b007abd-3228-4b06-bd62-2ec23019d2ed",
   "metadata": {},
   "outputs": [],
   "source": [
    "results.plot_acorr()"
   ]
  },
  {
   "cell_type": "code",
   "execution_count": null,
   "id": "4e0c177b-a88e-486e-bfbb-09ffcb019eeb",
   "metadata": {},
   "outputs": [],
   "source": [
    "model.select_order(15)"
   ]
  },
  {
   "cell_type": "code",
   "execution_count": null,
   "id": "0a43edbd-d1df-46dc-91ed-7778abdee5db",
   "metadata": {},
   "outputs": [],
   "source": [
    "results.test_causality('realgdp', ['realinv', 'realcons'], kind='wald', signif=0.9)"
   ]
  },
  {
   "cell_type": "code",
   "execution_count": null,
   "id": "b4e2ad28-d5db-407f-bb50-6c0ca5dd6799",
   "metadata": {},
   "outputs": [],
   "source": []
  },
  {
   "cell_type": "code",
   "execution_count": null,
   "id": "22fd8054-65c3-47f1-8b93-0cf91856133d",
   "metadata": {},
   "outputs": [],
   "source": []
  },
  {
   "cell_type": "code",
   "execution_count": null,
   "id": "320b9631-a592-43fd-b019-ed0c22bcfc0f",
   "metadata": {},
   "outputs": [],
   "source": []
  },
  {
   "cell_type": "code",
   "execution_count": null,
   "id": "44c6b2b1-7be6-4796-8ccd-e951967e1e9c",
   "metadata": {},
   "outputs": [],
   "source": []
  },
  {
   "cell_type": "markdown",
   "id": "033e404d-63a5-4438-ad02-4925561effd8",
   "metadata": {},
   "source": [
    "# _Archives"
   ]
  },
  {
   "cell_type": "markdown",
   "id": "cd6f79a7-ef74-4234-9e01-fba569c926d9",
   "metadata": {
    "jp-MarkdownHeadingCollapsed": true
   },
   "source": [
    "## D3 - UK Weighted Sightings"
   ]
  },
  {
   "cell_type": "code",
   "execution_count": null,
   "id": "041c9324-e8d1-4659-8ea7-979a3650b981",
   "metadata": {},
   "outputs": [],
   "source": [
    "df_Sightings_Year_Weighted = pd.read_csv('data/Sightings_year_weighted.csv')"
   ]
  },
  {
   "cell_type": "code",
   "execution_count": null,
   "id": "48827c1c-6766-4151-bf07-ab0fec0edad5",
   "metadata": {},
   "outputs": [],
   "source": [
    "df_Sightings_Year_Weighted.head()"
   ]
  },
  {
   "cell_type": "code",
   "execution_count": null,
   "id": "60452cd1-4473-45e5-94b5-4bcd21b7de49",
   "metadata": {},
   "outputs": [],
   "source": [
    "df_Sightings_Year_Weighted.shape"
   ]
  },
  {
   "cell_type": "code",
   "execution_count": null,
   "id": "6b04111e-5f64-42ee-bc7f-5cd085a2a42a",
   "metadata": {},
   "outputs": [],
   "source": [
    "df_Sightings_Year_Weighted['Start_date_year'].min()"
   ]
  },
  {
   "cell_type": "code",
   "execution_count": null,
   "id": "f93ad06f-2934-4b02-b5fb-f654c2dc11cd",
   "metadata": {},
   "outputs": [],
   "source": [
    "df_Sightings_Year_Weighted['Start_date_year'].max()"
   ]
  },
  {
   "cell_type": "markdown",
   "id": "1b63758a-1b80-49a2-ad81-8baf241460fe",
   "metadata": {},
   "source": [
    "## Weather / Sightings correlation?\n",
    "\n",
    "Notes: Test with London temperatures for whole UK Sightings - need to be updated to UK weather data"
   ]
  },
  {
   "cell_type": "code",
   "execution_count": null,
   "id": "5645dcf8-9824-4fe6-8aaa-2202362b7dc7",
   "metadata": {},
   "outputs": [],
   "source": [
    "df_london_weather2 = df_london_weather[(df_london_weather['yyyy'] >= 2001) & (df_london_weather['yyyy'] <= 2020)]\n",
    "df_london_weather2"
   ]
  },
  {
   "cell_type": "code",
   "execution_count": null,
   "id": "57319c0f-317f-4575-af31-dbc68f5a938e",
   "metadata": {},
   "outputs": [],
   "source": [
    "df_london_weather2 = pd.DataFrame(df_london_weather2.groupby('yyyy')['tmax'].mean()).reset_index()"
   ]
  },
  {
   "cell_type": "code",
   "execution_count": null,
   "id": "246e35f8-b874-48e1-a27e-b6fbf78238d7",
   "metadata": {},
   "outputs": [],
   "source": [
    "# Merge Sightings and Weather\n",
    "df_Sightings_Year_Weighted2 = pd.merge(df_Sightings_Year_Weighted, df_london_weather2, left_on='Start_date_year', right_on='yyyy', \n",
    "                                       how='left')"
   ]
  },
  {
   "cell_type": "code",
   "execution_count": null,
   "id": "5f4a9e9a-62a5-45d7-8331-66fcd200620c",
   "metadata": {},
   "outputs": [],
   "source": [
    "df_Sightings_Year_Weighted2 = df_Sightings_Year_Weighted2.drop(columns=['Unnamed: 0', 'index', 'count', 'weight', 'yyyy'])"
   ]
  },
  {
   "cell_type": "code",
   "execution_count": null,
   "id": "c1500b7f-3402-4524-9015-066c79f21f04",
   "metadata": {},
   "outputs": [],
   "source": [
    "plt.subplots(1,2, figsize=[15,6])\n",
    "\n",
    "plt.subplot(1,2,1)\n",
    "plt.plot(df_Sightings_Year_Weighted2['Start_date_year'], df_Sightings_Year_Weighted2['tmax'])\n",
    "plt.title('Temperatures')\n",
    "\n",
    "plt.subplot(1,2,2)\n",
    "plt.plot(df_Sightings_Year_Weighted2['Start_date_year'], df_Sightings_Year_Weighted2['counts_weighted'])\n",
    "plt.title('Weighted sightings')\n",
    "\n",
    "plt.tight_layout()\n",
    "plt.show()"
   ]
  },
  {
   "cell_type": "code",
   "execution_count": null,
   "id": "3f1d4733-c41d-4159-8661-0752059d1016",
   "metadata": {},
   "outputs": [],
   "source": [
    "sns.heatmap(df_Sightings_Year_Weighted2.corr(), annot=True)"
   ]
  },
  {
   "cell_type": "code",
   "execution_count": null,
   "id": "9be6d4bc-dd0b-40a6-be69-4ea28bf2af4b",
   "metadata": {},
   "outputs": [],
   "source": [
    "stats.pearsonr(df_Sightings_Year_Weighted2['tmax'], df_Sightings_Year_Weighted2['counts_weighted'])"
   ]
  },
  {
   "cell_type": "code",
   "execution_count": null,
   "id": "9e6f2d8f-e076-4867-a36d-fcb20d21ecb0",
   "metadata": {},
   "outputs": [],
   "source": [
    "stats.pearsonr(df_Sightings_Year_Weighted2['tmax'], df_Sightings_Year_Weighted2['Start_date_year'])"
   ]
  },
  {
   "cell_type": "code",
   "execution_count": null,
   "id": "12d98c9c-bdec-4506-aaf1-2fcee4fb8e8e",
   "metadata": {},
   "outputs": [],
   "source": []
  }
 ],
 "metadata": {
  "kernelspec": {
   "display_name": "Python 3 (ipykernel)",
   "language": "python",
   "name": "python3"
  },
  "language_info": {
   "codemirror_mode": {
    "name": "ipython",
    "version": 3
   },
   "file_extension": ".py",
   "mimetype": "text/x-python",
   "name": "python",
   "nbconvert_exporter": "python",
   "pygments_lexer": "ipython3",
   "version": "3.11.7"
  }
 },
 "nbformat": 4,
 "nbformat_minor": 5
}
