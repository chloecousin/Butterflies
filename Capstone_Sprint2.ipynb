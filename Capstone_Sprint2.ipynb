version https://git-lfs.github.com/spec/v1
oid sha256:64ab92411be9e02d107c367aab377be4a00f87d7bd7169348a7cba5194e401fb
size 58164953
