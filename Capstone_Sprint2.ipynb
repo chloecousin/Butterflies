version https://git-lfs.github.com/spec/v1
oid sha256:b32938cefa8fa629d1ea0dc59f3875e7320c9ef6305e0af2a8d9f0e891623d7a
size 58202029
